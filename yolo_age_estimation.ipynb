{
 "cells": [
  {
   "cell_type": "markdown",
   "id": "1f7c8228",
   "metadata": {},
   "source": [
    "# Age Estimation using the YOLO algorithm"
   ]
  },
  {
   "cell_type": "markdown",
   "id": "933d7482",
   "metadata": {},
   "source": [
    "Authors: Isak Killingrød, Jon A B Larssen, Jon I J Skånøy"
   ]
  },
  {
   "cell_type": "markdown",
   "id": "a5ca1066",
   "metadata": {},
   "source": [
    "About"
   ]
  },
  {
   "cell_type": "markdown",
   "id": "422be640",
   "metadata": {},
   "source": [
    "## Setup"
   ]
  },
  {
   "cell_type": "markdown",
   "id": "3fc03f11",
   "metadata": {},
   "source": [
    "### Imports"
   ]
  },
  {
   "cell_type": "code",
   "execution_count": 1,
   "id": "9ef86e36-d6f5-45ca-b0a4-a5512e97d52a",
   "metadata": {},
   "outputs": [],
   "source": [
    "# %matplotlib inline\n",
    "from tqdm.notebook import tqdm"
   ]
  },
  {
   "cell_type": "code",
   "execution_count": 2,
   "id": "ca2c9072",
   "metadata": {},
   "outputs": [],
   "source": [
    "import os\n",
    "import shutil\n",
    "import requests\n",
    "import tarfile\n",
    "from requests.auth import HTTPBasicAuth\n",
    "import torch\n",
    "import torchvision.transforms as transforms\n",
    "import pandas as pd\n",
    "import matplotlib.pyplot as plt\n",
    "import seaborn as sns\n",
    "from PIL import Image\n",
    "import numpy as np\n",
    "import re\n",
    "import cv2\n",
    "from concurrent.futures import ThreadPoolExecutor\n",
    "import glob\n",
    "from pathlib import Path\n",
    "import yaml\n",
    "import json\n",
    "from datetime import datetime\n",
    "import time\n",
    "import optuna\n",
    "from optuna.trial import TrialState\n",
    "from ultralytics import YOLO\n",
    "import platform\n",
    "from facenet_pytorch import MTCNN\n",
    "import warnings\n",
    "import optuna\n",
    "import random\n"
   ]
  },
  {
   "cell_type": "markdown",
   "id": "ad3ec8d7",
   "metadata": {},
   "source": [
    "### Config"
   ]
  },
  {
   "cell_type": "code",
   "execution_count": 3,
   "id": "f64c326d",
   "metadata": {},
   "outputs": [],
   "source": [
    "# os.environ['CUDA_VISIBLE_DEVICES'] = '1' # TODO: TEMP DEV"
   ]
  },
  {
   "cell_type": "code",
   "execution_count": 4,
   "id": "09d981bd",
   "metadata": {},
   "outputs": [],
   "source": [
    "warnings.filterwarnings(\"ignore\", category=UserWarning)"
   ]
  },
  {
   "cell_type": "code",
   "execution_count": 5,
   "id": "0c8c5d0e",
   "metadata": {},
   "outputs": [
    {
     "name": "stdout",
     "output_type": "stream",
     "text": [
      "Running on Windows\n"
     ]
    }
   ],
   "source": [
    "if platform.system() == \"Windows\":\n",
    "    print(\"Running on Windows\")\n",
    "    STORAGE = 'merged'\n",
    "    MODEL_SIZES = ['n', 's', 'm', 'l','x']\n",
    "    MODEL_VERSIONS = [8,9,10,11,12]\n",
    "    IMAGE_SIZE = 416\n",
    "elif platform.system() == \"Linux\":\n",
    "    print(\"Running on Linux\")\n",
    "    STORAGE = 'YOLO_NB_SERVER'\n",
    "    MODEL_SIZES = ['x', 'l', 'm', 's', 'n']\n",
    "    MODEL_VERSIONS = [12,11,10,9,8]\n",
    "    IMAGE_SIZE = 416\n",
    "else:\n",
    "    print(f\"Running on {platform.system()}\")\n",
    "    STORAGE = 'YOLO_NB_UNKNOWN'"
   ]
  },
  {
   "cell_type": "code",
   "execution_count": null,
   "id": "46899e94",
   "metadata": {},
   "outputs": [],
   "source": [
    "SPEEDRUN = True # Only for testing notebook functionality\n",
    "USE_MAX_BATCH = True"
   ]
  },
  {
   "cell_type": "code",
   "execution_count": 7,
   "id": "d5e96688",
   "metadata": {},
   "outputs": [],
   "source": [
    "RUN_OPTUNA = True\n",
    "MERGE_DB = False\n",
    "RUN_EXP_MODEL_SIZES = False\n",
    "RUN_EXP_DATA_AUGMENTATION = False\n",
    "RUN_EXP_MODEL_VERSIONS = False"
   ]
  },
  {
   "cell_type": "code",
   "execution_count": 8,
   "id": "261320da-0e61-4990-b4c4-69ad8a95a40f",
   "metadata": {},
   "outputs": [],
   "source": [
    "NUM_WORKERS = os.cpu_count() // 3 # For preprocessing, not tuning or training"
   ]
  },
  {
   "cell_type": "code",
   "execution_count": 9,
   "id": "7c2d0613",
   "metadata": {},
   "outputs": [],
   "source": [
    "USERNAME = 'adiencedb'\n",
    "PASSWORD = 'adience'"
   ]
  },
  {
   "cell_type": "code",
   "execution_count": 10,
   "id": "8b493c9b",
   "metadata": {},
   "outputs": [],
   "source": [
    "DATA_DIR = 'data'\n",
    "BASE_URL = 'http://www.cslab.openu.ac.il/download/adiencedb/AdienceBenchmarkOfUnfilteredFacesForGenderAndAgeClassification/'\n",
    "ARCHIVE_URL = BASE_URL + \"faces.tar.gz\"\n",
    "ARCHIVE_PATH = os.path.join(DATA_DIR, \"faces.tar.gz\")"
   ]
  },
  {
   "cell_type": "markdown",
   "id": "475c44df",
   "metadata": {
    "jp-MarkdownHeadingCollapsed": true
   },
   "source": [
    "### Functions"
   ]
  },
  {
   "cell_type": "markdown",
   "id": "d68fe776",
   "metadata": {},
   "source": [
    "#### Utils"
   ]
  },
  {
   "cell_type": "code",
   "execution_count": 11,
   "id": "149892ee",
   "metadata": {},
   "outputs": [],
   "source": [
    "def show_sample_with_bbox(img_path, label_path, creator):\n",
    "    \"\"\"Display an image with its bounding box\"\"\"\n",
    "    # TODO: Make it plot 3 samples in a 1 x 3 subplot\n",
    "    # Load image\n",
    "    img = Image.open(img_path)\n",
    "    img_w, img_h = img.size\n",
    "    \n",
    "    # Load label\n",
    "    with open(label_path, 'r') as f:\n",
    "        line = f.readline().strip().split()\n",
    "        class_id = int(line[0])\n",
    "        x_center, y_center, width, height = map(float, line[1:5])\n",
    "    \n",
    "    # Convert YOLO format to pixel coordinates\n",
    "    x1 = int((x_center - width/2) * img_w)\n",
    "    y1 = int((y_center - height/2) * img_h)\n",
    "    x2 = int((x_center + width/2) * img_w)\n",
    "    y2 = int((y_center + height/2) * img_h)\n",
    "    \n",
    "    # Plot\n",
    "    plt.figure(figsize=(8, 8))\n",
    "    plt.imshow(np.array(img))\n",
    "    plt.gca().add_patch(plt.Rectangle((x1, y1), x2-x1, y2-y1, fill=False, edgecolor='red', linewidth=2))\n",
    "    \n",
    "    # Label with age category\n",
    "    age_category = creator.age_categories[class_id]\n",
    "    plt.title(f\"Age Category: {age_category[0]}-{age_category[1]} years\")\n",
    "    plt.axis('off')\n",
    "    plt.show()"
   ]
  },
  {
   "cell_type": "code",
   "execution_count": 12,
   "id": "43bd1706-6a1f-46ae-a76d-253ef997ee13",
   "metadata": {},
   "outputs": [],
   "source": [
    "def get_model_filename(version, size):\n",
    "\n",
    "    version = str(version).lower()\n",
    "    size = size.lower()\n",
    "\n",
    "    if version == '9':\n",
    "        model_map = {\n",
    "            'n': 'yolov9t.pt',\n",
    "            's': 'yolov9s.pt',\n",
    "            'm': 'yolov9m.pt',\n",
    "            'l': 'yolov9c.pt',\n",
    "            'x': 'yolov9e.pt',\n",
    "        }\n",
    "        return model_map[size]\n",
    "\n",
    "    if version in ['8', '10']:\n",
    "        return f'yolov{version}{size}.pt'\n",
    "    elif version in ['11', '12']:\n",
    "        return f'yolo{version}{size}.pt'"
   ]
  },
  {
   "cell_type": "code",
   "execution_count": 13,
   "id": "99e4f936",
   "metadata": {},
   "outputs": [],
   "source": [
    "def check_default_boxes(base_dir='data/age_dataset_tune'):\n",
    "\n",
    "    for split in ['train', 'val']:\n",
    "        label_dir = os.path.join(base_dir, 'labels', split)\n",
    "        label_files = glob.glob(os.path.join(label_dir, '*.txt'))\n",
    "        \n",
    "        if not label_files:\n",
    "            print(f\"  No label files found in {label_dir}. Skipping...\")\n",
    "            continue\n",
    "        \n",
    "        default_boxes = 0\n",
    "        for file in label_files:\n",
    "            with open(file, 'r') as f:\n",
    "                parts = f.readline().strip().split()\n",
    "                if len(parts) == 5:\n",
    "                    _, x, y, w, h = map(float, parts)\n",
    "                    if abs(x - 0.5) < 0.05 and abs(y - 0.5) < 0.05 and abs(w - 0.8) < 0.05 and abs(h - 0.8) < 0.05:\n",
    "                        default_boxes += 1\n",
    "        \n",
    "        total_files = len(label_files)\n",
    "        percent = (default_boxes / total_files) * 100\n",
    "        print(f\"  {split.capitalize()} set: {default_boxes}/{total_files} default boxes ({percent:.2f}%)\")"
   ]
  },
  {
   "cell_type": "markdown",
   "id": "c6764ef8",
   "metadata": {},
   "source": [
    "#### Tuning"
   ]
  },
  {
   "cell_type": "code",
   "execution_count": null,
   "id": "8c49e27f",
   "metadata": {},
   "outputs": [],
   "source": [
    "def make_objective(model_path, data_yaml, imgsz, device, epochs_per_trial):\n",
    "    def objective(trial):\n",
    "        params = {\n",
    "            'lr0': trial.suggest_float('lr0', 1e-5, 1e-1, log=True),\n",
    "            'lrf': trial.suggest_float('lrf', 0.01, 1.0),\n",
    "            'momentum': trial.suggest_float('momentum', 0.6, 0.98),\n",
    "            'weight_decay': trial.suggest_float('weight_decay', 0.0001, 0.001, log=True),\n",
    "            'warmup_epochs': trial.suggest_int('warmup_epochs', 1, 5),\n",
    "            'warmup_momentum': trial.suggest_float('warmup_momentum', 0.5, 0.95),\n",
    "            'box': trial.suggest_float('box', 0.02, 0.2),\n",
    "            'cls': trial.suggest_float('cls', 0.2, 4.0),\n",
    "            'hsv_h': trial.suggest_float('hsv_h', 0.0, 0.1),\n",
    "            'hsv_s': trial.suggest_float('hsv_s', 0.5, 0.9),\n",
    "            'hsv_v': trial.suggest_float('hsv_v', 0.5, 0.9),\n",
    "            'degrees': trial.suggest_float('degrees', 0.0, 45.0),\n",
    "            'translate': trial.suggest_float('translate', 0.0, 0.5),\n",
    "            'scale': trial.suggest_float('scale', 0.0, 0.5),\n",
    "            'fliplr': trial.suggest_float('fliplr', 0.0, 0.5),\n",
    "            'mosaic': trial.suggest_float('mosaic', 0.0, 1.0),\n",
    "            'batch': trial.suggest_int('batch', 32, 32) if not SPEEDRUN else 0.9,  # TEMPDEV\n",
    "            'imgsz': trial.suggest_int('imgsz', imgsz, imgsz),\n",
    "            'optimizer': 'AdamW',\n",
    "            'fraction': 1.0 if not SPEEDRUN else 0.1 # TEMPDEV\n",
    "            \n",
    "        }\n",
    "\n",
    "        try:\n",
    "            model = YOLO(model_path)\n",
    "            results = model.train(\n",
    "                data=data_yaml,\n",
    "                cache='disk',\n",
    "                workers=1,\n",
    "                epochs=epochs_per_trial,\n",
    "                device=device,\n",
    "                verbose=False,\n",
    "                plots=True if not SPEEDRUN else False,\n",
    "                **params\n",
    "            )\n",
    "            return float(results.fitness) if hasattr(results, 'fitness') else 0.0\n",
    "        except Exception as e:\n",
    "            print(f\"❌ Trial failed with error: {e}\")\n",
    "            return 0.0\n",
    "    return objective"
   ]
  },
  {
   "cell_type": "code",
   "execution_count": 15,
   "id": "39170be0-3b95-43f0-9476-b3a3739bb481",
   "metadata": {},
   "outputs": [],
   "source": [
    "def run_optuna_tuning(\n",
    "    data_yaml,\n",
    "    model_size='n',\n",
    "    output_dir='runs/tune_optuna',\n",
    "    imgsz=416,\n",
    "    n_trials=40,\n",
    "    epochs_per_trial=30,\n",
    "    model_version=8,\n",
    "    device='0'):\n",
    "\n",
    "    timestamp = datetime.now().strftime('%Y%m%d_%H%M%S')\n",
    "    run_name = f\"optuna_v{model_version}_{model_size}_{timestamp}\"\n",
    "    output_path = os.path.join(output_dir, run_name)\n",
    "    os.makedirs(output_path, exist_ok=True)\n",
    "\n",
    "    try:\n",
    "        model_path = get_model_filename(model_version, model_size)\n",
    "    except ValueError as e:\n",
    "        print(f\"❌ Invalid model request: {e}\")\n",
    "        return {}, 0.0\n",
    "\n",
    "    study_name = f\"yolo_v{model_version}{model_size}\"\n",
    "    study_storage = f\"sqlite:///{STORAGE}.db\"\n",
    "\n",
    "    try:\n",
    "        summaries = optuna.study.get_all_study_summaries(storage=study_storage)\n",
    "    except Exception as e:\n",
    "        print(f\"❌ Failed to load Optuna study summaries: {e}\")\n",
    "        return {}, 0.0\n",
    "\n",
    "    existing_study = next((s for s in summaries if s.study_name == study_name), None)\n",
    "    existing_trials = existing_study.n_trials if existing_study else 0\n",
    "\n",
    "    if existing_trials >= n_trials:\n",
    "        print(f\"⏩ Skipping tuning: {existing_trials} completed trials already (target was {n_trials}).\")\n",
    "        try:\n",
    "            study = optuna.load_study(study_name=study_name, storage=study_storage)\n",
    "            if len(study.trials) == 0 or study.best_trial is None:\n",
    "                print(\"⚠️ Study exists but has no valid completed trials.\")\n",
    "                return {}, 0.0\n",
    "            best_params = study.best_params\n",
    "            best_value = study.best_value\n",
    "        except ValueError as e:\n",
    "            print(f\"⚠️ Could not retrieve best trial: {e}\")\n",
    "            return {}, 0.0\n",
    "    else:\n",
    "        remaining_trials = n_trials - existing_trials\n",
    "        print(f\"🔄 Starting/resuming tuning: {remaining_trials} trials needed.\")\n",
    "        try:\n",
    "            study = optuna.create_study(\n",
    "                direction='maximize',\n",
    "                study_name=study_name,\n",
    "                storage=study_storage,\n",
    "                load_if_exists=True\n",
    "            )\n",
    "            objective = make_objective(model_path, data_yaml, imgsz, device, epochs_per_trial)\n",
    "            study.optimize(objective, n_trials=remaining_trials)\n",
    "\n",
    "            if len(study.trials) == 0 or study.best_trial is None:\n",
    "                print(\"⚠️ Tuning completed but no valid trials found.\")\n",
    "                return {}, 0.0\n",
    "\n",
    "            best_params = study.best_params\n",
    "            best_value = study.best_value\n",
    "        except Exception as e:\n",
    "            print(f\"❌ Failed during tuning process: {e}\")\n",
    "            return {}, 0.0\n",
    "\n",
    "    with open(os.path.join(output_path, f'best_params_v{model_version}_{model_size}.json'), 'w') as f:\n",
    "        json.dump(best_params, f, indent=4)\n",
    "\n",
    "    print(f\"\\n✅ Best result for YOLOv{model_version}-{model_size}: {best_value:.4f}\")\n",
    "    return best_params, best_value"
   ]
  },
  {
   "cell_type": "code",
   "execution_count": 16,
   "id": "5bb7561f",
   "metadata": {},
   "outputs": [],
   "source": [
    "def run_optuna_tuning_multi(\n",
    "    base_dataset_dir='data/age_dataset_tune',\n",
    "    model_sizes=['n', 's', 'm', 'l', 'x'],\n",
    "    model_versions=[8, 9, 10, 11, 12],\n",
    "    imgsz=416,\n",
    "    n_trials=10,\n",
    "    epochs_per_trial=30,\n",
    "    device='0',\n",
    "    output_base='runs/age_exp'\n",
    "):\n",
    "\n",
    "    data_yaml = os.path.join(base_dataset_dir, \"data.yaml\")\n",
    "\n",
    "    if not data_yaml:\n",
    "        print(f\"⚠️ No datasets found in: {base_dataset_dir}\")\n",
    "        return\n",
    "\n",
    "    print(f\"\\n📂 Evaluating dataset: {data_yaml}\")\n",
    "\n",
    "    for version in model_versions:\n",
    "        for size in model_sizes:\n",
    "            try:\n",
    "                model_filename = get_model_filename(version, size)\n",
    "            except ValueError as e:\n",
    "                print(f\"⏭️ Skipping unsupported model: YOLOv{version}-{size} ({e})\")\n",
    "                continue\n",
    "\n",
    "            dataset_name = Path(data_yaml).parent.name\n",
    "            run_name = f\"v{version}_{size}\"\n",
    "            output_dir = os.path.join(output_base, run_name)\n",
    "\n",
    "            print(f\"\\n{'='*100}\")\n",
    "            print(f\"🧪 Tuning: YOLOv{version}-{size} on dataset {dataset_name}\")\n",
    "            print(f\"{'='*100}\")\n",
    "\n",
    "            best_params, best_value = run_optuna_tuning(\n",
    "                data_yaml=data_yaml,\n",
    "                model_size=size,\n",
    "                model_version=version,\n",
    "                output_dir=output_dir,\n",
    "                imgsz=imgsz,\n",
    "                n_trials=n_trials,\n",
    "                epochs_per_trial=epochs_per_trial,\n",
    "                device=device\n",
    "            )"
   ]
  },
  {
   "cell_type": "code",
   "execution_count": 17,
   "id": "19ec1d0e",
   "metadata": {},
   "outputs": [],
   "source": [
    "def merge_optuna_databases(source_db_paths, target_db_path):\n",
    "    \"\"\"\n",
    "    Merge Optuna studies from multiple databases into a target database.\n",
    "\n",
    "    Args:\n",
    "        source_db_paths (list): List of SQLite database URIs to merge.\n",
    "        target_db_path (str): Target SQLite database URI.\n",
    "    \"\"\"\n",
    "    target_storage = optuna.storages.RDBStorage(url=target_db_path)\n",
    "\n",
    "    for db_path in source_db_paths:\n",
    "        source_storage = optuna.storages.RDBStorage(url=db_path)\n",
    "        study_summaries = optuna.get_all_study_summaries(storage=source_storage)\n",
    "        \n",
    "        for summary in study_summaries:\n",
    "            study = optuna.load_study(study_name=summary.study_name, storage=source_storage)\n",
    "            \n",
    "            try:\n",
    "                new_study = optuna.create_study(\n",
    "                    study_name=study.study_name,\n",
    "                    storage=target_storage,\n",
    "                    direction=study.direction\n",
    "                )\n",
    "            except optuna.exceptions.DuplicatedStudyError:\n",
    "                new_study = optuna.load_study(\n",
    "                    study_name=study.study_name,\n",
    "                    storage=target_storage\n",
    "                )\n",
    "            \n",
    "            for trial in study.get_trials(deepcopy=True, states=(TrialState.COMPLETE,)):\n",
    "                new_study.add_trial(trial)"
   ]
  },
  {
   "cell_type": "code",
   "execution_count": 18,
   "id": "2d54a621",
   "metadata": {},
   "outputs": [],
   "source": [
    "def extract_study_trials_to_dataframe(db_paths, filter_study_name=None, sort_by_value=True):\n",
    "    \"\"\"\n",
    "    Extract trials from Optuna databases into a DataFrame.\n",
    "\n",
    "    Args:\n",
    "        db_paths (list): List of database URIs.\n",
    "        filter_study_name (str, optional): Only include studies matching this name. Default: None.\n",
    "        sort_by_value (bool): Whether to sort trials by Value (ascending).\n",
    "\n",
    "    Returns:\n",
    "        pd.DataFrame: Trials information as a DataFrame.\n",
    "    \"\"\"\n",
    "    study_infos = []\n",
    "\n",
    "    for db_path in db_paths:\n",
    "        storage = optuna.storages.RDBStorage(url=db_path)\n",
    "        summaries = optuna.get_all_study_summaries(storage=storage)\n",
    "\n",
    "        for summary in summaries:\n",
    "            if filter_study_name and summary.study_name != filter_study_name:\n",
    "                continue\n",
    "            \n",
    "            study = optuna.load_study(study_name=summary.study_name, storage=storage)\n",
    "            completed_trials = [t for t in study.get_trials(deepcopy=False) if t.state == TrialState.COMPLETE]\n",
    "            completed_trials.sort(key=lambda x: x.value)\n",
    "            \n",
    "            for rank, trial in enumerate(completed_trials, 1):\n",
    "                study_infos.append({\n",
    "                    \"Database\": db_path,\n",
    "                    \"Study Name\": summary.study_name,\n",
    "                    \"Rank\": rank,\n",
    "                    \"Trial Number\": trial.number,\n",
    "                    \"Value\": trial.value,\n",
    "                    **trial.params\n",
    "                })\n",
    "\n",
    "    df = pd.DataFrame(study_infos)\n",
    "    \n",
    "    if sort_by_value:\n",
    "        df = df.sort_values(by=[\"Value\"], ascending=False)\n",
    "\n",
    "    return df"
   ]
  },
  {
   "cell_type": "markdown",
   "id": "e22a0895",
   "metadata": {},
   "source": [
    "#### Training"
   ]
  },
  {
   "cell_type": "code",
   "execution_count": 19,
   "id": "aeb8d492",
   "metadata": {},
   "outputs": [],
   "source": [
    "def get_best_params(study_path=None, study_name=None, db_path=None):\n",
    "    \n",
    "    if study_path and os.path.exists(study_path):\n",
    "        print(f\"Loading Optuna study from file: {study_path}\")\n",
    "        study = optuna.load_study(study_name=\"loaded_study\", storage=study_path)\n",
    "    elif db_path and study_name:\n",
    "        print(f\"Loading Optuna study from database: {db_path}, study name: {study_name}\")\n",
    "        study = optuna.load_study(study_name=study_name, storage=db_path)\n",
    "    else:\n",
    "        raise ValueError(\"Either study_path or (db_path and study_name) must be provided\")\n",
    "    \n",
    "    return study.best_params, study.best_value"
   ]
  },
  {
   "cell_type": "code",
   "execution_count": null,
   "id": "6ac9575c",
   "metadata": {},
   "outputs": [],
   "source": [
    "def train_model(data_yaml, model_size, model_v, training_params, run_id, epochs=100, device='0', project='runs/multi_runs', base_name=None):\n",
    "\n",
    "    start_time = time.time()\n",
    "    random_seed = random.randint(0, 10000)  # Generate a random seed for this run\n",
    "    print(f\"Run {run_id}: Using random seed {random_seed}\")\n",
    "    \n",
    "    # Set seeds\n",
    "    random.seed(random_seed)\n",
    "    np.random.seed(random_seed)\n",
    "    torch.manual_seed(random_seed)\n",
    "    if torch.cuda.is_available():\n",
    "        torch.cuda.manual_seed(random_seed)\n",
    "        torch.cuda.manual_seed_all(random_seed)\n",
    "        torch.backends.cudnn.deterministic = False\n",
    "        torch.backends.cudnn.benchmark = True if not SPEEDRUN else False # TEMPDEV\n",
    "    \n",
    "    if base_name is None:\n",
    "        base_name = f\"run_{datetime.now().strftime('%Y%m%d_%H%M%S')}\"\n",
    "    name = f\"{base_name}_run{run_id}\"\n",
    "\n",
    "    model_path = get_model_filename(model_v, model_size)\n",
    "    print(f\"Run {run_id}: Using model {model_path}\")\n",
    "    model = YOLO(model_path)\n",
    "    \n",
    "    training_params['seed'] = random_seed\n",
    "\n",
    "    # Train with the best parameters\n",
    "    print(f\"\\nRun {run_id}: Starting training for {epochs} epochs...\")\n",
    "    results = model.train(\n",
    "        data=data_yaml,\n",
    "        epochs=epochs,\n",
    "        cache='disk',\n",
    "        device=device,\n",
    "        project=project,\n",
    "        name=name,\n",
    "        verbose=False,\n",
    "        **training_params\n",
    "    )\n",
    "    \n",
    "    training_time = time.time() - start_time\n",
    "    run_dir = os.path.join(project, name)\n",
    "    print(f\"Run {run_id}: Training completed in {training_time / 3600:.2f} hours. Results saved to {run_dir}\")\n",
    "    \n",
    "    # Save the training time to a file\n",
    "    with open(os.path.join(run_dir, 'training_time.txt'), 'w') as f:\n",
    "        f.write(f\"Training Time: {training_time:.2f} seconds ({training_time / 3600:.2f} hours)\\n\")\n",
    "        f.write(f\"Run ID: {run_id}\\n\")\n",
    "        f.write(f\"Timestamp: {datetime.now().strftime('%Y-%m-%d %H:%M:%S')}\\n\")\n",
    "    \n",
    "    return results, run_dir, training_time"
   ]
  },
  {
   "cell_type": "code",
   "execution_count": 21,
   "id": "19de70ad",
   "metadata": {},
   "outputs": [],
   "source": [
    "def get_label_path(img_path):\n",
    "\n",
    "    img_path = Path(img_path)\n",
    "    \n",
    "    # Try common YOLO folder structures:\n",
    "    # 1. Standard YOLOv5/YOLOv8 structure: 'images/train' -> 'labels/train'\n",
    "    if 'images' in img_path.parts:\n",
    "        idx = img_path.parts.index('images')\n",
    "        label_path = Path(*img_path.parts[:idx], 'labels', *img_path.parts[idx+1:])\n",
    "        label_path = label_path.with_suffix('.txt')\n",
    "        if label_path.exists():\n",
    "            return str(label_path)\n",
    "    \n",
    "    # 2. Replace image extension with .txt in the same directory\n",
    "    label_path = img_path.with_suffix('.txt')\n",
    "    if label_path.exists():\n",
    "        return str(label_path)\n",
    "    \n",
    "    # 3. Check for a 'labels' directory at the same level as the image directory\n",
    "    parent_dir = img_path.parent\n",
    "    label_dir = parent_dir.parent / 'labels' / parent_dir.name\n",
    "    label_path = label_dir / img_path.name\n",
    "    label_path = label_path.with_suffix('.txt')\n",
    "    if label_path.exists():\n",
    "        return str(label_path)\n",
    "    \n",
    "    # 4. Default fallback: just replace extension\n",
    "    return str(img_path.with_suffix('.txt'))"
   ]
  },
  {
   "cell_type": "code",
   "execution_count": 22,
   "id": "0a32ffe6",
   "metadata": {},
   "outputs": [],
   "source": [
    "def calculate_accuracy(model, data_yaml, conf_threshold=0.1):\n",
    "\n",
    "    # Load dataset information\n",
    "    with open(data_yaml, 'r') as f:\n",
    "        data_config = yaml.safe_load(f)\n",
    "    \n",
    "    # Get the class names\n",
    "    class_names = data_config['names']\n",
    "    \n",
    "    # Get validation dataset path\n",
    "    val_path = data_config.get('val')\n",
    "    if not val_path:\n",
    "        raise ValueError(\"Validation set path not found in data.yaml\")\n",
    "    \n",
    "    # If val_path is relative, make it absolute based on the data.yaml location\n",
    "    data_dir = os.path.dirname(os.path.abspath(data_yaml))\n",
    "    if not os.path.isabs(val_path):\n",
    "        val_path = os.path.join(data_dir, val_path)\n",
    "    \n",
    "    # Get all image files\n",
    "    image_extensions = ['.jpg', '.jpeg', '.png', '.bmp', '.tiff']\n",
    "    image_files = []\n",
    "    \n",
    "    # Handle if val_path is a file with paths\n",
    "    if os.path.isfile(val_path) and val_path.endswith('.txt'):\n",
    "        with open(val_path, 'r') as f:\n",
    "            for line in f:\n",
    "                img_path = line.strip()\n",
    "                # Convert relative paths to absolute if needed\n",
    "                if not os.path.isabs(img_path):\n",
    "                    img_path = os.path.join(data_dir, img_path)\n",
    "                if os.path.exists(img_path):\n",
    "                    image_files.append(img_path)\n",
    "    # Handle if val_path is a directory\n",
    "    elif os.path.isdir(val_path):\n",
    "        for root, _, files in os.walk(val_path):\n",
    "            for file in files:\n",
    "                if any(file.lower().endswith(ext) for ext in image_extensions):\n",
    "                    image_files.append(os.path.join(root, file))\n",
    "    else:\n",
    "        raise ValueError(f\"Invalid validation path: {val_path}\")\n",
    "    \n",
    "    if not image_files:\n",
    "        raise ValueError(f\"No images found in validation set path: {val_path}\")\n",
    "    \n",
    "    print(f\"Found {len(image_files)} images in the validation set\")\n",
    "    \n",
    "    # Initialize counters\n",
    "    correct_predictions = 0\n",
    "    total_images = 0\n",
    "    results_dict = {\n",
    "        \"per_image\": [],\n",
    "        \"per_class\": {class_id: {\"correct\": 0, \"total\": 0} for class_id in class_names}\n",
    "    }\n",
    "    \n",
    "    # Process each image\n",
    "    for img_path in tqdm(image_files, desc=\"Evaluating images\"):\n",
    "        # Get corresponding label file\n",
    "        label_path = get_label_path(img_path)\n",
    "        \n",
    "        if not os.path.exists(label_path):\n",
    "            print(f\"Warning: No label file found for {img_path}\")\n",
    "            continue\n",
    "        \n",
    "        # Read ground truth labels\n",
    "        ground_truth_classes = []\n",
    "        with open(label_path, 'r') as f:\n",
    "            for line in f:\n",
    "                parts = line.strip().split()\n",
    "                if len(parts) >= 5:  # class_id x y w h\n",
    "                    class_id = int(float(parts[0]))\n",
    "                    ground_truth_classes.append(class_id)\n",
    "        \n",
    "        if not ground_truth_classes:\n",
    "            print(f\"Warning: No valid labels in {label_path}\")\n",
    "            continue\n",
    "        \n",
    "        # Run inference\n",
    "        results = model(img_path, conf=conf_threshold, verbose=False)[0]\n",
    "        \n",
    "        # Get predictions\n",
    "        predictions = results.boxes.data.cpu().numpy()\n",
    "        \n",
    "        # Sort predictions by confidence (descending)\n",
    "        if len(predictions) > 0:\n",
    "            # Sort by confidence (5th column, index 4)\n",
    "            predictions = predictions[predictions[:, 4].argsort()[::-1]]\n",
    "            \n",
    "            # Get the most confident prediction\n",
    "            most_confident_pred = predictions[0]\n",
    "            pred_class_id = int(most_confident_pred[5])\n",
    "            \n",
    "            # Check if prediction matches any ground truth\n",
    "            is_correct = pred_class_id in ground_truth_classes\n",
    "            \n",
    "            if is_correct:\n",
    "                correct_predictions += 1\n",
    "            \n",
    "            # Update per-class statistics\n",
    "            for gt_class in set(ground_truth_classes):  # Count each class only once per image\n",
    "                results_dict[\"per_class\"][gt_class][\"total\"] += 1\n",
    "                if is_correct and pred_class_id == gt_class:\n",
    "                    results_dict[\"per_class\"][gt_class][\"correct\"] += 1\n",
    "            \n",
    "            # Store per-image results\n",
    "            results_dict[\"per_image\"].append({\n",
    "                \"image_path\": img_path,\n",
    "                \"ground_truth\": [class_names[cls] for cls in ground_truth_classes],\n",
    "                \"prediction\": class_names[pred_class_id],\n",
    "                \"confidence\": float(most_confident_pred[4]),\n",
    "                \"correct\": is_correct\n",
    "            })\n",
    "        else:\n",
    "            # No detections\n",
    "            results_dict[\"per_image\"].append({\n",
    "                \"image_path\": img_path,\n",
    "                \"ground_truth\": [class_names[cls] for cls in ground_truth_classes],\n",
    "                \"prediction\": \"none\",\n",
    "                \"confidence\": 0.0,\n",
    "                \"correct\": False\n",
    "            })\n",
    "            \n",
    "            # Update per-class statistics (all are incorrect since no detection)\n",
    "            for gt_class in set(ground_truth_classes):\n",
    "                results_dict[\"per_class\"][gt_class][\"total\"] += 1\n",
    "        \n",
    "        total_images += 1\n",
    "    \n",
    "    # Calculate accuracy\n",
    "    accuracy = correct_predictions / total_images if total_images > 0 else 0\n",
    "    \n",
    "    # Calculate per-class accuracy\n",
    "    for class_id in results_dict[\"per_class\"]:\n",
    "        class_total = results_dict[\"per_class\"][class_id][\"total\"]\n",
    "        class_correct = results_dict[\"per_class\"][class_id][\"correct\"]\n",
    "        class_accuracy = class_correct / class_total if class_total > 0 else 0\n",
    "        results_dict[\"per_class\"][class_id][\"accuracy\"] = class_accuracy\n",
    "    \n",
    "    results_dict[\"overall_accuracy\"] = accuracy\n",
    "    results_dict[\"total_images\"] = total_images\n",
    "    results_dict[\"correct_predictions\"] = correct_predictions\n",
    "    \n",
    "    return accuracy, results_dict"
   ]
  },
  {
   "cell_type": "code",
   "execution_count": 23,
   "id": "3f38b44d",
   "metadata": {},
   "outputs": [],
   "source": [
    "def plot_confusion_matrix(cm, class_names, output_path, title='Confusion Matrix', normalize=False, figsize=(14, 12)):\n",
    "\n",
    "    plt.figure(figsize=figsize)\n",
    "    \n",
    "    # Use a different colormap for normalized vs raw\n",
    "    cmap = 'Blues' if normalize else 'Blues'\n",
    "    \n",
    "    # Create heatmap\n",
    "    sns.heatmap(\n",
    "        cm, \n",
    "        annot=True, \n",
    "        fmt='.2f' if normalize else 'd', \n",
    "        cmap=cmap,\n",
    "        xticklabels=class_names,\n",
    "        yticklabels=class_names,\n",
    "        cbar=False,\n",
    "        annot_kws={\"size\": 16}\n",
    "    )\n",
    "    \n",
    "    # Set labels and title\n",
    "    plt.ylabel('Ground Truth', fontsize=18)\n",
    "    plt.xlabel('Prediction', fontsize=18)\n",
    "    plt.title(title, fontsize=20)\n",
    "    \n",
    "    # Rotate tick labels if there are many classes\n",
    "    plt.xticks(fontsize=14, rotation=45)\n",
    "    plt.yticks(fontsize=14, rotation=0)\n",
    "    \n",
    "    # Tight layout to ensure everything fits\n",
    "    plt.tight_layout()\n",
    "    \n",
    "    # Save figure\n",
    "    plt.savefig(output_path, dpi=600, bbox_inches='tight')\n",
    "    plt.close()"
   ]
  },
  {
   "cell_type": "code",
   "execution_count": 24,
   "id": "5df56615",
   "metadata": {},
   "outputs": [],
   "source": [
    "def generate_confusion_matrix(model, data_yaml, conf_threshold=0.1, output_dir=None):\n",
    "\n",
    "    # Start timing\n",
    "    start_time = time.time()\n",
    "    \n",
    "    # Load dataset information\n",
    "    with open(data_yaml, 'r') as f:\n",
    "        data_config = yaml.safe_load(f)\n",
    "    \n",
    "    # Get the class names and number of classes\n",
    "    class_names = data_config['names']\n",
    "    num_classes = len(class_names)\n",
    "    \n",
    "    # Get validation dataset path\n",
    "    val_path = data_config.get('val')\n",
    "    if not val_path:\n",
    "        raise ValueError(\"Validation set path not found in data.yaml\")\n",
    "    \n",
    "    # If val_path is relative, make it absolute based on the data.yaml location\n",
    "    data_dir = os.path.dirname(os.path.abspath(data_yaml))\n",
    "    if not os.path.isabs(val_path):\n",
    "        val_path = os.path.join(data_dir, val_path)\n",
    "    \n",
    "    # Get all image files\n",
    "    image_extensions = ['.jpg', '.jpeg', '.png', '.bmp', '.tiff']\n",
    "    image_files = []\n",
    "    \n",
    "    # Handle if val_path is a file with paths\n",
    "    if os.path.isfile(val_path) and val_path.endswith('.txt'):\n",
    "        with open(val_path, 'r') as f:\n",
    "            for line in f:\n",
    "                img_path = line.strip()\n",
    "                # Convert relative paths to absolute if needed\n",
    "                if not os.path.isabs(img_path):\n",
    "                    img_path = os.path.join(data_dir, img_path)\n",
    "                if os.path.exists(img_path):\n",
    "                    image_files.append(img_path)\n",
    "    # Handle if val_path is a directory\n",
    "    elif os.path.isdir(val_path):\n",
    "        for root, _, files in os.walk(val_path):\n",
    "            for file in files:\n",
    "                if any(file.lower().endswith(ext) for ext in image_extensions):\n",
    "                    image_files.append(os.path.join(root, file))\n",
    "    else:\n",
    "        raise ValueError(f\"Invalid validation path: {val_path}\")\n",
    "    \n",
    "    if not image_files:\n",
    "        raise ValueError(f\"No images found in validation set path: {val_path}\")\n",
    "    \n",
    "    print(f\"Found {len(image_files)} images in the validation set\")\n",
    "    \n",
    "    # Initialize confusion matrix (rows: ground truth, columns: predictions)\n",
    "    # Add an extra class for \"no detection\"\n",
    "    confusion_matrix = np.zeros((num_classes, num_classes + 1), dtype=int)\n",
    "    \n",
    "    # Results dictionary for detailed information\n",
    "    results_dict = {\n",
    "        \"per_image\": [],\n",
    "        \"confusion_matrix\": None,\n",
    "        \"class_names\": class_names,\n",
    "    }\n",
    "    \n",
    "    # Process each image\n",
    "    for img_path in tqdm(image_files, desc=\"Generating confusion matrix\"):\n",
    "        # Get corresponding label file\n",
    "        label_path = get_label_path(img_path)\n",
    "        \n",
    "        if not os.path.exists(label_path):\n",
    "            print(f\"Warning: No label file found for {img_path}\")\n",
    "            continue\n",
    "        \n",
    "        # Read ground truth labels\n",
    "        ground_truth_classes = []\n",
    "        with open(label_path, 'r') as f:\n",
    "            for line in f:\n",
    "                parts = line.strip().split()\n",
    "                if len(parts) >= 5:  # class_id x y w h\n",
    "                    class_id = int(float(parts[0]))\n",
    "                    ground_truth_classes.append(class_id)\n",
    "        \n",
    "        if not ground_truth_classes:\n",
    "            print(f\"Warning: No valid labels in {label_path}\")\n",
    "            continue\n",
    "        \n",
    "        # Run inference\n",
    "        results = model(img_path, conf=conf_threshold,verbose=False )[0]\n",
    "        \n",
    "        # Get predictions\n",
    "        predictions = results.boxes.data.cpu().numpy()\n",
    "        \n",
    "        # For each ground truth class in the image\n",
    "        for gt_class in ground_truth_classes:\n",
    "            if gt_class >= num_classes:\n",
    "                print(f\"Warning: Ground truth class {gt_class} is out of range in {label_path}\")\n",
    "                continue\n",
    "                \n",
    "            # Check if there are any predictions\n",
    "            if len(predictions) > 0:\n",
    "                # Sort by confidence (descending)\n",
    "                predictions = predictions[predictions[:, 4].argsort()[::-1]]\n",
    "                \n",
    "                # Get the most confident prediction\n",
    "                most_confident_pred = predictions[0]\n",
    "                pred_class_id = int(most_confident_pred[5])\n",
    "                confidence = float(most_confident_pred[4])\n",
    "                \n",
    "                # Update confusion matrix\n",
    "                confusion_matrix[gt_class, pred_class_id] += 1\n",
    "                \n",
    "                # Store per-image results\n",
    "                results_dict[\"per_image\"].append({\n",
    "                    \"image_path\": img_path,\n",
    "                    \"ground_truth\": gt_class,\n",
    "                    \"prediction\": pred_class_id,\n",
    "                    \"confidence\": confidence,\n",
    "                    \"correct\": pred_class_id == gt_class\n",
    "                })\n",
    "            else:\n",
    "                # No detection (represented by the last column)\n",
    "                confusion_matrix[gt_class, -1] += 1\n",
    "                \n",
    "                # Store per-image results\n",
    "                results_dict[\"per_image\"].append({\n",
    "                    \"image_path\": img_path,\n",
    "                    \"ground_truth\": gt_class,\n",
    "                    \"prediction\": \"none\",\n",
    "                    \"confidence\": 0.0,\n",
    "                    \"correct\": False\n",
    "                })\n",
    "    \n",
    "    # Calculate processing time\n",
    "    end_time = time.time()\n",
    "    processing_time = end_time - start_time\n",
    "    \n",
    "    # Store raw confusion matrix in results\n",
    "    results_dict[\"confusion_matrix\"] = confusion_matrix.tolist()\n",
    "    results_dict[\"processing_time\"] = processing_time\n",
    "    \n",
    "    # Calculate normalized confusion matrix (by row/ground truth)\n",
    "    row_sums = confusion_matrix.sum(axis=1, keepdims=True)\n",
    "    norm_confusion_matrix = np.zeros_like(confusion_matrix, dtype=float)\n",
    "    for i in range(num_classes):\n",
    "        if row_sums[i] > 0:\n",
    "            norm_confusion_matrix[i] = confusion_matrix[i] / row_sums[i]\n",
    "    \n",
    "    # Save outputs if directory is provided\n",
    "    if output_dir:\n",
    "        os.makedirs(output_dir, exist_ok=True)\n",
    "        \n",
    "        # Convert class_names to a list if it's a dictionary\n",
    "        if isinstance(class_names, dict):\n",
    "            # If class_names is a dictionary, convert it to a list\n",
    "            max_id = max(class_names.keys())\n",
    "            class_names_list = [class_names.get(i, f\"unknown_{i}\") for i in range(max_id + 1)]\n",
    "        else:\n",
    "            # If class_names is already a list\n",
    "            class_names_list = class_names\n",
    "        \n",
    "        # Create class labels for output\n",
    "        class_labels = class_names_list.copy()\n",
    "        header_labels = class_names_list + ['no_detection']\n",
    "        \n",
    "        # Save raw numbers to CSV\n",
    "        raw_cm_path = os.path.join(output_dir, 'confusion_matrix_raw.csv')\n",
    "        with open(raw_cm_path, 'w') as f:\n",
    "            # Write header\n",
    "            f.write(',' + ','.join(header_labels) + '\\n')\n",
    "            \n",
    "            # Write each row\n",
    "            for i, class_label in enumerate(class_labels):\n",
    "                if i < confusion_matrix.shape[0]:  # Make sure we don't go out of bounds\n",
    "                    row = [class_label] + [str(x) for x in confusion_matrix[i]]\n",
    "                    f.write(','.join(row) + '\\n')\n",
    "        \n",
    "        # Save normalized matrix to CSV\n",
    "        norm_cm_path = os.path.join(output_dir, 'confusion_matrix_normalized.csv')\n",
    "        with open(norm_cm_path, 'w') as f:\n",
    "            # Write header\n",
    "            f.write(',' + ','.join(header_labels) + '\\n')\n",
    "            \n",
    "            # Write each row\n",
    "            for i, class_label in enumerate(class_labels):\n",
    "                if i < norm_confusion_matrix.shape[0]:  # Make sure we don't go out of bounds\n",
    "                    row = [class_label] + [f\"{x:.4f}\" for x in norm_confusion_matrix[i]]\n",
    "                    f.write(','.join(row) + '\\n')\n",
    "        \n",
    "        # Save detailed results to JSON\n",
    "        results_path = os.path.join(output_dir, 'confusion_matrix_results.json')\n",
    "        with open(results_path, 'w') as f:\n",
    "            json.dump(results_dict, f, indent=4)\n",
    "        \n",
    "        # Create and save visualizations\n",
    "        plot_confusion_matrix(\n",
    "            confusion_matrix, \n",
    "            header_labels,\n",
    "            os.path.join(output_dir, 'confusion_matrix_raw.png'),\n",
    "            title='Confusion Matrix (Raw Counts)',\n",
    "            normalize=False\n",
    "        )\n",
    "        \n",
    "        plot_confusion_matrix(\n",
    "            norm_confusion_matrix, \n",
    "            header_labels,\n",
    "            os.path.join(output_dir, 'confusion_matrix_normalized.png'),\n",
    "            title='Confusion Matrix (Normalized by Row)',\n",
    "            normalize=True\n",
    "        )\n",
    "        \n",
    "        # Save processing time information\n",
    "        time_path = os.path.join(output_dir, 'processing_time.txt')\n",
    "        with open(time_path, 'w') as f:\n",
    "            f.write(f\"Confusion Matrix Generation Time: {processing_time:.2f} seconds\\n\")\n",
    "            f.write(f\"Images Processed: {len(image_files)}\\n\")\n",
    "            f.write(f\"Average Time Per Image: {processing_time/len(image_files):.4f} seconds\\n\")\n",
    "            f.write(f\"Timestamp: {datetime.now().strftime('%Y-%m-%d %H:%M:%S')}\\n\")\n",
    "        \n",
    "        print(f\"Confusion matrix results saved to {output_dir}\")\n",
    "        print(f\"Processing time: {processing_time:.2f} seconds\")\n",
    "    \n",
    "    return confusion_matrix, norm_confusion_matrix, results_dict"
   ]
  },
  {
   "cell_type": "code",
   "execution_count": 25,
   "id": "250b0639",
   "metadata": {},
   "outputs": [],
   "source": [
    "def read_metrics_from_run(run_dir):\n",
    "\n",
    "    metrics_file = os.path.join(run_dir, 'results.csv')\n",
    "    if not os.path.exists(metrics_file):\n",
    "        print(f\"Warning: Metrics file not found at {metrics_file}\")\n",
    "        return {}\n",
    "    \n",
    "    # Read the CSV file and get the last row (final epoch metrics)\n",
    "    try:\n",
    "        df = pd.read_csv(metrics_file)\n",
    "        final_metrics = df.iloc[-1].to_dict()\n",
    "        return final_metrics\n",
    "    except Exception as e:\n",
    "        print(f\"Error reading metrics file: {e}\")\n",
    "        return {}"
   ]
  },
  {
   "cell_type": "code",
   "execution_count": 26,
   "id": "cf7e7595",
   "metadata": {},
   "outputs": [],
   "source": [
    "def write_execution_time_log(filepath, overall_start_time, overall_end_time, num_runs, epochs):\n",
    "\n",
    "    overall_time = overall_end_time - overall_start_time\n",
    "    overall_hours = overall_time / 3600.0\n",
    "\n",
    "    with open(filepath, 'w') as f:\n",
    "        f.write(f\"Overall Execution Time: {overall_time:.2f} seconds ({overall_hours:.2f} hours)\\n\")\n",
    "        f.write(f\"Start Time: {datetime.fromtimestamp(overall_start_time).strftime('%Y-%m-%d %H:%M:%S')}\\n\")\n",
    "        f.write(f\"End Time: {datetime.fromtimestamp(overall_end_time).strftime('%Y-%m-%d %H:%M:%S')}\\n\")\n",
    "        f.write(f\"Number of Runs: {num_runs}\\n\")\n",
    "        f.write(f\"Epochs per Run: {epochs}\\n\")"
   ]
  },
  {
   "cell_type": "code",
   "execution_count": 27,
   "id": "b953cfd4",
   "metadata": {},
   "outputs": [],
   "source": [
    "def run_multiple_trainings(\n",
    "    data_yaml: yaml,\n",
    "    extra_train_params: dict,\n",
    "    model_size: str = 'n',\n",
    "    study_path=None,\n",
    "    study_name=None,\n",
    "    db_path=None,\n",
    "    num_runs=5,\n",
    "    model_v = \"8\",\n",
    "    epochs=100,\n",
    "    device='0',\n",
    "    project='runs/multi_runs',\n",
    "    conf_threshold=0.1):\n",
    "\n",
    "    # Overall start time\n",
    "    overall_start_time = time.time()\n",
    "    \n",
    "    # Load dataset information\n",
    "    with open(data_yaml, 'r') as f:\n",
    "        data_config = yaml.safe_load(f)\n",
    "    \n",
    "    # Display dataset information\n",
    "    print(f\"Dataset information:\")\n",
    "    print(f\"  Classes: {data_config.get('nc', 0)}\")\n",
    "    for idx, class_name in enumerate(data_config['names']):\n",
    "        print(f\"  Class {idx}: {class_name}\")\n",
    "    \n",
    "    best_params, best_value = get_best_params(study_path, study_name, db_path)\n",
    "    print(f\"Best parameters (mAP50-95: {best_value:.4f}):\")\n",
    "    for param, value in best_params.items():\n",
    "        print(f\"  {param}: {value}\")\n",
    "    \n",
    "    timestamp = datetime.now().strftime('%Y%m%d_%H%M%S')\n",
    "    base_name = f\"multi_run_{timestamp}\"\n",
    "    \n",
    "    os.makedirs(project, exist_ok=True)\n",
    "    aggregate_dir = os.path.join(project, f\"{base_name}_aggregate\")\n",
    "    os.makedirs(aggregate_dir, exist_ok=True)\n",
    "    \n",
    "    best_params_path = os.path.join(aggregate_dir, 'best_params.json')\n",
    "    with open(best_params_path, 'w') as f:\n",
    "        json.dump(best_params, f, indent=4)\n",
    "    \n",
    "    merged_params = {**best_params, **extra_train_params}\n",
    "    with open(os.path.join(aggregate_dir, 'merged_training_params.json'), 'w') as f:\n",
    "        json.dump(merged_params, f, indent=4)\n",
    "    \n",
    "    # Track metrics across runs\n",
    "    all_metrics = []\n",
    "    all_accuracies = []\n",
    "    training_times = []\n",
    "    \n",
    "    # Run multiple training iterations\n",
    "    for run_id in range(1, num_runs + 1):\n",
    "        print(f\"\\n{'='*80}\")\n",
    "        print(f\"Starting Run {run_id}/{num_runs}\")\n",
    "        print(f\"{'='*80}\")\n",
    "        \n",
    "        results, run_dir, training_time = train_model(\n",
    "            data_yaml=data_yaml,\n",
    "            model_size=model_size,\n",
    "            model_v = model_v,\n",
    "            training_params=merged_params,\n",
    "            run_id=run_id,\n",
    "            epochs=epochs,\n",
    "            device=device,\n",
    "            project=project,\n",
    "            base_name=base_name\n",
    "        )\n",
    "        \n",
    "        training_times.append(training_time)\n",
    "        \n",
    "        # Get the path to the LAST weights\n",
    "        weights_path = os.path.join(run_dir, 'weights', 'last.pt')\n",
    "        if not os.path.exists(weights_path):\n",
    "            print(f\"Warning: Last weights not found at {weights_path}\")\n",
    "            continue\n",
    "        print(f\"\\nRun {run_id}: Loading model from {weights_path} for evaluation\")\n",
    "        trained_model = YOLO(weights_path) \n",
    "        \n",
    "        print(f\"Run {run_id}: Calculating accuracy metrics\")\n",
    "        accuracy, accuracy_results = calculate_accuracy(trained_model, data_yaml, conf_threshold)\n",
    "        \n",
    "        print(f\"Run {run_id}: Generating confusion matrix\")\n",
    "        cm_dir = os.path.join(run_dir, 'confusion_matrix')\n",
    "        raw_cm, norm_cm, cm_results = generate_confusion_matrix(\n",
    "            trained_model, \n",
    "            data_yaml, \n",
    "            conf_threshold=conf_threshold,\n",
    "            output_dir=cm_dir\n",
    "        )\n",
    "        \n",
    "        # Also make a copy of the confusion matrix visualizations in the aggregate directory\n",
    "        for file_name in ['confusion_matrix_raw.png', 'confusion_matrix_normalized.png']:\n",
    "            src = os.path.join(cm_dir, file_name)\n",
    "            if os.path.exists(src):\n",
    "                dst = os.path.join(aggregate_dir, f'{file_name.split(\".\")[0]}_run{run_id}.png')\n",
    "                shutil.copy(src, dst)\n",
    "        \n",
    "        # Read standard YOLO metrics from results.csv\n",
    "        yolo_metrics = read_metrics_from_run(run_dir)\n",
    "        \n",
    "        # Combine metrics\n",
    "        combined_metrics = {\n",
    "            'run_id': run_id,\n",
    "            'accuracy': accuracy,\n",
    "            'training_time': training_time,\n",
    "            **yolo_metrics\n",
    "        }\n",
    "        all_metrics.append(combined_metrics)\n",
    "        all_accuracies.append(accuracy_results)\n",
    "        \n",
    "        # Save accuracy results to JSON\n",
    "        accuracy_results_path = os.path.join(run_dir, 'accuracy_results.json')\n",
    "        with open(accuracy_results_path, 'w') as f:\n",
    "            json.dump(accuracy_results, f, indent=4)\n",
    "        \n",
    "        # Also make a copy in the aggregate directory\n",
    "        shutil.copy(accuracy_results_path, os.path.join(aggregate_dir, f'accuracy_results_run{run_id}.json'))\n",
    "        \n",
    "        # Print metrics summary for this run\n",
    "        print(f\"\\nRun {run_id} Results (using last.pt weights):\")\n",
    "        print(f\"  Training Time: {training_time:.2f} seconds ({training_time/3600:.2f} hours)\")\n",
    "        print(f\"  Accuracy: {accuracy:.4f} ({accuracy_results['correct_predictions']}/{accuracy_results['total_images']})\")\n",
    "        print(\"  YOLO Metrics:\")\n",
    "        for key, value in yolo_metrics.items():\n",
    "            if key.startswith('metrics/'):\n",
    "                print(f\"    {key.replace('metrics/', '')}: {value:.4f}\")\n",
    "    \n",
    "    # Calculate average metrics\n",
    "    if all_metrics:\n",
    "        metrics_df = pd.DataFrame(all_metrics)\n",
    "        \n",
    "        mean_metrics = metrics_df.mean(numeric_only=True)\n",
    "        std_metrics = metrics_df.std(numeric_only=True)\n",
    "        \n",
    "        # Save all metrics to CSV\n",
    "        metrics_df.to_csv(os.path.join(aggregate_dir, 'all_runs_metrics.csv'), index=False)\n",
    "        \n",
    "        # Save average metrics to CSV\n",
    "        avg_metrics_df = pd.DataFrame({\n",
    "            'metric': mean_metrics.index,\n",
    "            'mean': mean_metrics.values,\n",
    "            'std': std_metrics.values\n",
    "        })\n",
    "        avg_metrics_df.to_csv(os.path.join(aggregate_dir, 'average_metrics.csv'), index=False)\n",
    "        \n",
    "        # Calculate and save average training time\n",
    "        avg_training_time = sum(training_times) / len(training_times)\n",
    "        avg_training_hours = avg_training_time / 3600.0\n",
    "        std_training_time = np.std(training_times)\n",
    "        \n",
    "        # Save training time statistics\n",
    "        time_stats_path = os.path.join(aggregate_dir, 'training_time_stats.txt')\n",
    "        with open(time_stats_path, 'w') as f:\n",
    "            f.write(f\"Training Time Statistics\\n\")\n",
    "            f.write(f\"======================\\n\\n\")\n",
    "            f.write(f\"Average Training Time: {avg_training_time:.2f} seconds ({avg_training_hours:.2f} hours)\\n\")\n",
    "            f.write(f\"Standard Deviation: {std_training_time:.2f} seconds\\n\\n\")\n",
    "            f.write(f\"Individual Run Times:\\n\")\n",
    "            for i, time_val in enumerate(training_times):\n",
    "                f.write(f\"  Run {i+1}: {time_val:.2f} seconds ({time_val/3600:.2f} hours)\\n\")\n",
    "        \n",
    "        # Print individual values for key metrics to verify stochasticity\n",
    "        print(\"\\nIndividual run values for key metrics:\")\n",
    "        print(f\"  Training Time (seconds): {training_times}\")\n",
    "        for metric in ['accuracy', 'metrics/precision(B)', 'metrics/recall(B)', 'metrics/mAP50(B)', 'metrics/mAP50-95(B)']:\n",
    "            if metric in metrics_df.columns:\n",
    "                values = metrics_df[metric].tolist()\n",
    "                print(f\"  {metric}: {values}\")\n",
    "        \n",
    "        # Also save in a more readable format\n",
    "        summary_path = os.path.join(aggregate_dir, 'summary.txt')\n",
    "        with open(summary_path, 'w', encoding='utf-8') as f:\n",
    "            f.write(f\"Multiple Training Runs Summary (Using last.pt weights)\\n\")\n",
    "            f.write(f\"=================================================\\n\\n\")\n",
    "            f.write(f\"Date: {datetime.now().strftime('%Y-%m-%d %H:%M:%S')}\\n\")\n",
    "            f.write(f\"Dataset: {data_yaml}\\n\")\n",
    "            f.write(f\"Model: yolov8{model_size}.pt\\n\")\n",
    "            f.write(f\"Number of runs: {num_runs}\\n\")\n",
    "            f.write(f\"Epochs per run: {epochs}\\n\")\n",
    "            f.write(f\"Optimizer: AdamW\\n\\n\")\n",
    "            \n",
    "            f.write(f\"Average Training Time: {avg_training_time:.2f} seconds ({avg_training_hours:.2f} hours) ± {std_training_time:.2f} seconds\\n\\n\")\n",
    "            \n",
    "            f.write(f\"Average Metrics (mean +/- std):\\n\")\n",
    "            for index, row in avg_metrics_df.iterrows():\n",
    "                metric = row['metric']\n",
    "                mean = row['mean']\n",
    "                std = row['std']\n",
    "                f.write(f\"  {metric}: {mean:.4f} +/- {std:.4f}\\n\")\n",
    "            \n",
    "            f.write(\"\\nIndividual Run Results:\\n\")\n",
    "            for run_id in range(1, num_runs + 1):\n",
    "                run_metrics = metrics_df[metrics_df['run_id'] == run_id]\n",
    "                if not run_metrics.empty:\n",
    "                    f.write(f\"\\nRun {run_id}:\\n\")\n",
    "                    f.write(f\"  Training Time: {training_times[run_id-1]:.2f} seconds ({training_times[run_id-1]/3600:.2f} hours)\\n\")\n",
    "                    for column in run_metrics.columns:\n",
    "                        if column != 'run_id' and column != 'training_time':  # Already included above\n",
    "                            value = run_metrics[column].values[0]\n",
    "                            if isinstance(value, (int, float)):\n",
    "                                f.write(f\"  {column}: {value:.4f}\\n\")\n",
    "                    \n",
    "                    # Include the random seed used for this run\n",
    "                    run_dir = os.path.join(project, f\"{base_name}_run{run_id}\")\n",
    "                    seed_file = os.path.join(run_dir, 'args.yaml')\n",
    "                    if os.path.exists(seed_file):\n",
    "                        try:\n",
    "                            with open(seed_file, 'r') as sf:\n",
    "                                args = yaml.safe_load(sf)\n",
    "                                if 'seed' in args:\n",
    "                                    f.write(f\"  random_seed: {args['seed']}\\n\")\n",
    "                        except Exception as e:\n",
    "                            f.write(f\"  Error reading seed: {e}\\n\")\n",
    "        \n",
    "        # Calculate overall time\n",
    "        overall_end_time = time.time()\n",
    "        overall_time = overall_end_time - overall_start_time\n",
    "        overall_hours = overall_time / 3600.0\n",
    "        \n",
    "        # Print summary\n",
    "        print(f\"\\n{'='*80}\")\n",
    "        print(f\"Average Results Across {num_runs} Runs (Using last.pt weights):\")\n",
    "        print(f\"{'='*80}\")\n",
    "        print(f\"  Total Execution Time: {overall_time:.2f} seconds ({overall_hours:.2f} hours)\")\n",
    "        print(f\"  Average Training Time: {avg_training_time:.2f} seconds ({avg_training_hours:.2f} hours) ± {std_training_time:.2f} seconds\")\n",
    "        print(f\"  Accuracy: {mean_metrics['accuracy']:.4f} +/- {std_metrics['accuracy']:.4f}\")\n",
    "        print(\"  YOLO Metrics:\")\n",
    "        for metric in mean_metrics.index:\n",
    "            if metric.startswith('metrics/'):\n",
    "                metric_name = metric.replace('metrics/', '')\n",
    "                print(f\"    {metric_name}: {mean_metrics[metric]:.4f} +/- {std_metrics[metric]:.4f}\")\n",
    "        \n",
    "        # Generate confusion matrix for the final model (the last trained model)\n",
    "        print(f\"\\nGenerating final confusion matrix for the last model\")\n",
    "        final_model_path = os.path.join(project, f\"{base_name}_run{num_runs}\", \"weights\", \"last.pt\")\n",
    "        if os.path.exists(final_model_path):\n",
    "            final_model = YOLO(final_model_path)\n",
    "            final_cm_dir = os.path.join(aggregate_dir, \"final_confusion_matrix\")\n",
    "            _, _, _ = generate_confusion_matrix(final_model, data_yaml, conf_threshold=conf_threshold, output_dir=final_cm_dir)\n",
    "            print(f\"Final confusion matrix saved to {final_cm_dir}\")\n",
    "        else:\n",
    "            print(f\"Warning: Could not find final model at {final_model_path}\")\n",
    "        \n",
    "        print(f\"\\nDetailed results saved to {aggregate_dir}\")\n",
    "    else:\n",
    "        print(\"\\nNo valid runs completed.\")\n",
    "        \n",
    "    # Save overall execution time\n",
    "    overall_end_time = time.time()\n",
    "    # overall_time = overall_end_time - overall_start_time\n",
    "    # overall_hours = overall_time / 3600.0\n",
    "    \n",
    "    time_log_path = os.path.join(aggregate_dir, 'overall_execution_time.txt')\n",
    "    write_execution_time_log(time_log_path, overall_start_time, overall_end_time, num_runs, epochs)\n",
    "    # with open(time_log_path, 'w') as f:\n",
    "    #     f.write(f\"Overall Execution Time: {overall_time:.2f} seconds ({overall_hours:.2f} hours)\\n\")\n",
    "    #     f.write(f\"Start Time: {datetime.fromtimestamp(overall_start_time).strftime('%Y-%m-%d %H:%M:%S')}\\n\")\n",
    "    #     f.write(f\"End Time: {datetime.fromtimestamp(overall_end_time).strftime('%Y-%m-%d %H:%M:%S')}\\n\")\n",
    "    #     f.write(f\"Number of Runs: {num_runs}\\n\")\n",
    "    #     f.write(f\"Epochs per Run: {epochs}\\n\")"
   ]
  },
  {
   "cell_type": "markdown",
   "id": "75d1340c",
   "metadata": {
    "jp-MarkdownHeadingCollapsed": true
   },
   "source": [
    "### Classes"
   ]
  },
  {
   "cell_type": "code",
   "execution_count": 28,
   "id": "af57eb98",
   "metadata": {
    "jupyter": {
     "source_hidden": true
    }
   },
   "outputs": [],
   "source": [
    "class FaceAgeDatasetCreator:\n",
    "    def __init__(\n",
    "        self,\n",
    "        base_dir=\"data\",\n",
    "        faces_archive=None,\n",
    "        faces_dir=None,\n",
    "        output_dir=None,\n",
    "        fold_files=None,\n",
    "        imgsz=416,\n",
    "        max_workers=4\n",
    "    ):\n",
    "        self.base_dir = base_dir\n",
    "        os.makedirs(self.base_dir, exist_ok=True)\n",
    "        \n",
    "        self.faces_archive = faces_archive or os.path.join(base_dir, \"faces.tar.gz\")\n",
    "        self.faces_dir = faces_dir or os.path.join(base_dir, \"faces\")\n",
    "        # self.output_dir = output_dir or os.path.join(base_dir, \"age_dataset\")\n",
    "        # os.makedirs(self.output_dir, exist_ok=True)\n",
    "\n",
    "        if fold_files is None:\n",
    "            self.fold_files = [os.path.join(base_dir, f\"fold_{i}_data.txt\") for i in range(5)]\n",
    "        else:\n",
    "            self.fold_files = fold_files\n",
    "\n",
    "        self.img_size = imgsz\n",
    "\n",
    "        self.age_categories = [(0, 2),(4, 6),(8, 12),(15, 20),(25, 32),(38, 43),(48, 53),(60, 100)]\n",
    "\n",
    "        self.max_workers = max_workers or (os.cpu_count() // 2)\n",
    "        self.device = 'cuda' if torch.cuda.is_available() else 'cpu'\n",
    "        self.mtcnn = MTCNN(keep_all=False, device=self.device)\n",
    "\n",
    "        print(f\"Running on device: {self.device}\")\n",
    "\n",
    "    def extract_faces_archive(self):\n",
    "        if not os.path.exists(self.faces_dir):\n",
    "            os.makedirs(self.faces_dir, exist_ok=True)\n",
    "            print(f\"Extracting {self.faces_archive} to {self.faces_dir}...\")\n",
    "            with tarfile.open(self.faces_archive, 'r:gz') as tar:\n",
    "                for member in tqdm(tar.getmembers(), desc=\"Extracting faces\"):\n",
    "                    if member.name.startswith(\"faces/\"):\n",
    "                        member.name = member.name[len(\"faces/\"):]\n",
    "                        if member.name:\n",
    "                            tar.extract(member, self.faces_dir, filter='data')\n",
    "            print(\"Extraction complete.\")\n",
    "        else:\n",
    "            print(f\"{self.faces_dir} already exists. Skipping extraction.\")\n",
    "\n",
    "    def get_age_class(self, age_info):\n",
    "        try:\n",
    "            if isinstance(age_info, str) and '(' in age_info:\n",
    "                match = re.findall(r'\\d+', age_info)\n",
    "                if len(match) >= 2:\n",
    "                    lower, upper = int(match[0]), int(match[1])\n",
    "                    for i, cat in enumerate(self.age_categories):\n",
    "                        if (lower, upper) == cat:\n",
    "                            return i\n",
    "            else:\n",
    "                age = int(age_info)\n",
    "                for i, (low, high) in enumerate(self.age_categories):\n",
    "                    if low <= age <= high:\n",
    "                        return i\n",
    "            return -1\n",
    "        except:\n",
    "            return -1\n",
    "\n",
    "    def load_fold_data(self, fold_files=None):\n",
    "        if fold_files is None:\n",
    "            fold_files = self.fold_files\n",
    "        all_data = []\n",
    "        column_names = [\n",
    "            'user_id', 'original_image', 'face_id', 'age', 'gender', \n",
    "            'x', 'y', 'dx', 'dy', 'tilt_ang', 'fiducial_yaw_angle', 'fiducial_score'\n",
    "        ]\n",
    "        for fold_file in fold_files:\n",
    "            try:\n",
    "                df = pd.read_csv(fold_file, sep='\\t', header=None, names=column_names)\n",
    "                df['age_class'] = df['age'].apply(self.get_age_class)\n",
    "                df = df[df['age_class'] != -1]\n",
    "                all_data.append(df)\n",
    "            except Exception as e:\n",
    "                print(f\"Error loading {fold_file}: {e}\")\n",
    "        return pd.concat(all_data, ignore_index=True) if all_data else pd.DataFrame(columns=column_names + ['age_class'])\n",
    "\n",
    "    def get_image_path(self, row):\n",
    "        filename = f\"coarse_tilt_aligned_face.{row['face_id']}.{row['original_image']}\"\n",
    "        return os.path.join(self.faces_dir, str(row['user_id']), filename)\n",
    "\n",
    "    def detect_face(self, image_np):\n",
    "        img_rgb = cv2.cvtColor(image_np, cv2.COLOR_BGR2RGB)\n",
    "        img_pil = Image.fromarray(img_rgb)\n",
    "\n",
    "        boxes, _ = self.mtcnn.detect(img_pil)\n",
    "        if boxes is not None and len(boxes) > 0:\n",
    "            x1, y1, x2, y2 = boxes[0]\n",
    "            w = x2 - x1\n",
    "            h = y2 - y1\n",
    "            return (x1, y1, w, h)\n",
    "        else:\n",
    "            return None\n",
    "\n",
    "    def is_dataset_complete(self, size_dir):\n",
    "        \"\"\"\n",
    "        Check if the dataset for a given image size is complete and ready.\n",
    "        \"\"\"\n",
    "        expected = [\n",
    "            os.path.join(size_dir, \"data.yaml\"),\n",
    "            os.path.join(size_dir, \"classes.txt\"),\n",
    "            os.path.join(size_dir, \"images/train\"),\n",
    "            os.path.join(size_dir, \"images/val\"),\n",
    "            os.path.join(size_dir, \"labels/train\"),\n",
    "            os.path.join(size_dir, \"labels/val\"),\n",
    "        ]\n",
    "        for path in expected:\n",
    "            if not os.path.exists(path):\n",
    "                return False\n",
    "        \n",
    "        val_imgs = list(Path(size_dir).joinpath(\"images/val\").glob(\"*.jpg\"))\n",
    "        val_lbls = list(Path(size_dir).joinpath(\"labels/val\").glob(\"*.txt\"))\n",
    "        \n",
    "        return len(val_imgs) > 0 and len(val_imgs) == len(val_lbls)\n",
    "\n",
    "    def process_dataset(self, data, img_dir, label_dir):\n",
    "        os.makedirs(img_dir, exist_ok=True)\n",
    "        os.makedirs(label_dir, exist_ok=True)\n",
    "\n",
    "        transform = transforms.Resize((self.img_size, self.img_size))\n",
    "\n",
    "        for idx, row in tqdm(data.iterrows(), total=len(data), desc=\"Processing images\"):\n",
    "            try:\n",
    "                img_path = self.get_image_path(row)\n",
    "                if not os.path.exists(img_path):\n",
    "                    print(f\"Warning: Image not found: {img_path}\")\n",
    "                    continue\n",
    "\n",
    "                class_id = int(row['age_class'])\n",
    "                filename = os.path.basename(img_path).replace('coarse_tilt_aligned_face.', '')\n",
    "                base_filename = f\"{idx}_{filename.split('.')[0]}\"\n",
    "\n",
    "                with Image.open(img_path).convert('RGB') as img:\n",
    "                    orig_width, orig_height = img.size\n",
    "                    img_np = np.array(img)\n",
    "                    img_cv = cv2.cvtColor(img_np, cv2.COLOR_RGB2BGR)\n",
    "\n",
    "                    face_coords = self.detect_face(img_cv)\n",
    "\n",
    "                    img_resized = transform(img)\n",
    "                    save_path = os.path.join(img_dir, f\"{base_filename}.jpg\")\n",
    "                    img_resized.save(save_path)\n",
    "\n",
    "                    if face_coords is not None:\n",
    "                        x, y, w, h = face_coords\n",
    "                        x = max(0, min(x, orig_width))\n",
    "                        y = max(0, min(y, orig_height))\n",
    "                        w = max(0, min(w, orig_width - x))\n",
    "                        h = max(0, min(h, orig_height - y))\n",
    "\n",
    "                        x_center = (x + w/2) / orig_width\n",
    "                        y_center = (y + h/2) / orig_height\n",
    "                        width_norm = w / orig_width\n",
    "                        height_norm = h / orig_height\n",
    "                    else:\n",
    "                        x_center, y_center, width_norm, height_norm = 0.5, 0.5, 0.8, 0.8\n",
    "\n",
    "                    if not (0 <= class_id < len(self.age_categories)):\n",
    "                        print(f\"Invalid age class at index {idx}: {class_id}\")\n",
    "                        continue\n",
    "\n",
    "                label_path = os.path.join(label_dir, f\"{base_filename}.txt\")\n",
    "                with open(label_path, 'w') as f:\n",
    "                    f.write(f\"{class_id} {x_center:.6f} {y_center:.6f} {width_norm:.6f} {height_norm:.6f}\\n\")\n",
    "\n",
    "            except Exception as e:\n",
    "                print(f\"Error at index {idx}: {e}\")\n",
    "\n",
    "    def create_data_yaml(self, output_dir):\n",
    "        yaml_path = os.path.join(output_dir, 'data.yaml')\n",
    "        with open(yaml_path, 'w') as f:\n",
    "            train_dir = os.path.abspath(os.path.join(output_dir, \"images/train\"))\n",
    "            val_dir = os.path.abspath(os.path.join(output_dir, \"images/val\"))\n",
    "            f.write(f\"train: {train_dir}\\n\")\n",
    "            f.write(f\"val: {val_dir}\\n\")\n",
    "            f.write(f\"nc: {len(self.age_categories)}\\n\")\n",
    "            f.write(\"names:\\n\")\n",
    "            classes_path = os.path.join(output_dir, 'classes.txt')\n",
    "            with open(classes_path, 'r') as cf:\n",
    "                for i, line in enumerate(cf):\n",
    "                    f.write(f\"  {i}: '{line.strip()}'\\n\")\n",
    "\n",
    "    def create_yolo_dataset(self, train_folds, val_fold, output_dir=None):\n",
    "        if not self.is_dataset_complete(output_dir):\n",
    "            img_train, img_val = os.path.join(output_dir, 'images/train'), os.path.join(output_dir, 'images/val')\n",
    "            lbl_train, lbl_val = os.path.join(output_dir, 'labels/train'), os.path.join(output_dir, 'labels/val')\n",
    "            \n",
    "            for d in [img_train, img_val, lbl_train, lbl_val]:\n",
    "                os.makedirs(d, exist_ok=True)\n",
    "\n",
    "            with open(os.path.join(output_dir, 'classes.txt'), 'w') as f:\n",
    "                for (low, high) in self.age_categories:\n",
    "                    f.write(f\"age_{low}_{high}\\n\")\n",
    "\n",
    "            train_data = self.load_fold_data([self.fold_files[i] for i in train_folds])\n",
    "            val_data = self.load_fold_data([self.fold_files[val_fold]])\n",
    "\n",
    "            print(f\"Train images: {len(train_data)}, Val images: {len(val_data)}\")\n",
    "\n",
    "            self.process_dataset(train_data, img_train, lbl_train)\n",
    "            self.process_dataset(val_data, img_val, lbl_val)\n",
    "            self.create_data_yaml(output_dir)\n",
    "            print(f\"✅ Dataset ready at: {output_dir}\")\n",
    "        else:\n",
    "            print(f\"✅ {output_dir} already complete. Skipping...\")\n"
   ]
  },
  {
   "cell_type": "markdown",
   "id": "97e9ec71",
   "metadata": {
    "jp-MarkdownHeadingCollapsed": true
   },
   "source": [
    "## Download data"
   ]
  },
  {
   "cell_type": "markdown",
   "id": "4a4f7500",
   "metadata": {
    "jp-MarkdownHeadingCollapsed": true
   },
   "source": [
    "### Session"
   ]
  },
  {
   "cell_type": "code",
   "execution_count": 29,
   "id": "db8057e7",
   "metadata": {},
   "outputs": [],
   "source": [
    "session = requests.Session()\n",
    "session.headers.update({\n",
    "    \"User-Agent\": \"Mozilla/5.0\",\n",
    "    \"Referer\": BASE_URL\n",
    "})"
   ]
  },
  {
   "cell_type": "markdown",
   "id": "86127659",
   "metadata": {
    "jp-MarkdownHeadingCollapsed": true
   },
   "source": [
    "### Folds"
   ]
  },
  {
   "cell_type": "code",
   "execution_count": 30,
   "id": "b91f624d",
   "metadata": {},
   "outputs": [
    {
     "name": "stdout",
     "output_type": "stream",
     "text": [
      "data\\fold_0_data.txt already exist\n",
      "data\\fold_1_data.txt already exist\n",
      "data\\fold_2_data.txt already exist\n",
      "data\\fold_3_data.txt already exist\n",
      "data\\fold_4_data.txt already exist\n"
     ]
    }
   ],
   "source": [
    "fold_files = [f\"fold_{i}_data.txt\" for i in range(5)]\n",
    "\n",
    "for fname in fold_files:\n",
    "    url = BASE_URL + fname\n",
    "    dest = os.path.join(DATA_DIR, fname)\n",
    "    \n",
    "    if os.path.exists(dest):\n",
    "        print(f\"{dest} already exist\")\n",
    "        continue\n",
    "\n",
    "    print(f\"Downloading {url}\")\n",
    "    \n",
    "    response = session.get(url, auth=HTTPBasicAuth(USERNAME, PASSWORD))\n",
    "    \n",
    "    if response.status_code == 200:\n",
    "        with open(dest, 'wb') as f:\n",
    "            f.write(response.content)\n",
    "        print(f\"Saved: {dest}\")\n",
    "    else:\n",
    "        print(f\"Failed: {url} (Status: {response.status_code})\")"
   ]
  },
  {
   "cell_type": "markdown",
   "id": "d213737f",
   "metadata": {
    "jp-MarkdownHeadingCollapsed": true
   },
   "source": [
    "### Faces"
   ]
  },
  {
   "cell_type": "code",
   "execution_count": 31,
   "id": "b7ddab81",
   "metadata": {},
   "outputs": [
    {
     "name": "stdout",
     "output_type": "stream",
     "text": [
      "data\\faces.tar.gz already exist\n"
     ]
    }
   ],
   "source": [
    "if not os.path.exists(ARCHIVE_PATH):\n",
    "    print(f\"\\nDownloading archive: {ARCHIVE_URL}\")\n",
    "    response = session.get(ARCHIVE_URL, auth=HTTPBasicAuth(USERNAME, PASSWORD), stream=True)\n",
    "\n",
    "    if response.status_code == 200:\n",
    "        total_size = int(response.headers.get('content-length', 0))\n",
    "        chunk_size = 8192\n",
    "\n",
    "        with open(ARCHIVE_PATH, 'wb') as f, tqdm(\n",
    "            desc=\"Downloading faces.tar.gz\",\n",
    "            total=total_size,\n",
    "            unit='B',\n",
    "            unit_scale=True,\n",
    "            unit_divisor=1024,\n",
    "        ) as bar:\n",
    "            for chunk in response.iter_content(chunk_size=chunk_size):\n",
    "                if chunk:\n",
    "                    f.write(chunk)\n",
    "                    bar.update(len(chunk))\n",
    "        \n",
    "        print(f\"Downloaded: {ARCHIVE_PATH}\")\n",
    "        session.close()\n",
    "    else:\n",
    "        print(f\"Failed to download archive (Status: {response.status_code})\")\n",
    "else:\n",
    "    print(f\"{ARCHIVE_PATH} already exist\")"
   ]
  },
  {
   "cell_type": "markdown",
   "id": "9fc9762e",
   "metadata": {
    "jp-MarkdownHeadingCollapsed": true
   },
   "source": [
    "## Preprocess data"
   ]
  },
  {
   "cell_type": "code",
   "execution_count": 32,
   "id": "9987cb68",
   "metadata": {},
   "outputs": [
    {
     "name": "stdout",
     "output_type": "stream",
     "text": [
      "Running on device: cuda\n"
     ]
    }
   ],
   "source": [
    "creator = FaceAgeDatasetCreator(base_dir=DATA_DIR, max_workers=NUM_WORKERS)"
   ]
  },
  {
   "cell_type": "markdown",
   "id": "fe056897",
   "metadata": {},
   "source": [
    "### Folds"
   ]
  },
  {
   "cell_type": "code",
   "execution_count": 33,
   "id": "18f06ed6",
   "metadata": {},
   "outputs": [
    {
     "name": "stdout",
     "output_type": "stream",
     "text": [
      "Looking for fold files: ['data\\\\fold_0_data.txt', 'data\\\\fold_1_data.txt', 'data\\\\fold_2_data.txt', 'data\\\\fold_3_data.txt', 'data\\\\fold_4_data.txt']\n"
     ]
    }
   ],
   "source": [
    "fold_files = creator.fold_files\n",
    "print(f\"Looking for fold files: {fold_files}\")"
   ]
  },
  {
   "cell_type": "code",
   "execution_count": 34,
   "id": "0834b9a4",
   "metadata": {},
   "outputs": [
    {
     "name": "stdout",
     "output_type": "stream",
     "text": [
      "Loaded 17411 records from fold files\n"
     ]
    }
   ],
   "source": [
    "data = creator.load_fold_data()\n",
    "print(f\"Loaded {len(data)} records from fold files\")"
   ]
  },
  {
   "cell_type": "code",
   "execution_count": 35,
   "id": "3e6e4d25",
   "metadata": {},
   "outputs": [
    {
     "name": "stdout",
     "output_type": "stream",
     "text": [
      "\n",
      "Sample data:\n"
     ]
    },
    {
     "data": {
      "application/vnd.microsoft.datawrangler.viewer.v0+json": {
       "columns": [
        {
         "name": "index",
         "rawType": "int64",
         "type": "integer"
        },
        {
         "name": "user_id",
         "rawType": "object",
         "type": "string"
        },
        {
         "name": "original_image",
         "rawType": "object",
         "type": "string"
        },
        {
         "name": "face_id",
         "rawType": "object",
         "type": "string"
        },
        {
         "name": "age",
         "rawType": "object",
         "type": "string"
        },
        {
         "name": "gender",
         "rawType": "object",
         "type": "unknown"
        },
        {
         "name": "x",
         "rawType": "object",
         "type": "string"
        },
        {
         "name": "y",
         "rawType": "object",
         "type": "string"
        },
        {
         "name": "dx",
         "rawType": "object",
         "type": "string"
        },
        {
         "name": "dy",
         "rawType": "object",
         "type": "string"
        },
        {
         "name": "tilt_ang",
         "rawType": "object",
         "type": "string"
        },
        {
         "name": "fiducial_yaw_angle",
         "rawType": "object",
         "type": "string"
        },
        {
         "name": "fiducial_score",
         "rawType": "object",
         "type": "string"
        },
        {
         "name": "age_class",
         "rawType": "int64",
         "type": "integer"
        }
       ],
       "conversionMethod": "pd.DataFrame",
       "ref": "855318a0-a1d5-4d65-8923-227749a670a1",
       "rows": [
        [
         "0",
         "30601258@N03",
         "10399646885_67c7d20df9_o.jpg",
         "1",
         "(25, 32)",
         "f",
         "0",
         "414",
         "1086",
         "1383",
         "-115",
         "30",
         "17",
         "4"
        ],
        [
         "1",
         "30601258@N03",
         "10424815813_e94629b1ec_o.jpg",
         "2",
         "(25, 32)",
         "m",
         "301",
         "105",
         "640",
         "641",
         "0",
         "0",
         "94",
         "4"
        ],
        [
         "2",
         "30601258@N03",
         "10437979845_5985be4b26_o.jpg",
         "1",
         "(25, 32)",
         "f",
         "2395",
         "876",
         "771",
         "771",
         "175",
         "-30",
         "74",
         "4"
        ],
        [
         "3",
         "30601258@N03",
         "10437979845_5985be4b26_o.jpg",
         "3",
         "(25, 32)",
         "m",
         "752",
         "1255",
         "484",
         "485",
         "180",
         "0",
         "47",
         "4"
        ],
        [
         "4",
         "30601258@N03",
         "11816644924_075c3d8d59_o.jpg",
         "2",
         "(25, 32)",
         "m",
         "175",
         "80",
         "769",
         "768",
         "-75",
         "0",
         "34",
         "4"
        ],
        [
         "5",
         "30601258@N03",
         "11562582716_dbc2eb8002_o.jpg",
         "1",
         "(25, 32)",
         "f",
         "0",
         "422",
         "1332",
         "1498",
         "-100",
         "15",
         "54",
         "4"
        ],
        [
         "6",
         "30601258@N03",
         "10424595844_1009c687e4_o.jpg",
         "4",
         "(38, 43)",
         "f",
         "1912",
         "905",
         "1224",
         "1224",
         "155",
         "0",
         "64",
         "5"
        ],
        [
         "7",
         "30601258@N03",
         "9506931745_796300ca4a_o.jpg",
         "5",
         "(25, 32)",
         "f",
         "1069",
         "581",
         "1575",
         "1575",
         "0",
         "30",
         "131",
         "4"
        ],
        [
         "8",
         "30601258@N03",
         "10190308156_5c748ab2da_o.jpg",
         "5",
         "(25, 32)",
         "f",
         "474",
         "1893",
         "485",
         "484",
         "-115",
         "30",
         "55",
         "4"
        ],
        [
         "9",
         "30601258@N03",
         "10190308156_5c748ab2da_o.jpg",
         "2",
         "(25, 32)",
         "m",
         "1013",
         "1039",
         "453",
         "452",
         "-75",
         "0",
         "59",
         "4"
        ],
        [
         "10",
         "30601258@N03",
         "11624488765_9db0b93c94_o.jpg",
         "2",
         "(25, 32)",
         "m",
         "101",
         "56",
         "740",
         "740",
         "-90",
         "0",
         "75",
         "4"
        ],
        [
         "11",
         "30601258@N03",
         "10204739113_0e2ae11708_o.jpg",
         "6",
         "(25, 32)",
         "m",
         "336",
         "640",
         "841",
         "842",
         "-85",
         "0",
         "94",
         "4"
        ],
        [
         "12",
         "30601258@N03",
         "10204739113_0e2ae11708_o.jpg",
         "1",
         "(25, 32)",
         "f",
         "693",
         "247",
         "720",
         "720",
         "-85",
         "30",
         "132",
         "4"
        ],
        [
         "13",
         "30601258@N03",
         "11518638385_cac7193c86_o.jpg",
         "2",
         "(25, 32)",
         "m",
         "87",
         "20",
         "728",
         "728",
         "-95",
         "0",
         "79",
         "4"
        ],
        [
         "14",
         "30601258@N03",
         "11341941104_2bcd4b99e0_o.jpg",
         "1",
         "(25, 32)",
         "f",
         "1039",
         "1432",
         "624",
         "625",
         "185",
         "30",
         "120",
         "4"
        ],
        [
         "15",
         "30601258@N03",
         "11431644464_5510e0b7e9_o.jpg",
         "2",
         "(25, 32)",
         "m",
         "223",
         "58",
         "780",
         "781",
         "-85",
         "0",
         "40",
         "4"
        ],
        [
         "16",
         "30601258@N03",
         "11562657036_5fe2235bed_o.jpg",
         "5",
         "(25, 32)",
         "f",
         "518",
         "234",
         "444",
         "444",
         "-15",
         "0",
         "78",
         "4"
        ],
        [
         "17",
         "30601258@N03",
         "11438175534_c13ee0375c_o.jpg",
         "2",
         "(25, 32)",
         "m",
         "890",
         "229",
         "746",
         "746",
         "-105",
         "30",
         "132",
         "4"
        ],
        [
         "18",
         "30601258@N03",
         "11438175534_c13ee0375c_o.jpg",
         "1",
         "(25, 32)",
         "f",
         "996",
         "1222",
         "733",
         "733",
         "-85",
         "0",
         "109",
         "4"
        ],
        [
         "19",
         "30601258@N03",
         "10571000386_90e4070c7c_o.jpg",
         "2",
         "(25, 32)",
         "m",
         "596",
         "156",
         "684",
         "688",
         "-5",
         "0",
         "28",
         "4"
        ],
        [
         "20",
         "30601258@N03",
         "10491630366_5cc645056d_o.jpg",
         "4",
         "(38, 43)",
         "f",
         "1683",
         "921",
         "573",
         "573",
         "170",
         "0",
         "68",
         "5"
        ],
        [
         "21",
         "30601258@N03",
         "10438007716_1fc791bce6_o.jpg",
         "1",
         "(25, 32)",
         "f",
         "353",
         "253",
         "829",
         "829",
         "-70",
         "15",
         "91",
         "4"
        ],
        [
         "22",
         "30601258@N03",
         "9731074481_5821415708_o.jpg",
         "2",
         "(25, 32)",
         "m",
         "218",
         "191",
         "736",
         "736",
         "-90",
         "0",
         "29",
         "4"
        ],
        [
         "23",
         "30601258@N03",
         "11097047226_42eb0e0a1f_o.jpg",
         "2",
         "(25, 32)",
         "m",
         "19",
         "126",
         "712",
         "712",
         "-105",
         "15",
         "52",
         "4"
        ],
        [
         "24",
         "30601258@N03",
         "11167478633_afa18032b6_o.jpg",
         "2",
         "(25, 32)",
         "m",
         "615",
         "411",
         "1083",
         "1083",
         "5",
         "0",
         "28",
         "4"
        ],
        [
         "25",
         "30601258@N03",
         "10438008125_7d673b3b16_o.jpg",
         "2",
         "(25, 32)",
         "m",
         "0",
         "0",
         "886",
         "909",
         "-90",
         "0",
         "100",
         "4"
        ],
        [
         "26",
         "30601258@N03",
         "9350503632_d1c0024287_o.jpg",
         "7",
         "(25, 32)",
         "f",
         "1713",
         "1196",
         "472",
         "472",
         "5",
         "0",
         "33",
         "4"
        ],
        [
         "27",
         "30601258@N03",
         "10491533864_593b5074e9_o.jpg",
         "2",
         "(25, 32)",
         "m",
         "196",
         "144",
         "777",
         "776",
         "-85",
         "15",
         "116",
         "4"
        ],
        [
         "28",
         "30601258@N03",
         "11518770375_202acaf0c0_o.jpg",
         "2",
         "(25, 32)",
         "m",
         "1179",
         "615",
         "790",
         "790",
         "5",
         "0",
         "73",
         "4"
        ],
        [
         "29",
         "30601258@N03",
         "11438095874_f6108a82ed_o.jpg",
         "2",
         "(25, 32)",
         "m",
         "1139",
         "996",
         "810",
         "809",
         "-95",
         "30",
         "14",
         "4"
        ],
        [
         "30",
         "30601258@N03",
         "9545512875_ba6fcccea3_o.jpg",
         "5",
         "(25, 32)",
         "f",
         "447",
         "486",
         "657",
         "656",
         "-95",
         "0",
         "87",
         "4"
        ],
        [
         "31",
         "30601258@N03",
         "10518091043_fc3166a2d7_o.jpg",
         "2",
         "(25, 32)",
         "m",
         "886",
         "1365",
         "580",
         "580",
         "-85",
         "0",
         "67",
         "4"
        ],
        [
         "32",
         "30601258@N03",
         "9548295372_f42bf75bdd_o.jpg",
         "2",
         "(25, 32)",
         "m",
         "1201",
         "443",
         "956",
         "956",
         "-15",
         "45",
         "77",
         "4"
        ],
        [
         "33",
         "30601258@N03",
         "10453790724_62de3504be_o.jpg",
         "2",
         "(25, 32)",
         "m",
         "558",
         "179",
         "656",
         "656",
         "200",
         "0",
         "87",
         "4"
        ],
        [
         "34",
         "30601258@N03",
         "11727849366_1283a01132_o.jpg",
         "3",
         "(25, 32)",
         "m",
         "2091",
         "1112",
         "841",
         "841",
         "175",
         "0",
         "49",
         "4"
        ],
        [
         "35",
         "30601258@N03",
         "11727849366_1283a01132_o.jpg",
         "2",
         "(25, 32)",
         "m",
         "465",
         "1273",
         "618",
         "618",
         "180",
         "0",
         "94",
         "4"
        ],
        [
         "36",
         "30601258@N03",
         "9254706027_30fb69d508_o.jpg",
         "3",
         "(25, 32)",
         "m",
         "696",
         "559",
         "867",
         "867",
         "-100",
         "0",
         "148",
         "4"
        ],
        [
         "37",
         "30601258@N03",
         "10491530954_b9fbcc1630_o.jpg",
         "2",
         "(25, 32)",
         "m",
         "226",
         "137",
         "772",
         "772",
         "-90",
         "15",
         "87",
         "4"
        ],
        [
         "38",
         "30601258@N03",
         "10204495076_6635702017_o.jpg",
         "2",
         "(25, 32)",
         "m",
         "159",
         "38",
         "928",
         "922",
         "-90",
         "0",
         "82",
         "4"
        ],
        [
         "39",
         "30601258@N03",
         "11645266316_5c14b52e4f_o.jpg",
         "2",
         "(25, 32)",
         "m",
         "115",
         "4",
         "660",
         "660",
         "-70",
         "30",
         "5",
         "4"
        ],
        [
         "40",
         "30601258@N03",
         "10997183284_95e21d361c_o.jpg",
         "2",
         "(25, 32)",
         "m",
         "117",
         "70",
         "940",
         "890",
         "-105",
         "0",
         "100",
         "4"
        ],
        [
         "41",
         "30601258@N03",
         "9509748416_476cc2c5a8_o.jpg",
         "7",
         "(25, 32)",
         "f",
         "438",
         "144",
         "496",
         "497",
         "180",
         "0",
         "52",
         "4"
        ],
        [
         "42",
         "30601258@N03",
         "9914124745_f218c5b9f2_o.jpg",
         "5",
         "(25, 32)",
         "f",
         "1018",
         "1045",
         "886",
         "886",
         "-95",
         "0",
         "137",
         "4"
        ],
        [
         "43",
         "30601258@N03",
         "9914124745_f218c5b9f2_o.jpg",
         "2",
         "(25, 32)",
         "m",
         "809",
         "632",
         "823",
         "823",
         "-100",
         "0",
         "76",
         "4"
        ],
        [
         "44",
         "30601258@N03",
         "10204731983_643dfbf861_o.jpg",
         "1",
         "(25, 32)",
         "f",
         "704",
         "495",
         "720",
         "721",
         "-80",
         "30",
         "145",
         "4"
        ],
        [
         "45",
         "30601258@N03",
         "11097082974_48166bc382_o.jpg",
         "2",
         "(25, 32)",
         "m",
         "5",
         "14",
         "804",
         "805",
         "-95",
         "0",
         "76",
         "4"
        ],
        [
         "46",
         "30601258@N03",
         "9432313004_680bb1d1a6_o.jpg",
         "4",
         "(38, 43)",
         "f",
         "181",
         "734",
         "1237",
         "1237",
         "-5",
         "0",
         "97",
         "5"
        ],
        [
         "47",
         "30601258@N03",
         "9432313004_680bb1d1a6_o.jpg",
         "7",
         "(25, 32)",
         "f",
         "1165",
         "725",
         "784",
         "784",
         "0",
         "0",
         "49",
         "4"
        ],
        [
         "48",
         "30601258@N03",
         "9985321195_e46e991539_o.jpg",
         "5",
         "(25, 32)",
         "f",
         "653",
         "190",
         "588",
         "588",
         "0",
         "0",
         "89",
         "4"
        ],
        [
         "49",
         "30601258@N03",
         "9985321195_e46e991539_o.jpg",
         "7",
         "(25, 32)",
         "f",
         "369",
         "253",
         "500",
         "500",
         "0",
         "0",
         "62",
         "4"
        ]
       ],
       "shape": {
        "columns": 13,
        "rows": 17411
       }
      },
      "text/html": [
       "<div>\n",
       "<style scoped>\n",
       "    .dataframe tbody tr th:only-of-type {\n",
       "        vertical-align: middle;\n",
       "    }\n",
       "\n",
       "    .dataframe tbody tr th {\n",
       "        vertical-align: top;\n",
       "    }\n",
       "\n",
       "    .dataframe thead th {\n",
       "        text-align: right;\n",
       "    }\n",
       "</style>\n",
       "<table border=\"1\" class=\"dataframe\">\n",
       "  <thead>\n",
       "    <tr style=\"text-align: right;\">\n",
       "      <th></th>\n",
       "      <th>user_id</th>\n",
       "      <th>original_image</th>\n",
       "      <th>face_id</th>\n",
       "      <th>age</th>\n",
       "      <th>gender</th>\n",
       "      <th>x</th>\n",
       "      <th>y</th>\n",
       "      <th>dx</th>\n",
       "      <th>dy</th>\n",
       "      <th>tilt_ang</th>\n",
       "      <th>fiducial_yaw_angle</th>\n",
       "      <th>fiducial_score</th>\n",
       "      <th>age_class</th>\n",
       "    </tr>\n",
       "  </thead>\n",
       "  <tbody>\n",
       "    <tr>\n",
       "      <th>0</th>\n",
       "      <td>30601258@N03</td>\n",
       "      <td>10399646885_67c7d20df9_o.jpg</td>\n",
       "      <td>1</td>\n",
       "      <td>(25, 32)</td>\n",
       "      <td>f</td>\n",
       "      <td>0</td>\n",
       "      <td>414</td>\n",
       "      <td>1086</td>\n",
       "      <td>1383</td>\n",
       "      <td>-115</td>\n",
       "      <td>30</td>\n",
       "      <td>17</td>\n",
       "      <td>4</td>\n",
       "    </tr>\n",
       "    <tr>\n",
       "      <th>1</th>\n",
       "      <td>30601258@N03</td>\n",
       "      <td>10424815813_e94629b1ec_o.jpg</td>\n",
       "      <td>2</td>\n",
       "      <td>(25, 32)</td>\n",
       "      <td>m</td>\n",
       "      <td>301</td>\n",
       "      <td>105</td>\n",
       "      <td>640</td>\n",
       "      <td>641</td>\n",
       "      <td>0</td>\n",
       "      <td>0</td>\n",
       "      <td>94</td>\n",
       "      <td>4</td>\n",
       "    </tr>\n",
       "    <tr>\n",
       "      <th>2</th>\n",
       "      <td>30601258@N03</td>\n",
       "      <td>10437979845_5985be4b26_o.jpg</td>\n",
       "      <td>1</td>\n",
       "      <td>(25, 32)</td>\n",
       "      <td>f</td>\n",
       "      <td>2395</td>\n",
       "      <td>876</td>\n",
       "      <td>771</td>\n",
       "      <td>771</td>\n",
       "      <td>175</td>\n",
       "      <td>-30</td>\n",
       "      <td>74</td>\n",
       "      <td>4</td>\n",
       "    </tr>\n",
       "    <tr>\n",
       "      <th>3</th>\n",
       "      <td>30601258@N03</td>\n",
       "      <td>10437979845_5985be4b26_o.jpg</td>\n",
       "      <td>3</td>\n",
       "      <td>(25, 32)</td>\n",
       "      <td>m</td>\n",
       "      <td>752</td>\n",
       "      <td>1255</td>\n",
       "      <td>484</td>\n",
       "      <td>485</td>\n",
       "      <td>180</td>\n",
       "      <td>0</td>\n",
       "      <td>47</td>\n",
       "      <td>4</td>\n",
       "    </tr>\n",
       "    <tr>\n",
       "      <th>4</th>\n",
       "      <td>30601258@N03</td>\n",
       "      <td>11816644924_075c3d8d59_o.jpg</td>\n",
       "      <td>2</td>\n",
       "      <td>(25, 32)</td>\n",
       "      <td>m</td>\n",
       "      <td>175</td>\n",
       "      <td>80</td>\n",
       "      <td>769</td>\n",
       "      <td>768</td>\n",
       "      <td>-75</td>\n",
       "      <td>0</td>\n",
       "      <td>34</td>\n",
       "      <td>4</td>\n",
       "    </tr>\n",
       "    <tr>\n",
       "      <th>...</th>\n",
       "      <td>...</td>\n",
       "      <td>...</td>\n",
       "      <td>...</td>\n",
       "      <td>...</td>\n",
       "      <td>...</td>\n",
       "      <td>...</td>\n",
       "      <td>...</td>\n",
       "      <td>...</td>\n",
       "      <td>...</td>\n",
       "      <td>...</td>\n",
       "      <td>...</td>\n",
       "      <td>...</td>\n",
       "      <td>...</td>\n",
       "    </tr>\n",
       "    <tr>\n",
       "      <th>17406</th>\n",
       "      <td>101515718@N03</td>\n",
       "      <td>10587826073_6663f5b654_o.jpg</td>\n",
       "      <td>2280</td>\n",
       "      <td>(25, 32)</td>\n",
       "      <td>f</td>\n",
       "      <td>718</td>\n",
       "      <td>748</td>\n",
       "      <td>492</td>\n",
       "      <td>492</td>\n",
       "      <td>0</td>\n",
       "      <td>0</td>\n",
       "      <td>63</td>\n",
       "      <td>4</td>\n",
       "    </tr>\n",
       "    <tr>\n",
       "      <th>17407</th>\n",
       "      <td>101515718@N03</td>\n",
       "      <td>10587571495_a61785cd06_o.jpg</td>\n",
       "      <td>2278</td>\n",
       "      <td>(25, 32)</td>\n",
       "      <td>m</td>\n",
       "      <td>48</td>\n",
       "      <td>472</td>\n",
       "      <td>768</td>\n",
       "      <td>768</td>\n",
       "      <td>-15</td>\n",
       "      <td>0</td>\n",
       "      <td>25</td>\n",
       "      <td>4</td>\n",
       "    </tr>\n",
       "    <tr>\n",
       "      <th>17408</th>\n",
       "      <td>101515718@N03</td>\n",
       "      <td>10587571495_a61785cd06_o.jpg</td>\n",
       "      <td>2279</td>\n",
       "      <td>(25, 32)</td>\n",
       "      <td>f</td>\n",
       "      <td>950</td>\n",
       "      <td>0</td>\n",
       "      <td>692</td>\n",
       "      <td>687</td>\n",
       "      <td>-5</td>\n",
       "      <td>0</td>\n",
       "      <td>27</td>\n",
       "      <td>4</td>\n",
       "    </tr>\n",
       "    <tr>\n",
       "      <th>17409</th>\n",
       "      <td>50458575@N08</td>\n",
       "      <td>9426695459_9e8b347604_o.jpg</td>\n",
       "      <td>2281</td>\n",
       "      <td>(25, 32)</td>\n",
       "      <td>f</td>\n",
       "      <td>831</td>\n",
       "      <td>895</td>\n",
       "      <td>899</td>\n",
       "      <td>899</td>\n",
       "      <td>0</td>\n",
       "      <td>15</td>\n",
       "      <td>59</td>\n",
       "      <td>4</td>\n",
       "    </tr>\n",
       "    <tr>\n",
       "      <th>17410</th>\n",
       "      <td>50458575@N08</td>\n",
       "      <td>9429464468_1bfc39ecfb_o.jpg</td>\n",
       "      <td>2281</td>\n",
       "      <td>(25, 32)</td>\n",
       "      <td>f</td>\n",
       "      <td>653</td>\n",
       "      <td>1023</td>\n",
       "      <td>555</td>\n",
       "      <td>554</td>\n",
       "      <td>5</td>\n",
       "      <td>30</td>\n",
       "      <td>70</td>\n",
       "      <td>4</td>\n",
       "    </tr>\n",
       "  </tbody>\n",
       "</table>\n",
       "<p>17411 rows × 13 columns</p>\n",
       "</div>"
      ],
      "text/plain": [
       "             user_id                original_image face_id       age gender  \\\n",
       "0       30601258@N03  10399646885_67c7d20df9_o.jpg       1  (25, 32)      f   \n",
       "1       30601258@N03  10424815813_e94629b1ec_o.jpg       2  (25, 32)      m   \n",
       "2       30601258@N03  10437979845_5985be4b26_o.jpg       1  (25, 32)      f   \n",
       "3       30601258@N03  10437979845_5985be4b26_o.jpg       3  (25, 32)      m   \n",
       "4       30601258@N03  11816644924_075c3d8d59_o.jpg       2  (25, 32)      m   \n",
       "...              ...                           ...     ...       ...    ...   \n",
       "17406  101515718@N03  10587826073_6663f5b654_o.jpg    2280  (25, 32)      f   \n",
       "17407  101515718@N03  10587571495_a61785cd06_o.jpg    2278  (25, 32)      m   \n",
       "17408  101515718@N03  10587571495_a61785cd06_o.jpg    2279  (25, 32)      f   \n",
       "17409   50458575@N08   9426695459_9e8b347604_o.jpg    2281  (25, 32)      f   \n",
       "17410   50458575@N08   9429464468_1bfc39ecfb_o.jpg    2281  (25, 32)      f   \n",
       "\n",
       "          x     y    dx    dy tilt_ang fiducial_yaw_angle fiducial_score  \\\n",
       "0         0   414  1086  1383     -115                 30             17   \n",
       "1       301   105   640   641        0                  0             94   \n",
       "2      2395   876   771   771      175                -30             74   \n",
       "3       752  1255   484   485      180                  0             47   \n",
       "4       175    80   769   768      -75                  0             34   \n",
       "...     ...   ...   ...   ...      ...                ...            ...   \n",
       "17406   718   748   492   492        0                  0             63   \n",
       "17407    48   472   768   768      -15                  0             25   \n",
       "17408   950     0   692   687       -5                  0             27   \n",
       "17409   831   895   899   899        0                 15             59   \n",
       "17410   653  1023   555   554        5                 30             70   \n",
       "\n",
       "       age_class  \n",
       "0              4  \n",
       "1              4  \n",
       "2              4  \n",
       "3              4  \n",
       "4              4  \n",
       "...          ...  \n",
       "17406          4  \n",
       "17407          4  \n",
       "17408          4  \n",
       "17409          4  \n",
       "17410          4  \n",
       "\n",
       "[17411 rows x 13 columns]"
      ]
     },
     "metadata": {},
     "output_type": "display_data"
    },
    {
     "data": {
      "image/png": "[encoded data removed]",
      "text/plain": [
       "<Figure size 1200x600 with 1 Axes>"
      ]
     },
     "metadata": {},
     "output_type": "display_data"
    }
   ],
   "source": [
    "if len(data) > 0:\n",
    "    print(\"\\nSample data:\")\n",
    "    display(data)\n",
    "    \n",
    "    # Show age distribution\n",
    "    plt.figure(figsize=(12, 6))\n",
    "    data['age_class'].value_counts().sort_index().plot(kind='bar')\n",
    "    plt.title('Distribution of Age Classes')\n",
    "    plt.xlabel('Age Class')\n",
    "    plt.ylabel('Count')\n",
    "    plt.xticks(rotation=0)\n",
    "    plt.grid(axis='y', alpha=0.3)\n",
    "    plt.show()"
   ]
  },
  {
   "cell_type": "markdown",
   "id": "6e38d5f4",
   "metadata": {},
   "source": [
    "### Extract faces"
   ]
  },
  {
   "cell_type": "code",
   "execution_count": 36,
   "id": "6d2f0e6a",
   "metadata": {},
   "outputs": [
    {
     "name": "stdout",
     "output_type": "stream",
     "text": [
      "data\\faces already exists. Skipping extraction.\n"
     ]
    }
   ],
   "source": [
    "creator.extract_faces_archive()"
   ]
  },
  {
   "cell_type": "markdown",
   "id": "cd965645",
   "metadata": {},
   "source": [
    "### Generate dataset"
   ]
  },
  {
   "cell_type": "code",
   "execution_count": 37,
   "id": "62c34e0f",
   "metadata": {},
   "outputs": [
    {
     "name": "stdout",
     "output_type": "stream",
     "text": [
      "✅ data/age_dataset_tune already complete. Skipping...\n"
     ]
    }
   ],
   "source": [
    "# TODO: Objective function\n",
    "# if REBUILD_DATASET: \n",
    "#     # TODO: Code for deleting the data\n",
    "#     creator.create_yolo_dataset(train_folds=[0, 1, 2, 3], val_fold=4)\n",
    "# else:\n",
    "#     # if exist eller noe\n",
    "#     creator.download_preprocessed_dataset() # TODO: Google Drive hosting eller noe\n",
    "\n",
    "creator.create_yolo_dataset(train_folds=[0, 1, 2, 3], val_fold=4, output_dir=\"data/age_dataset_tune\")\n"
   ]
  },
  {
   "cell_type": "code",
   "execution_count": 38,
   "id": "86078bdf",
   "metadata": {},
   "outputs": [
    {
     "data": {
      "image/png": "[encoded data removed]",
      "text/plain": [
       "<Figure size 800x800 with 1 Axes>"
      ]
     },
     "metadata": {},
     "output_type": "display_data"
    }
   ],
   "source": [
    "show_sample_with_bbox(img_path='data/age_dataset_test/images/val/5_1327.jpg', label_path='data/age_dataset_test/labels/val/5_1327.txt', creator=creator)"
   ]
  },
  {
   "cell_type": "markdown",
   "id": "a72a9820",
   "metadata": {},
   "source": [
    "## Hyperparameter tuning"
   ]
  },
  {
   "cell_type": "markdown",
   "id": "09ab38aa",
   "metadata": {},
   "source": [
    "### Tune"
   ]
  },
  {
   "cell_type": "code",
   "execution_count": null,
   "id": "613099b5-abe6-48b8-be3f-759125dacd2e",
   "metadata": {},
   "outputs": [
    {
     "name": "stdout",
     "output_type": "stream",
     "text": [
      "\n",
      "📂 Evaluating dataset: data/age_dataset_tune\\data.yaml\n",
      "\n",
      "====================================================================================================\n",
      "🧪 Tuning: YOLOv8-n on dataset age_dataset_tune\n",
      "====================================================================================================\n",
      "⏩ Skipping tuning: 24 completed trials already (target was 1).\n",
      "\n",
      "✅ Best result for YOLOv8-n: 0.4656\n",
      "\n",
      "====================================================================================================\n",
      "🧪 Tuning: YOLOv8-s on dataset age_dataset_tune\n",
      "====================================================================================================\n",
      "⏩ Skipping tuning: 1 completed trials already (target was 1).\n",
      "\n",
      "✅ Best result for YOLOv8-s: 0.1482\n",
      "\n",
      "====================================================================================================\n",
      "🧪 Tuning: YOLOv8-m on dataset age_dataset_tune\n",
      "====================================================================================================\n",
      "⏩ Skipping tuning: 1 completed trials already (target was 1).\n",
      "\n",
      "✅ Best result for YOLOv8-m: 0.2179\n",
      "\n",
      "====================================================================================================\n",
      "🧪 Tuning: YOLOv8-l on dataset age_dataset_tune\n",
      "====================================================================================================\n",
      "⏩ Skipping tuning: 1 completed trials already (target was 1).\n",
      "\n",
      "✅ Best result for YOLOv8-l: 0.0086\n",
      "\n",
      "====================================================================================================\n",
      "🧪 Tuning: YOLOv8-x on dataset age_dataset_tune\n",
      "====================================================================================================\n",
      "⏩ Skipping tuning: 1 completed trials already (target was 1).\n",
      "\n",
      "✅ Best result for YOLOv8-x: 0.0000\n",
      "\n",
      "====================================================================================================\n",
      "🧪 Tuning: YOLOv9-n on dataset age_dataset_tune\n",
      "====================================================================================================\n",
      "⏩ Skipping tuning: 1 completed trials already (target was 1).\n",
      "\n",
      "✅ Best result for YOLOv9-n: 0.0926\n",
      "\n",
      "====================================================================================================\n",
      "🧪 Tuning: YOLOv9-s on dataset age_dataset_tune\n",
      "====================================================================================================\n",
      "⏩ Skipping tuning: 1 completed trials already (target was 1).\n",
      "⚠️ Could not retrieve best trial: Record does not exist.\n",
      "\n",
      "====================================================================================================\n",
      "🧪 Tuning: YOLOv9-m on dataset age_dataset_tune\n",
      "====================================================================================================\n",
      "⏩ Skipping tuning: 1 completed trials already (target was 1).\n",
      "\n",
      "✅ Best result for YOLOv9-m: 0.0000\n",
      "\n",
      "====================================================================================================\n",
      "🧪 Tuning: YOLOv9-l on dataset age_dataset_tune\n",
      "====================================================================================================\n",
      "⏩ Skipping tuning: 1 completed trials already (target was 1).\n",
      "\n",
      "✅ Best result for YOLOv9-l: 0.0000\n",
      "\n",
      "====================================================================================================\n",
      "🧪 Tuning: YOLOv9-x on dataset age_dataset_tune\n",
      "====================================================================================================\n",
      "⏩ Skipping tuning: 1 completed trials already (target was 1).\n",
      "\n",
      "✅ Best result for YOLOv9-x: 0.0000\n",
      "\n",
      "====================================================================================================\n",
      "🧪 Tuning: YOLOv10-n on dataset age_dataset_tune\n",
      "====================================================================================================\n",
      "⏩ Skipping tuning: 1 completed trials already (target was 1).\n",
      "\n",
      "✅ Best result for YOLOv10-n: 0.0000\n",
      "\n",
      "====================================================================================================\n",
      "🧪 Tuning: YOLOv10-s on dataset age_dataset_tune\n",
      "====================================================================================================\n",
      "⏩ Skipping tuning: 1 completed trials already (target was 1).\n",
      "\n",
      "✅ Best result for YOLOv10-s: 0.0000\n",
      "\n",
      "====================================================================================================\n",
      "🧪 Tuning: YOLOv10-m on dataset age_dataset_tune\n",
      "====================================================================================================\n",
      "⏩ Skipping tuning: 1 completed trials already (target was 1).\n",
      "\n",
      "✅ Best result for YOLOv10-m: 0.0000\n",
      "\n",
      "====================================================================================================\n",
      "🧪 Tuning: YOLOv10-l on dataset age_dataset_tune\n",
      "====================================================================================================\n",
      "⏩ Skipping tuning: 1 completed trials already (target was 1).\n",
      "⚠️ Could not retrieve best trial: Record does not exist.\n",
      "\n",
      "====================================================================================================\n",
      "🧪 Tuning: YOLOv10-x on dataset age_dataset_tune\n",
      "====================================================================================================\n"
     ]
    },
    {
     "name": "stderr",
     "output_type": "stream",
     "text": [
      "[I 2025-04-30 22:59:59,837] A new study created in RDB with name: yolo_v10x\n"
     ]
    },
    {
     "name": "stdout",
     "output_type": "stream",
     "text": [
      "🔄 Starting/resuming tuning: 1 trials needed.\n",
      "New https://pypi.org/project/ultralytics/8.3.121 available  Update with 'pip install -U ultralytics'\n",
      "Ultralytics 8.3.119  Python-3.10.17 torch-2.2.2+cu118 CUDA:0 (NVIDIA GeForce RTX 3080, 10240MiB)\n",
      "\u001b[34m\u001b[1mengine\\trainer: \u001b[0mtask=detect, mode=train, model=yolov10x.pt, data=data/age_dataset_tune\\data.yaml, epochs=1, time=None, patience=100, batch=0.9, imgsz=416, save=True, save_period=-1, cache=disk, device=0, workers=1, project=None, name=train45, exist_ok=False, pretrained=True, optimizer=AdamW, verbose=False, seed=0, deterministic=True, single_cls=False, rect=False, cos_lr=False, close_mosaic=10, resume=False, amp=True, fraction=0.1, profile=False, freeze=None, multi_scale=False, overlap_mask=True, mask_ratio=4, dropout=0.0, val=True, split=val, save_json=False, conf=None, iou=0.7, max_det=300, half=False, dnn=False, plots=False, source=None, vid_stride=1, stream_buffer=False, visualize=False, augment=False, agnostic_nms=False, classes=None, retina_masks=False, embed=None, show=False, save_frames=False, save_txt=False, save_conf=False, save_crop=False, show_labels=True, show_conf=True, show_boxes=True, line_width=None, format=torchscript, keras=False, optimize=False, int8=False, dynamic=False, simplify=True, opset=None, workspace=None, nms=False, lr0=0.010609155653116974, lrf=0.3047944843816231, momentum=0.9282598515743892, weight_decay=0.00027470691677701763, warmup_epochs=5, warmup_momentum=0.7316606437363429, warmup_bias_lr=0.1, box=0.10195076716965186, cls=2.9232513886538367, dfl=1.5, pose=12.0, kobj=1.0, nbs=64, hsv_h=0.021784439924342237, hsv_s=0.6687286879191396, hsv_v=0.862386817527838, degrees=12.559604640287926, translate=0.08413580816611743, scale=0.369243751083681, shear=0.0, perspective=0.0, flipud=0.0, fliplr=0.31856941896654245, bgr=0.0, mosaic=0.7270372293361731, mixup=0.0, cutmix=0.0, copy_paste=0.0, copy_paste_mode=flip, auto_augment=randaugment, erasing=0.4, cfg=None, tracker=botsort.yaml, save_dir=runs\\detect\\train45\n",
      "Overriding model.yaml nc=80 with nc=8\n",
      "\n",
      "                   from  n    params  module                                       arguments                     \n",
      "  0                  -1  1      2320  ultralytics.nn.modules.conv.Conv             [3, 80, 3, 2]                 \n",
      "  1                  -1  1    115520  ultralytics.nn.modules.conv.Conv             [80, 160, 3, 2]               \n",
      "  2                  -1  3    436800  ultralytics.nn.modules.block.C2f             [160, 160, 3, True]           \n",
      "  3                  -1  1    461440  ultralytics.nn.modules.conv.Conv             [160, 320, 3, 2]              \n",
      "  4                  -1  6   3281920  ultralytics.nn.modules.block.C2f             [320, 320, 6, True]           \n",
      "  5                  -1  1    213120  ultralytics.nn.modules.block.SCDown          [320, 640, 3, 2]              \n",
      "  6                  -1  6   4604160  ultralytics.nn.modules.block.C2fCIB          [640, 640, 6, True]           \n",
      "  7                  -1  1    417920  ultralytics.nn.modules.block.SCDown          [640, 640, 3, 2]              \n",
      "  8                  -1  3   2712960  ultralytics.nn.modules.block.C2fCIB          [640, 640, 3, True]           \n",
      "  9                  -1  1   1025920  ultralytics.nn.modules.block.SPPF            [640, 640, 5]                 \n",
      " 10                  -1  1   1545920  ultralytics.nn.modules.block.PSA             [640, 640]                    \n",
      " 11                  -1  1         0  torch.nn.modules.upsampling.Upsample         [None, 2, 'nearest']          \n",
      " 12             [-1, 6]  1         0  ultralytics.nn.modules.conv.Concat           [1]                           \n",
      " 13                  -1  3   3122560  ultralytics.nn.modules.block.C2fCIB          [1280, 640, 3, True]          \n",
      " 14                  -1  1         0  torch.nn.modules.upsampling.Upsample         [None, 2, 'nearest']          \n",
      " 15             [-1, 4]  1         0  ultralytics.nn.modules.conv.Concat           [1]                           \n",
      " 16                  -1  3   1948800  ultralytics.nn.modules.block.C2f             [960, 320, 3]                 \n",
      " 17                  -1  1    922240  ultralytics.nn.modules.conv.Conv             [320, 320, 3, 2]              \n",
      " 18            [-1, 13]  1         0  ultralytics.nn.modules.conv.Concat           [1]                           \n",
      " 19                  -1  3   2917760  ultralytics.nn.modules.block.C2fCIB          [960, 640, 3, True]           \n",
      " 20                  -1  1    417920  ultralytics.nn.modules.block.SCDown          [640, 640, 3, 2]              \n",
      " 21            [-1, 10]  1         0  ultralytics.nn.modules.conv.Concat           [1]                           \n",
      " 22                  -1  3   3122560  ultralytics.nn.modules.block.C2fCIB          [1280, 640, 3, True]          \n",
      " 23        [16, 19, 22]  1   4400448  ultralytics.nn.modules.head.v10Detect        [8, [320, 640, 640]]          \n",
      "YOLOv10x summary: 400 layers, 31,670,288 parameters, 31,670,272 gradients, 171.1 GFLOPs\n",
      "\n",
      "Transferred 1123/1135 items from pretrained weights\n",
      "Freezing layer 'model.23.dfl.conv.weight'\n",
      "\u001b[34m\u001b[1mAMP: \u001b[0mrunning Automatic Mixed Precision (AMP) checks...\n",
      "\u001b[34m\u001b[1mAMP: \u001b[0mchecks passed \n",
      "\u001b[34m\u001b[1mtrain: \u001b[0mFast image access  (ping: 11.78.1 ms, read: 0.90.4 MB/s, size: 19.8 KB)\n"
     ]
    },
    {
     "name": "stderr",
     "output_type": "stream",
     "text": [
      "\u001b[34m\u001b[1mtrain: \u001b[0mScanning B:\\OneDrive\\Skole\\Studier_UiA\\8_sem_V25\\ikt452_computer_vision\\Yolo-Age-estimation\\data\\age_dataset_tune\\labels\\train... 1373 images, 0 backgrounds, 0 corrupt: 100%|██████████| 1373/1373 [00:05<00:00, 241.63it/s]\n"
     ]
    },
    {
     "name": "stdout",
     "output_type": "stream",
     "text": [
      "\u001b[34m\u001b[1mtrain: \u001b[0mNew cache created: B:\\OneDrive\\Skole\\Studier_UiA\\8_sem_V25\\ikt452_computer_vision\\Yolo-Age-estimation\\data\\age_dataset_tune\\labels\\train.cache\n"
     ]
    },
    {
     "name": "stderr",
     "output_type": "stream",
     "text": [
      "\u001b[34m\u001b[1mtrain: \u001b[0mCaching images (0.7GB Disk): 100%|██████████| 1373/1373 [00:00<00:00, 3293.08it/s]\n"
     ]
    },
    {
     "name": "stdout",
     "output_type": "stream",
     "text": [
      "\u001b[34m\u001b[1mAutoBatch: \u001b[0mComputing optimal batch size for imgsz=416 at 90.0% CUDA memory utilization.\n",
      "\u001b[34m\u001b[1mAutoBatch: \u001b[0mCUDA:0 (NVIDIA GeForce RTX 3080) 10.00G total, 0.50G reserved, 0.28G allocated, 9.22G free\n",
      "      Params      GFLOPs  GPU_mem (GB)  forward (ms) backward (ms)                   input                  output\n",
      "    31670288       72.28         2.206         153.5           nan        (1, 3, 416, 416)                    list\n",
      "    31670288       144.6         4.068         196.1           nan        (2, 3, 416, 416)                    list\n",
      "    31670288       289.1         6.034          99.9           nan        (4, 3, 416, 416)                    list\n",
      "    31670288       578.2        10.865         131.6           nan        (8, 3, 416, 416)                    list\n",
      "CUDA out of memory. Tried to allocate 34.00 MiB. GPU 0 has a total capacity of 10.00 GiB of which 0 bytes is free. Of the allocated memory 9.12 GiB is allocated by PyTorch, and 173.45 MiB is reserved by PyTorch but unallocated. If reserved but unallocated memory is large try setting PYTORCH_CUDA_ALLOC_CONF=expandable_segments:True to avoid fragmentation.  See documentation for Memory Management  (https://pytorch.org/docs/stable/notes/cuda.html#environment-variables)\n",
      "\u001b[34m\u001b[1mAutoBatch: \u001b[0mUsing batch-size 5 for CUDA:0 8.17G/10.00G (82%) \n",
      "\u001b[34m\u001b[1mtrain: \u001b[0mFast image access  (ping: 0.10.0 ms, read: 113.67.7 MB/s, size: 20.3 KB)\n"
     ]
    },
    {
     "name": "stderr",
     "output_type": "stream",
     "text": [
      "\u001b[34m\u001b[1mtrain: \u001b[0mScanning B:\\OneDrive\\Skole\\Studier_UiA\\8_sem_V25\\ikt452_computer_vision\\Yolo-Age-estimation\\data\\age_dataset_tune\\labels\\train.cache... 1373 images, 0 backgrounds, 0 corrupt: 100%|██████████| 1373/1373 [00:00<?, ?it/s]\n",
      "\u001b[34m\u001b[1mtrain: \u001b[0mCaching images (0.7GB Disk): 100%|██████████| 1373/1373 [00:00<00:00, 6519.49it/s]\n"
     ]
    },
    {
     "name": "stdout",
     "output_type": "stream",
     "text": [
      "\u001b[34m\u001b[1mval: \u001b[0mFast image access  (ping: 8.410.5 ms, read: 1.31.0 MB/s, size: 23.3 KB)\n"
     ]
    },
    {
     "name": "stderr",
     "output_type": "stream",
     "text": [
      "\u001b[34m\u001b[1mval: \u001b[0mScanning B:\\OneDrive\\Skole\\Studier_UiA\\8_sem_V25\\ikt452_computer_vision\\Yolo-Age-estimation\\data\\age_dataset_tune\\labels\\val.cache... 3679 images, 0 backgrounds, 0 corrupt: 100%|██████████| 3679/3679 [00:00<?, ?it/s]\n",
      "\u001b[34m\u001b[1mval: \u001b[0mCaching images (1.8GB Disk): 100%|██████████| 3679/3679 [00:00<00:00, 6496.00it/s]\n"
     ]
    },
    {
     "name": "stdout",
     "output_type": "stream",
     "text": [
      "\u001b[34m\u001b[1moptimizer:\u001b[0m AdamW(lr=0.010609155653116974, momentum=0.9282598515743892) with parameter groups 185 weight(decay=0.0), 198 weight(decay=0.00027899921235165855), 197 bias(decay=0.0)\n",
      "Image sizes 416 train, 416 val\n",
      "Using 1 dataloader workers\n",
      "Logging results to \u001b[1mruns\\detect\\train45\u001b[0m\n",
      "Starting training for 1 epochs...\n",
      "\n",
      "      Epoch    GPU_mem   box_loss   cls_loss   dfl_loss  Instances       Size\n"
     ]
    },
    {
     "name": "stderr",
     "output_type": "stream",
     "text": [
      "        1/1      3.03G    0.05702      39.45      4.744          5        416: 100%|██████████| 275/275 [01:23<00:00,  3.29it/s]\n",
      "                 Class     Images  Instances      Box(P          R      mAP50  mAP50-95): 100%|██████████| 368/368 [00:49<00:00,  7.51it/s]\n"
     ]
    },
    {
     "name": "stdout",
     "output_type": "stream",
     "text": [
      "                   all       3679       3679      0.431      0.208     0.0774     0.0333\n",
      "\n",
      "1 epochs completed in 0.038 hours.\n",
      "Optimizer stripped from runs\\detect\\train45\\weights\\last.pt, 64.1MB\n",
      "Optimizer stripped from runs\\detect\\train45\\weights\\best.pt, 64.1MB\n",
      "\n",
      "Validating runs\\detect\\train45\\weights\\best.pt...\n",
      "Ultralytics 8.3.119  Python-3.10.17 torch-2.2.2+cu118 CUDA:0 (NVIDIA GeForce RTX 3080, 10240MiB)\n",
      "YOLOv10x summary (fused): 192 layers, 29,404,232 parameters, 0 gradients, 160.0 GFLOPs\n"
     ]
    },
    {
     "name": "stderr",
     "output_type": "stream",
     "text": [
      "                 Class     Images  Instances      Box(P          R      mAP50  mAP50-95): 100%|██████████| 368/368 [00:27<00:00, 13.48it/s]\n"
     ]
    },
    {
     "name": "stdout",
     "output_type": "stream",
     "text": [
      "                   all       3679       3679      0.431       0.21     0.0774     0.0333\n",
      "Speed: 0.3ms preprocess, 4.1ms inference, 0.0ms loss, 0.2ms postprocess per image\n"
     ]
    },
    {
     "name": "stderr",
     "output_type": "stream",
     "text": [
      "[I 2025-04-30 23:03:25,429] Trial 0 finished with value: 0.03771191427679872 and parameters: {'lr0': 0.010609155653116974, 'lrf': 0.3047944843816231, 'momentum': 0.9282598515743892, 'weight_decay': 0.00027470691677701763, 'warmup_epochs': 5, 'warmup_momentum': 0.7316606437363429, 'box': 0.10195076716965186, 'cls': 2.9232513886538367, 'hsv_h': 0.021784439924342237, 'hsv_s': 0.6687286879191396, 'hsv_v': 0.862386817527838, 'degrees': 12.559604640287926, 'translate': 0.08413580816611743, 'scale': 0.369243751083681, 'fliplr': 0.31856941896654245, 'mosaic': 0.7270372293361731, 'imgsz': 416}. Best is trial 0 with value: 0.03771191427679872.\n"
     ]
    },
    {
     "name": "stdout",
     "output_type": "stream",
     "text": [
      "\n",
      "✅ Best result for YOLOv10-x: 0.0377\n",
      "\n",
      "====================================================================================================\n",
      "🧪 Tuning: YOLOv11-n on dataset age_dataset_tune\n",
      "====================================================================================================\n"
     ]
    },
    {
     "name": "stderr",
     "output_type": "stream",
     "text": [
      "[I 2025-04-30 23:03:26,183] A new study created in RDB with name: yolo_v11n\n"
     ]
    },
    {
     "name": "stdout",
     "output_type": "stream",
     "text": [
      "🔄 Starting/resuming tuning: 1 trials needed.\n",
      "New https://pypi.org/project/ultralytics/8.3.121 available  Update with 'pip install -U ultralytics'\n",
      "Ultralytics 8.3.119  Python-3.10.17 torch-2.2.2+cu118 CUDA:0 (NVIDIA GeForce RTX 3080, 10240MiB)\n",
      "\u001b[34m\u001b[1mengine\\trainer: \u001b[0mtask=detect, mode=train, model=yolo11n.pt, data=data/age_dataset_tune\\data.yaml, epochs=1, time=None, patience=100, batch=0.9, imgsz=416, save=True, save_period=-1, cache=disk, device=0, workers=1, project=None, name=train46, exist_ok=False, pretrained=True, optimizer=AdamW, verbose=False, seed=0, deterministic=True, single_cls=False, rect=False, cos_lr=False, close_mosaic=10, resume=False, amp=True, fraction=0.1, profile=False, freeze=None, multi_scale=False, overlap_mask=True, mask_ratio=4, dropout=0.0, val=True, split=val, save_json=False, conf=None, iou=0.7, max_det=300, half=False, dnn=False, plots=False, source=None, vid_stride=1, stream_buffer=False, visualize=False, augment=False, agnostic_nms=False, classes=None, retina_masks=False, embed=None, show=False, save_frames=False, save_txt=False, save_conf=False, save_crop=False, show_labels=True, show_conf=True, show_boxes=True, line_width=None, format=torchscript, keras=False, optimize=False, int8=False, dynamic=False, simplify=True, opset=None, workspace=None, nms=False, lr0=0.0012869062957269973, lrf=0.5069567706836401, momentum=0.910144337830089, weight_decay=0.00025767697440555725, warmup_epochs=5, warmup_momentum=0.5885364955634527, warmup_bias_lr=0.1, box=0.11886794104647316, cls=0.9138299224387234, dfl=1.5, pose=12.0, kobj=1.0, nbs=64, hsv_h=0.09059021352153324, hsv_s=0.7432701257186791, hsv_v=0.511030364057575, degrees=27.032720560461957, translate=0.16449250306131286, scale=0.07769353302757503, shear=0.0, perspective=0.0, flipud=0.0, fliplr=0.474865811401236, bgr=0.0, mosaic=0.7646827318369561, mixup=0.0, cutmix=0.0, copy_paste=0.0, copy_paste_mode=flip, auto_augment=randaugment, erasing=0.4, cfg=None, tracker=botsort.yaml, save_dir=runs\\detect\\train46\n",
      "Overriding model.yaml nc=80 with nc=8\n",
      "\n",
      "                   from  n    params  module                                       arguments                     \n",
      "  0                  -1  1       464  ultralytics.nn.modules.conv.Conv             [3, 16, 3, 2]                 \n",
      "  1                  -1  1      4672  ultralytics.nn.modules.conv.Conv             [16, 32, 3, 2]                \n",
      "  2                  -1  1      6640  ultralytics.nn.modules.block.C3k2            [32, 64, 1, False, 0.25]      \n",
      "  3                  -1  1     36992  ultralytics.nn.modules.conv.Conv             [64, 64, 3, 2]                \n",
      "  4                  -1  1     26080  ultralytics.nn.modules.block.C3k2            [64, 128, 1, False, 0.25]     \n",
      "  5                  -1  1    147712  ultralytics.nn.modules.conv.Conv             [128, 128, 3, 2]              \n",
      "  6                  -1  1     87040  ultralytics.nn.modules.block.C3k2            [128, 128, 1, True]           \n",
      "  7                  -1  1    295424  ultralytics.nn.modules.conv.Conv             [128, 256, 3, 2]              \n",
      "  8                  -1  1    346112  ultralytics.nn.modules.block.C3k2            [256, 256, 1, True]           \n",
      "  9                  -1  1    164608  ultralytics.nn.modules.block.SPPF            [256, 256, 5]                 \n",
      " 10                  -1  1    249728  ultralytics.nn.modules.block.C2PSA           [256, 256, 1]                 \n",
      " 11                  -1  1         0  torch.nn.modules.upsampling.Upsample         [None, 2, 'nearest']          \n",
      " 12             [-1, 6]  1         0  ultralytics.nn.modules.conv.Concat           [1]                           \n",
      " 13                  -1  1    111296  ultralytics.nn.modules.block.C3k2            [384, 128, 1, False]          \n",
      " 14                  -1  1         0  torch.nn.modules.upsampling.Upsample         [None, 2, 'nearest']          \n",
      " 15             [-1, 4]  1         0  ultralytics.nn.modules.conv.Concat           [1]                           \n",
      " 16                  -1  1     32096  ultralytics.nn.modules.block.C3k2            [256, 64, 1, False]           \n",
      " 17                  -1  1     36992  ultralytics.nn.modules.conv.Conv             [64, 64, 3, 2]                \n",
      " 18            [-1, 13]  1         0  ultralytics.nn.modules.conv.Concat           [1]                           \n",
      " 19                  -1  1     86720  ultralytics.nn.modules.block.C3k2            [192, 128, 1, False]          \n",
      " 20                  -1  1    147712  ultralytics.nn.modules.conv.Conv             [128, 128, 3, 2]              \n",
      " 21            [-1, 10]  1         0  ultralytics.nn.modules.conv.Concat           [1]                           \n",
      " 22                  -1  1    378880  ultralytics.nn.modules.block.C3k2            [384, 256, 1, True]           \n",
      " 23        [16, 19, 22]  1    432232  ultralytics.nn.modules.head.Detect           [8, [64, 128, 256]]           \n",
      "YOLO11n summary: 181 layers, 2,591,400 parameters, 2,591,384 gradients, 6.4 GFLOPs\n",
      "\n",
      "Transferred 448/499 items from pretrained weights\n",
      "Freezing layer 'model.23.dfl.conv.weight'\n",
      "\u001b[34m\u001b[1mAMP: \u001b[0mrunning Automatic Mixed Precision (AMP) checks...\n",
      "\u001b[34m\u001b[1mAMP: \u001b[0mchecks passed \n",
      "\u001b[34m\u001b[1mtrain: \u001b[0mFast image access  (ping: 0.10.1 ms, read: 110.938.0 MB/s, size: 19.8 KB)\n"
     ]
    },
    {
     "name": "stderr",
     "output_type": "stream",
     "text": [
      "\u001b[34m\u001b[1mtrain: \u001b[0mScanning B:\\OneDrive\\Skole\\Studier_UiA\\8_sem_V25\\ikt452_computer_vision\\Yolo-Age-estimation\\data\\age_dataset_tune\\labels\\train.cache... 1373 images, 0 backgrounds, 0 corrupt: 100%|██████████| 1373/1373 [00:00<?, ?it/s]\n",
      "\u001b[34m\u001b[1mtrain: \u001b[0mCaching images (0.7GB Disk): 100%|██████████| 1373/1373 [00:00<00:00, 6920.76it/s]"
     ]
    },
    {
     "name": "stdout",
     "output_type": "stream",
     "text": [
      "\u001b[34m\u001b[1mAutoBatch: \u001b[0mComputing optimal batch size for imgsz=416 at 90.0% CUDA memory utilization.\n",
      "\u001b[34m\u001b[1mAutoBatch: \u001b[0mCUDA:0 (NVIDIA GeForce RTX 3080) 10.00G total, 1.33G reserved, 0.09G allocated, 8.58G free\n",
      "      Params      GFLOPs  GPU_mem (GB)  forward (ms) backward (ms)                   input                  output\n"
     ]
    },
    {
     "name": "stderr",
     "output_type": "stream",
     "text": [
      "\n"
     ]
    },
    {
     "name": "stdout",
     "output_type": "stream",
     "text": [
      "     2591400       2.724         0.833         46.46         280.4        (1, 3, 416, 416)                    list\n",
      "     2591400       5.449         0.872         40.05         269.6        (2, 3, 416, 416)                    list\n",
      "     2591400        10.9         1.158         78.37         256.8        (4, 3, 416, 416)                    list\n",
      "     2591400       21.79         1.581         72.12         266.5        (8, 3, 416, 416)                    list\n",
      "     2591400       43.59         1.965         73.88         274.4       (16, 3, 416, 416)                    list\n",
      "\u001b[34m\u001b[1mAutoBatch: \u001b[0mUsing batch-size 92 for CUDA:0 9.37G/10.00G (94%) \n",
      "\u001b[34m\u001b[1mtrain: \u001b[0mFast image access  (ping: 0.10.1 ms, read: 109.87.8 MB/s, size: 20.3 KB)\n"
     ]
    },
    {
     "name": "stderr",
     "output_type": "stream",
     "text": [
      "\u001b[34m\u001b[1mtrain: \u001b[0mScanning B:\\OneDrive\\Skole\\Studier_UiA\\8_sem_V25\\ikt452_computer_vision\\Yolo-Age-estimation\\data\\age_dataset_tune\\labels\\train.cache... 1373 images, 0 backgrounds, 0 corrupt: 100%|██████████| 1373/1373 [00:00<?, ?it/s]\n",
      "\u001b[34m\u001b[1mtrain: \u001b[0mCaching images (0.7GB Disk): 100%|██████████| 1373/1373 [00:00<00:00, 6296.65it/s]\n"
     ]
    },
    {
     "name": "stdout",
     "output_type": "stream",
     "text": [
      "\u001b[34m\u001b[1mval: \u001b[0mFast image access  (ping: 0.20.1 ms, read: 124.520.9 MB/s, size: 23.3 KB)\n"
     ]
    },
    {
     "name": "stderr",
     "output_type": "stream",
     "text": [
      "\u001b[34m\u001b[1mval: \u001b[0mScanning B:\\OneDrive\\Skole\\Studier_UiA\\8_sem_V25\\ikt452_computer_vision\\Yolo-Age-estimation\\data\\age_dataset_tune\\labels\\val.cache... 3679 images, 0 backgrounds, 0 corrupt: 100%|██████████| 3679/3679 [00:00<?, ?it/s]\n",
      "\u001b[34m\u001b[1mval: \u001b[0mCaching images (1.8GB Disk): 100%|██████████| 3679/3679 [00:00<00:00, 6380.38it/s]\n"
     ]
    },
    {
     "name": "stdout",
     "output_type": "stream",
     "text": [
      "\u001b[34m\u001b[1moptimizer:\u001b[0m AdamW(lr=0.0012869062957269973, momentum=0.910144337830089) with parameter groups 81 weight(decay=0.0), 88 weight(decay=0.0003704106507079885), 87 bias(decay=0.0)\n",
      "Image sizes 416 train, 416 val\n",
      "Using 1 dataloader workers\n",
      "Logging results to \u001b[1mruns\\detect\\train46\u001b[0m\n",
      "Starting training for 1 epochs...\n",
      "\n",
      "      Epoch    GPU_mem   box_loss   cls_loss   dfl_loss  Instances       Size\n"
     ]
    },
    {
     "name": "stderr",
     "output_type": "stream",
     "text": [
      "        1/1       5.9G     0.0249      6.154      1.808        159        416: 100%|██████████| 15/15 [00:08<00:00,  1.68it/s]\n",
      "                 Class     Images  Instances      Box(P          R      mAP50  mAP50-95): 100%|██████████| 20/20 [00:21<00:00,  1.05s/it]\n"
     ]
    },
    {
     "name": "stdout",
     "output_type": "stream",
     "text": [
      "                   all       3679       3679    0.00193      0.589     0.0305    0.00505\n",
      "\n",
      "1 epochs completed in 0.009 hours.\n",
      "Optimizer stripped from runs\\detect\\train46\\weights\\last.pt, 5.4MB\n",
      "Optimizer stripped from runs\\detect\\train46\\weights\\best.pt, 5.4MB\n",
      "\n",
      "Validating runs\\detect\\train46\\weights\\best.pt...\n",
      "Ultralytics 8.3.119  Python-3.10.17 torch-2.2.2+cu118 CUDA:0 (NVIDIA GeForce RTX 3080, 10240MiB)\n",
      "YOLO11n summary (fused): 100 layers, 2,583,712 parameters, 0 gradients, 6.3 GFLOPs\n"
     ]
    },
    {
     "name": "stderr",
     "output_type": "stream",
     "text": [
      "                 Class     Images  Instances      Box(P          R      mAP50  mAP50-95): 100%|██████████| 20/20 [00:19<00:00,  1.03it/s]\n"
     ]
    },
    {
     "name": "stdout",
     "output_type": "stream",
     "text": [
      "                   all       3679       3679    0.00193      0.587     0.0306    0.00506\n",
      "Speed: 0.2ms preprocess, 0.3ms inference, 0.0ms loss, 2.1ms postprocess per image\n"
     ]
    },
    {
     "name": "stderr",
     "output_type": "stream",
     "text": [
      "[I 2025-04-30 23:04:39,280] Trial 0 finished with value: 0.007611651367677352 and parameters: {'lr0': 0.0012869062957269973, 'lrf': 0.5069567706836401, 'momentum': 0.910144337830089, 'weight_decay': 0.00025767697440555725, 'warmup_epochs': 5, 'warmup_momentum': 0.5885364955634527, 'box': 0.11886794104647316, 'cls': 0.9138299224387234, 'hsv_h': 0.09059021352153324, 'hsv_s': 0.7432701257186791, 'hsv_v': 0.511030364057575, 'degrees': 27.032720560461957, 'translate': 0.16449250306131286, 'scale': 0.07769353302757503, 'fliplr': 0.474865811401236, 'mosaic': 0.7646827318369561, 'imgsz': 416}. Best is trial 0 with value: 0.007611651367677352.\n"
     ]
    },
    {
     "name": "stdout",
     "output_type": "stream",
     "text": [
      "\n",
      "✅ Best result for YOLOv11-n: 0.0076\n",
      "\n",
      "====================================================================================================\n",
      "🧪 Tuning: YOLOv11-s on dataset age_dataset_tune\n",
      "====================================================================================================\n"
     ]
    },
    {
     "name": "stderr",
     "output_type": "stream",
     "text": [
      "[I 2025-04-30 23:04:40,030] A new study created in RDB with name: yolo_v11s\n"
     ]
    },
    {
     "name": "stdout",
     "output_type": "stream",
     "text": [
      "🔄 Starting/resuming tuning: 1 trials needed.\n",
      "New https://pypi.org/project/ultralytics/8.3.121 available  Update with 'pip install -U ultralytics'\n",
      "Ultralytics 8.3.119  Python-3.10.17 torch-2.2.2+cu118 CUDA:0 (NVIDIA GeForce RTX 3080, 10240MiB)\n",
      "\u001b[34m\u001b[1mengine\\trainer: \u001b[0mtask=detect, mode=train, model=yolo11s.pt, data=data/age_dataset_tune\\data.yaml, epochs=1, time=None, patience=100, batch=0.9, imgsz=416, save=True, save_period=-1, cache=disk, device=0, workers=1, project=None, name=train47, exist_ok=False, pretrained=True, optimizer=AdamW, verbose=False, seed=0, deterministic=True, single_cls=False, rect=False, cos_lr=False, close_mosaic=10, resume=False, amp=True, fraction=0.1, profile=False, freeze=None, multi_scale=False, overlap_mask=True, mask_ratio=4, dropout=0.0, val=True, split=val, save_json=False, conf=None, iou=0.7, max_det=300, half=False, dnn=False, plots=False, source=None, vid_stride=1, stream_buffer=False, visualize=False, augment=False, agnostic_nms=False, classes=None, retina_masks=False, embed=None, show=False, save_frames=False, save_txt=False, save_conf=False, save_crop=False, show_labels=True, show_conf=True, show_boxes=True, line_width=None, format=torchscript, keras=False, optimize=False, int8=False, dynamic=False, simplify=True, opset=None, workspace=None, nms=False, lr0=0.0030647407310885454, lrf=0.5259671305775608, momentum=0.734373543480445, weight_decay=0.0005710932744539152, warmup_epochs=4, warmup_momentum=0.8882711256605424, warmup_bias_lr=0.1, box=0.09836577752899996, cls=0.7870181979633426, dfl=1.5, pose=12.0, kobj=1.0, nbs=64, hsv_h=0.035978791954049814, hsv_s=0.5495400504115365, hsv_v=0.5244108376261624, degrees=36.278274848808856, translate=0.37810768473385703, scale=0.17687192533592505, shear=0.0, perspective=0.0, flipud=0.0, fliplr=0.04464427393142956, bgr=0.0, mosaic=0.47751573636654376, mixup=0.0, cutmix=0.0, copy_paste=0.0, copy_paste_mode=flip, auto_augment=randaugment, erasing=0.4, cfg=None, tracker=botsort.yaml, save_dir=runs\\detect\\train47\n",
      "Overriding model.yaml nc=80 with nc=8\n",
      "\n",
      "                   from  n    params  module                                       arguments                     \n",
      "  0                  -1  1       928  ultralytics.nn.modules.conv.Conv             [3, 32, 3, 2]                 \n",
      "  1                  -1  1     18560  ultralytics.nn.modules.conv.Conv             [32, 64, 3, 2]                \n",
      "  2                  -1  1     26080  ultralytics.nn.modules.block.C3k2            [64, 128, 1, False, 0.25]     \n",
      "  3                  -1  1    147712  ultralytics.nn.modules.conv.Conv             [128, 128, 3, 2]              \n",
      "  4                  -1  1    103360  ultralytics.nn.modules.block.C3k2            [128, 256, 1, False, 0.25]    \n",
      "  5                  -1  1    590336  ultralytics.nn.modules.conv.Conv             [256, 256, 3, 2]              \n",
      "  6                  -1  1    346112  ultralytics.nn.modules.block.C3k2            [256, 256, 1, True]           \n",
      "  7                  -1  1   1180672  ultralytics.nn.modules.conv.Conv             [256, 512, 3, 2]              \n",
      "  8                  -1  1   1380352  ultralytics.nn.modules.block.C3k2            [512, 512, 1, True]           \n",
      "  9                  -1  1    656896  ultralytics.nn.modules.block.SPPF            [512, 512, 5]                 \n",
      " 10                  -1  1    990976  ultralytics.nn.modules.block.C2PSA           [512, 512, 1]                 \n",
      " 11                  -1  1         0  torch.nn.modules.upsampling.Upsample         [None, 2, 'nearest']          \n",
      " 12             [-1, 6]  1         0  ultralytics.nn.modules.conv.Concat           [1]                           \n",
      " 13                  -1  1    443776  ultralytics.nn.modules.block.C3k2            [768, 256, 1, False]          \n",
      " 14                  -1  1         0  torch.nn.modules.upsampling.Upsample         [None, 2, 'nearest']          \n",
      " 15             [-1, 4]  1         0  ultralytics.nn.modules.conv.Concat           [1]                           \n",
      " 16                  -1  1    127680  ultralytics.nn.modules.block.C3k2            [512, 128, 1, False]          \n",
      " 17                  -1  1    147712  ultralytics.nn.modules.conv.Conv             [128, 128, 3, 2]              \n",
      " 18            [-1, 13]  1         0  ultralytics.nn.modules.conv.Concat           [1]                           \n",
      " 19                  -1  1    345472  ultralytics.nn.modules.block.C3k2            [384, 256, 1, False]          \n",
      " 20                  -1  1    590336  ultralytics.nn.modules.conv.Conv             [256, 256, 3, 2]              \n",
      " 21            [-1, 10]  1         0  ultralytics.nn.modules.conv.Concat           [1]                           \n",
      " 22                  -1  1   1511424  ultralytics.nn.modules.block.C3k2            [768, 512, 1, True]           \n",
      " 23        [16, 19, 22]  1    822504  ultralytics.nn.modules.head.Detect           [8, [128, 256, 512]]          \n",
      "YOLO11s summary: 181 layers, 9,430,888 parameters, 9,430,872 gradients, 21.6 GFLOPs\n",
      "\n",
      "Transferred 493/499 items from pretrained weights\n",
      "Freezing layer 'model.23.dfl.conv.weight'\n",
      "\u001b[34m\u001b[1mAMP: \u001b[0mrunning Automatic Mixed Precision (AMP) checks...\n",
      "\u001b[34m\u001b[1mAMP: \u001b[0mchecks passed \n",
      "\u001b[34m\u001b[1mtrain: \u001b[0mFast image access  (ping: 0.10.0 ms, read: 112.638.7 MB/s, size: 19.8 KB)\n"
     ]
    },
    {
     "name": "stderr",
     "output_type": "stream",
     "text": [
      "\u001b[34m\u001b[1mtrain: \u001b[0mScanning B:\\OneDrive\\Skole\\Studier_UiA\\8_sem_V25\\ikt452_computer_vision\\Yolo-Age-estimation\\data\\age_dataset_tune\\labels\\train.cache... 1373 images, 0 backgrounds, 0 corrupt: 100%|██████████| 1373/1373 [00:00<?, ?it/s]\n",
      "\u001b[34m\u001b[1mtrain: \u001b[0mCaching images (0.7GB Disk): 100%|██████████| 1373/1373 [00:00<00:00, 6021.21it/s]\n"
     ]
    },
    {
     "name": "stdout",
     "output_type": "stream",
     "text": [
      "\u001b[34m\u001b[1mAutoBatch: \u001b[0mComputing optimal batch size for imgsz=416 at 90.0% CUDA memory utilization.\n",
      "\u001b[34m\u001b[1mAutoBatch: \u001b[0mCUDA:0 (NVIDIA GeForce RTX 3080) 10.00G total, 0.84G reserved, 0.14G allocated, 9.01G free\n",
      "      Params      GFLOPs  GPU_mem (GB)  forward (ms) backward (ms)                   input                  output\n",
      "     9430888       9.111         0.963          53.1         196.6        (1, 3, 416, 416)                    list\n",
      "     9430888       18.22         1.141         54.92         217.4        (2, 3, 416, 416)                    list\n",
      "     9430888       36.44         1.621         77.08         225.7        (4, 3, 416, 416)                    list\n",
      "     9430888       72.88         2.099          81.6         250.9        (8, 3, 416, 416)                    list\n",
      "     9430888       145.8         3.045         148.4         238.2       (16, 3, 416, 416)                    list\n",
      "\u001b[34m\u001b[1mAutoBatch: \u001b[0mUsing batch-size 51 for CUDA:0 8.86G/10.00G (89%) \n",
      "\u001b[34m\u001b[1mtrain: \u001b[0mFast image access  (ping: 0.10.0 ms, read: 112.64.0 MB/s, size: 20.3 KB)\n"
     ]
    },
    {
     "name": "stderr",
     "output_type": "stream",
     "text": [
      "\u001b[34m\u001b[1mtrain: \u001b[0mScanning B:\\OneDrive\\Skole\\Studier_UiA\\8_sem_V25\\ikt452_computer_vision\\Yolo-Age-estimation\\data\\age_dataset_tune\\labels\\train.cache... 1373 images, 0 backgrounds, 0 corrupt: 100%|██████████| 1373/1373 [00:00<?, ?it/s]\n",
      "\u001b[34m\u001b[1mtrain: \u001b[0mCaching images (0.7GB Disk): 100%|██████████| 1373/1373 [00:00<00:00, 7280.84it/s]\n"
     ]
    },
    {
     "name": "stdout",
     "output_type": "stream",
     "text": [
      "\u001b[34m\u001b[1mval: \u001b[0mFast image access  (ping: 0.10.0 ms, read: 124.726.2 MB/s, size: 23.3 KB)\n"
     ]
    },
    {
     "name": "stderr",
     "output_type": "stream",
     "text": [
      "\u001b[34m\u001b[1mval: \u001b[0mScanning B:\\OneDrive\\Skole\\Studier_UiA\\8_sem_V25\\ikt452_computer_vision\\Yolo-Age-estimation\\data\\age_dataset_tune\\labels\\val.cache... 3679 images, 0 backgrounds, 0 corrupt: 100%|██████████| 3679/3679 [00:00<?, ?it/s]\n",
      "\u001b[34m\u001b[1mval: \u001b[0mCaching images (1.8GB Disk): 100%|██████████| 3679/3679 [00:00<00:00, 7342.00it/s]\n"
     ]
    },
    {
     "name": "stdout",
     "output_type": "stream",
     "text": [
      "\u001b[34m\u001b[1moptimizer:\u001b[0m AdamW(lr=0.0030647407310885454, momentum=0.734373543480445) with parameter groups 81 weight(decay=0.0), 88 weight(decay=0.00045508995308046366), 87 bias(decay=0.0)\n",
      "Image sizes 416 train, 416 val\n",
      "Using 1 dataloader workers\n",
      "Logging results to \u001b[1mruns\\detect\\train47\u001b[0m\n",
      "Starting training for 1 epochs...\n",
      "\n",
      "      Epoch    GPU_mem   box_loss   cls_loss   dfl_loss  Instances       Size\n"
     ]
    },
    {
     "name": "stderr",
     "output_type": "stream",
     "text": [
      "        1/1      5.84G    0.02129      5.657      1.901         86        416: 100%|██████████| 27/27 [00:08<00:00,  3.16it/s]\n",
      "                 Class     Images  Instances      Box(P          R      mAP50  mAP50-95): 100%|██████████| 37/37 [00:22<00:00,  1.64it/s]\n"
     ]
    },
    {
     "name": "stdout",
     "output_type": "stream",
     "text": [
      "                   all       3679       3679       0.29      0.114     0.0578     0.0154\n",
      "\n",
      "1 epochs completed in 0.009 hours.\n",
      "Optimizer stripped from runs\\detect\\train47\\weights\\last.pt, 19.1MB\n",
      "Optimizer stripped from runs\\detect\\train47\\weights\\best.pt, 19.1MB\n",
      "\n",
      "Validating runs\\detect\\train47\\weights\\best.pt...\n",
      "Ultralytics 8.3.119  Python-3.10.17 torch-2.2.2+cu118 CUDA:0 (NVIDIA GeForce RTX 3080, 10240MiB)\n",
      "YOLO11s summary (fused): 100 layers, 9,415,896 parameters, 0 gradients, 21.3 GFLOPs\n"
     ]
    },
    {
     "name": "stderr",
     "output_type": "stream",
     "text": [
      "                 Class     Images  Instances      Box(P          R      mAP50  mAP50-95): 100%|██████████| 37/37 [00:20<00:00,  1.80it/s]\n"
     ]
    },
    {
     "name": "stdout",
     "output_type": "stream",
     "text": [
      "                   all       3679       3679       0.29      0.115     0.0583     0.0155\n",
      "Speed: 0.2ms preprocess, 0.7ms inference, 0.0ms loss, 2.2ms postprocess per image\n"
     ]
    },
    {
     "name": "stderr",
     "output_type": "stream",
     "text": [
      "[I 2025-04-30 23:05:56,162] Trial 0 finished with value: 0.019766778100737258 and parameters: {'lr0': 0.0030647407310885454, 'lrf': 0.5259671305775608, 'momentum': 0.734373543480445, 'weight_decay': 0.0005710932744539152, 'warmup_epochs': 4, 'warmup_momentum': 0.8882711256605424, 'box': 0.09836577752899996, 'cls': 0.7870181979633426, 'hsv_h': 0.035978791954049814, 'hsv_s': 0.5495400504115365, 'hsv_v': 0.5244108376261624, 'degrees': 36.278274848808856, 'translate': 0.37810768473385703, 'scale': 0.17687192533592505, 'fliplr': 0.04464427393142956, 'mosaic': 0.47751573636654376, 'imgsz': 416}. Best is trial 0 with value: 0.019766778100737258.\n"
     ]
    },
    {
     "name": "stdout",
     "output_type": "stream",
     "text": [
      "\n",
      "✅ Best result for YOLOv11-s: 0.0198\n",
      "\n",
      "====================================================================================================\n",
      "🧪 Tuning: YOLOv11-m on dataset age_dataset_tune\n",
      "====================================================================================================\n"
     ]
    },
    {
     "name": "stderr",
     "output_type": "stream",
     "text": [
      "[I 2025-04-30 23:05:56,947] A new study created in RDB with name: yolo_v11m\n"
     ]
    },
    {
     "name": "stdout",
     "output_type": "stream",
     "text": [
      "🔄 Starting/resuming tuning: 1 trials needed.\n",
      "Downloading https://github.com/ultralytics/assets/releases/download/v8.3.0/yolo11m.pt to 'yolo11m.pt'...\n"
     ]
    },
    {
     "name": "stderr",
     "output_type": "stream",
     "text": [
      "100%|██████████| 38.8M/38.8M [00:00<00:00, 45.2MB/s]\n"
     ]
    },
    {
     "name": "stdout",
     "output_type": "stream",
     "text": [
      "New https://pypi.org/project/ultralytics/8.3.121 available  Update with 'pip install -U ultralytics'\n",
      "Ultralytics 8.3.119  Python-3.10.17 torch-2.2.2+cu118 CUDA:0 (NVIDIA GeForce RTX 3080, 10240MiB)\n",
      "\u001b[34m\u001b[1mengine\\trainer: \u001b[0mtask=detect, mode=train, model=yolo11m.pt, data=data/age_dataset_tune\\data.yaml, epochs=1, time=None, patience=100, batch=0.9, imgsz=416, save=True, save_period=-1, cache=disk, device=0, workers=1, project=None, name=train48, exist_ok=False, pretrained=True, optimizer=AdamW, verbose=False, seed=0, deterministic=True, single_cls=False, rect=False, cos_lr=False, close_mosaic=10, resume=False, amp=True, fraction=0.1, profile=False, freeze=None, multi_scale=False, overlap_mask=True, mask_ratio=4, dropout=0.0, val=True, split=val, save_json=False, conf=None, iou=0.7, max_det=300, half=False, dnn=False, plots=False, source=None, vid_stride=1, stream_buffer=False, visualize=False, augment=False, agnostic_nms=False, classes=None, retina_masks=False, embed=None, show=False, save_frames=False, save_txt=False, save_conf=False, save_crop=False, show_labels=True, show_conf=True, show_boxes=True, line_width=None, format=torchscript, keras=False, optimize=False, int8=False, dynamic=False, simplify=True, opset=None, workspace=None, nms=False, lr0=0.0016357965858782865, lrf=0.6436758451934917, momentum=0.7953874024046359, weight_decay=0.0007348072420987097, warmup_epochs=1, warmup_momentum=0.8907267797936438, warmup_bias_lr=0.1, box=0.11773553404521218, cls=2.8905419906222525, dfl=1.5, pose=12.0, kobj=1.0, nbs=64, hsv_h=0.0472536510972167, hsv_s=0.6460936843906351, hsv_v=0.6579669011918357, degrees=21.67511545500313, translate=0.02928129672010993, scale=0.07704425403743137, shear=0.0, perspective=0.0, flipud=0.0, fliplr=0.14465850336615832, bgr=0.0, mosaic=0.30940438684426075, mixup=0.0, cutmix=0.0, copy_paste=0.0, copy_paste_mode=flip, auto_augment=randaugment, erasing=0.4, cfg=None, tracker=botsort.yaml, save_dir=runs\\detect\\train48\n",
      "Overriding model.yaml nc=80 with nc=8\n",
      "\n",
      "                   from  n    params  module                                       arguments                     \n",
      "  0                  -1  1      1856  ultralytics.nn.modules.conv.Conv             [3, 64, 3, 2]                 \n",
      "  1                  -1  1     73984  ultralytics.nn.modules.conv.Conv             [64, 128, 3, 2]               \n",
      "  2                  -1  1    111872  ultralytics.nn.modules.block.C3k2            [128, 256, 1, True, 0.25]     \n",
      "  3                  -1  1    590336  ultralytics.nn.modules.conv.Conv             [256, 256, 3, 2]              \n",
      "  4                  -1  1    444928  ultralytics.nn.modules.block.C3k2            [256, 512, 1, True, 0.25]     \n",
      "  5                  -1  1   2360320  ultralytics.nn.modules.conv.Conv             [512, 512, 3, 2]              \n",
      "  6                  -1  1   1380352  ultralytics.nn.modules.block.C3k2            [512, 512, 1, True]           \n",
      "  7                  -1  1   2360320  ultralytics.nn.modules.conv.Conv             [512, 512, 3, 2]              \n",
      "  8                  -1  1   1380352  ultralytics.nn.modules.block.C3k2            [512, 512, 1, True]           \n",
      "  9                  -1  1    656896  ultralytics.nn.modules.block.SPPF            [512, 512, 5]                 \n",
      " 10                  -1  1    990976  ultralytics.nn.modules.block.C2PSA           [512, 512, 1]                 \n",
      " 11                  -1  1         0  torch.nn.modules.upsampling.Upsample         [None, 2, 'nearest']          \n",
      " 12             [-1, 6]  1         0  ultralytics.nn.modules.conv.Concat           [1]                           \n",
      " 13                  -1  1   1642496  ultralytics.nn.modules.block.C3k2            [1024, 512, 1, True]          \n",
      " 14                  -1  1         0  torch.nn.modules.upsampling.Upsample         [None, 2, 'nearest']          \n",
      " 15             [-1, 4]  1         0  ultralytics.nn.modules.conv.Concat           [1]                           \n",
      " 16                  -1  1    542720  ultralytics.nn.modules.block.C3k2            [1024, 256, 1, True]          \n",
      " 17                  -1  1    590336  ultralytics.nn.modules.conv.Conv             [256, 256, 3, 2]              \n",
      " 18            [-1, 13]  1         0  ultralytics.nn.modules.conv.Concat           [1]                           \n",
      " 19                  -1  1   1511424  ultralytics.nn.modules.block.C3k2            [768, 512, 1, True]           \n",
      " 20                  -1  1   2360320  ultralytics.nn.modules.conv.Conv             [512, 512, 3, 2]              \n",
      " 21            [-1, 10]  1         0  ultralytics.nn.modules.conv.Concat           [1]                           \n",
      " 22                  -1  1   1642496  ultralytics.nn.modules.block.C3k2            [1024, 512, 1, True]          \n",
      " 23        [16, 19, 22]  1   1417192  ultralytics.nn.modules.head.Detect           [8, [256, 512, 512]]          \n",
      "YOLO11m summary: 231 layers, 20,059,176 parameters, 20,059,160 gradients, 68.2 GFLOPs\n",
      "\n",
      "Transferred 643/649 items from pretrained weights\n",
      "Freezing layer 'model.23.dfl.conv.weight'\n",
      "\u001b[34m\u001b[1mAMP: \u001b[0mrunning Automatic Mixed Precision (AMP) checks...\n",
      "\u001b[34m\u001b[1mAMP: \u001b[0mchecks passed \n",
      "\u001b[34m\u001b[1mtrain: \u001b[0mFast image access  (ping: 0.10.1 ms, read: 108.638.0 MB/s, size: 19.8 KB)\n"
     ]
    },
    {
     "name": "stderr",
     "output_type": "stream",
     "text": [
      "\u001b[34m\u001b[1mtrain: \u001b[0mScanning B:\\OneDrive\\Skole\\Studier_UiA\\8_sem_V25\\ikt452_computer_vision\\Yolo-Age-estimation\\data\\age_dataset_tune\\labels\\train.cache... 1373 images, 0 backgrounds, 0 corrupt: 100%|██████████| 1373/1373 [00:00<?, ?it/s]\n",
      "\u001b[34m\u001b[1mtrain: \u001b[0mCaching images (0.7GB Disk): 100%|██████████| 1373/1373 [00:00<00:00, 6555.58it/s]\n"
     ]
    },
    {
     "name": "stdout",
     "output_type": "stream",
     "text": [
      "\u001b[34m\u001b[1mAutoBatch: \u001b[0mComputing optimal batch size for imgsz=416 at 90.0% CUDA memory utilization.\n",
      "\u001b[34m\u001b[1mAutoBatch: \u001b[0mCUDA:0 (NVIDIA GeForce RTX 3080) 10.00G total, 0.59G reserved, 0.22G allocated, 9.18G free\n",
      "      Params      GFLOPs  GPU_mem (GB)  forward (ms) backward (ms)                   input                  output\n",
      "    20059176       28.82         1.659         100.4         169.5        (1, 3, 416, 416)                    list\n",
      "    20059176       57.64         1.984         91.26         193.4        (2, 3, 416, 416)                    list\n",
      "    20059176       115.3         2.598         84.51         183.4        (4, 3, 416, 416)                    list\n",
      "    20059176       230.6         3.488         70.32         201.6        (8, 3, 416, 416)                    list\n",
      "    20059176       461.2         5.583         99.67           180       (16, 3, 416, 416)                    list\n",
      "\u001b[34m\u001b[1mAutoBatch: \u001b[0mUsing batch-size 25 for CUDA:0 8.72G/10.00G (87%) \n",
      "\u001b[34m\u001b[1mtrain: \u001b[0mFast image access  (ping: 0.10.1 ms, read: 107.75.6 MB/s, size: 20.3 KB)\n"
     ]
    },
    {
     "name": "stderr",
     "output_type": "stream",
     "text": [
      "\u001b[34m\u001b[1mtrain: \u001b[0mScanning B:\\OneDrive\\Skole\\Studier_UiA\\8_sem_V25\\ikt452_computer_vision\\Yolo-Age-estimation\\data\\age_dataset_tune\\labels\\train.cache... 1373 images, 0 backgrounds, 0 corrupt: 100%|██████████| 1373/1373 [00:00<?, ?it/s]\n",
      "\u001b[34m\u001b[1mtrain: \u001b[0mCaching images (0.7GB Disk): 100%|██████████| 1373/1373 [00:00<00:00, 6497.99it/s]\n"
     ]
    },
    {
     "name": "stdout",
     "output_type": "stream",
     "text": [
      "\u001b[34m\u001b[1mval: \u001b[0mFast image access  (ping: 0.10.1 ms, read: 120.420.6 MB/s, size: 23.3 KB)\n"
     ]
    },
    {
     "name": "stderr",
     "output_type": "stream",
     "text": [
      "\u001b[34m\u001b[1mval: \u001b[0mScanning B:\\OneDrive\\Skole\\Studier_UiA\\8_sem_V25\\ikt452_computer_vision\\Yolo-Age-estimation\\data\\age_dataset_tune\\labels\\val.cache... 3679 images, 0 backgrounds, 0 corrupt: 100%|██████████| 3679/3679 [00:00<?, ?it/s]\n",
      "\u001b[34m\u001b[1mval: \u001b[0mCaching images (1.8GB Disk): 100%|██████████| 3679/3679 [00:00<00:00, 7692.87it/s]\n"
     ]
    },
    {
     "name": "stdout",
     "output_type": "stream",
     "text": [
      "\u001b[34m\u001b[1moptimizer:\u001b[0m AdamW(lr=0.0016357965858782865, momentum=0.7953874024046359) with parameter groups 106 weight(decay=0.0), 113 weight(decay=0.0008611022368344254), 112 bias(decay=0.0)\n",
      "Image sizes 416 train, 416 val\n",
      "Using 1 dataloader workers\n",
      "Logging results to \u001b[1mruns\\detect\\train48\u001b[0m\n",
      "Starting training for 1 epochs...\n",
      "\n",
      "      Epoch    GPU_mem   box_loss   cls_loss   dfl_loss  Instances       Size\n"
     ]
    },
    {
     "name": "stderr",
     "output_type": "stream",
     "text": [
      "        1/1      5.85G    0.02878      16.41      1.996         42        416: 100%|██████████| 55/55 [00:14<00:00,  3.87it/s]\n",
      "                 Class     Images  Instances      Box(P          R      mAP50  mAP50-95): 100%|██████████| 74/74 [00:32<00:00,  2.25it/s]\n"
     ]
    },
    {
     "name": "stdout",
     "output_type": "stream",
     "text": [
      "                   all       3679       3679      0.003      0.024    0.00149   0.000382\n",
      "\n",
      "1 epochs completed in 0.014 hours.\n",
      "Optimizer stripped from runs\\detect\\train48\\weights\\last.pt, 40.5MB\n",
      "Optimizer stripped from runs\\detect\\train48\\weights\\best.pt, 40.5MB\n",
      "\n",
      "Validating runs\\detect\\train48\\weights\\best.pt...\n",
      "Ultralytics 8.3.119  Python-3.10.17 torch-2.2.2+cu118 CUDA:0 (NVIDIA GeForce RTX 3080, 10240MiB)\n",
      "YOLO11m summary (fused): 125 layers, 20,036,200 parameters, 0 gradients, 67.7 GFLOPs\n"
     ]
    },
    {
     "name": "stderr",
     "output_type": "stream",
     "text": [
      "                 Class     Images  Instances      Box(P          R      mAP50  mAP50-95): 100%|██████████| 74/74 [00:29<00:00,  2.48it/s]\n"
     ]
    },
    {
     "name": "stdout",
     "output_type": "stream",
     "text": [
      "                   all       3679       3679     0.0031     0.0245    0.00172   0.000408\n",
      "Speed: 0.2ms preprocess, 1.6ms inference, 0.0ms loss, 3.9ms postprocess per image\n"
     ]
    },
    {
     "name": "stderr",
     "output_type": "stream",
     "text": [
      "[I 2025-04-30 23:07:41,691] Trial 0 finished with value: 0.0005383530592658577 and parameters: {'lr0': 0.0016357965858782865, 'lrf': 0.6436758451934917, 'momentum': 0.7953874024046359, 'weight_decay': 0.0007348072420987097, 'warmup_epochs': 1, 'warmup_momentum': 0.8907267797936438, 'box': 0.11773553404521218, 'cls': 2.8905419906222525, 'hsv_h': 0.0472536510972167, 'hsv_s': 0.6460936843906351, 'hsv_v': 0.6579669011918357, 'degrees': 21.67511545500313, 'translate': 0.02928129672010993, 'scale': 0.07704425403743137, 'fliplr': 0.14465850336615832, 'mosaic': 0.30940438684426075, 'imgsz': 416}. Best is trial 0 with value: 0.0005383530592658577.\n"
     ]
    },
    {
     "name": "stdout",
     "output_type": "stream",
     "text": [
      "\n",
      "✅ Best result for YOLOv11-m: 0.0005\n",
      "\n",
      "====================================================================================================\n",
      "🧪 Tuning: YOLOv11-l on dataset age_dataset_tune\n",
      "====================================================================================================\n"
     ]
    },
    {
     "name": "stderr",
     "output_type": "stream",
     "text": [
      "[I 2025-04-30 23:07:42,488] A new study created in RDB with name: yolo_v11l\n"
     ]
    },
    {
     "name": "stdout",
     "output_type": "stream",
     "text": [
      "🔄 Starting/resuming tuning: 1 trials needed.\n",
      "Downloading https://github.com/ultralytics/assets/releases/download/v8.3.0/yolo11l.pt to 'yolo11l.pt'...\n"
     ]
    },
    {
     "name": "stderr",
     "output_type": "stream",
     "text": [
      "100%|██████████| 49.0M/49.0M [00:01<00:00, 41.1MB/s]\n"
     ]
    },
    {
     "name": "stdout",
     "output_type": "stream",
     "text": [
      "New https://pypi.org/project/ultralytics/8.3.121 available  Update with 'pip install -U ultralytics'\n",
      "Ultralytics 8.3.119  Python-3.10.17 torch-2.2.2+cu118 CUDA:0 (NVIDIA GeForce RTX 3080, 10240MiB)\n",
      "\u001b[34m\u001b[1mengine\\trainer: \u001b[0mtask=detect, mode=train, model=yolo11l.pt, data=data/age_dataset_tune\\data.yaml, epochs=1, time=None, patience=100, batch=0.9, imgsz=416, save=True, save_period=-1, cache=disk, device=0, workers=1, project=None, name=train49, exist_ok=False, pretrained=True, optimizer=AdamW, verbose=False, seed=0, deterministic=True, single_cls=False, rect=False, cos_lr=False, close_mosaic=10, resume=False, amp=True, fraction=0.1, profile=False, freeze=None, multi_scale=False, overlap_mask=True, mask_ratio=4, dropout=0.0, val=True, split=val, save_json=False, conf=None, iou=0.7, max_det=300, half=False, dnn=False, plots=False, source=None, vid_stride=1, stream_buffer=False, visualize=False, augment=False, agnostic_nms=False, classes=None, retina_masks=False, embed=None, show=False, save_frames=False, save_txt=False, save_conf=False, save_crop=False, show_labels=True, show_conf=True, show_boxes=True, line_width=None, format=torchscript, keras=False, optimize=False, int8=False, dynamic=False, simplify=True, opset=None, workspace=None, nms=False, lr0=5.046806689782975e-05, lrf=0.034131406504622305, momentum=0.749088167412423, weight_decay=0.0002860762838102478, warmup_epochs=5, warmup_momentum=0.6639151034643017, warmup_bias_lr=0.1, box=0.05166741017103435, cls=2.1906651763956777, dfl=1.5, pose=12.0, kobj=1.0, nbs=64, hsv_h=0.08877738387144893, hsv_s=0.508272863409278, hsv_v=0.6410274296578125, degrees=5.975748789166946, translate=0.3667992431130573, scale=0.4495685691608404, shear=0.0, perspective=0.0, flipud=0.0, fliplr=0.023851247192398672, bgr=0.0, mosaic=0.7936301774077319, mixup=0.0, cutmix=0.0, copy_paste=0.0, copy_paste_mode=flip, auto_augment=randaugment, erasing=0.4, cfg=None, tracker=botsort.yaml, save_dir=runs\\detect\\train49\n",
      "Overriding model.yaml nc=80 with nc=8\n",
      "\n",
      "                   from  n    params  module                                       arguments                     \n",
      "  0                  -1  1      1856  ultralytics.nn.modules.conv.Conv             [3, 64, 3, 2]                 \n",
      "  1                  -1  1     73984  ultralytics.nn.modules.conv.Conv             [64, 128, 3, 2]               \n",
      "  2                  -1  2    173824  ultralytics.nn.modules.block.C3k2            [128, 256, 2, True, 0.25]     \n",
      "  3                  -1  1    590336  ultralytics.nn.modules.conv.Conv             [256, 256, 3, 2]              \n",
      "  4                  -1  2    691712  ultralytics.nn.modules.block.C3k2            [256, 512, 2, True, 0.25]     \n",
      "  5                  -1  1   2360320  ultralytics.nn.modules.conv.Conv             [512, 512, 3, 2]              \n",
      "  6                  -1  2   2234368  ultralytics.nn.modules.block.C3k2            [512, 512, 2, True]           \n",
      "  7                  -1  1   2360320  ultralytics.nn.modules.conv.Conv             [512, 512, 3, 2]              \n",
      "  8                  -1  2   2234368  ultralytics.nn.modules.block.C3k2            [512, 512, 2, True]           \n",
      "  9                  -1  1    656896  ultralytics.nn.modules.block.SPPF            [512, 512, 5]                 \n",
      " 10                  -1  2   1455616  ultralytics.nn.modules.block.C2PSA           [512, 512, 2]                 \n",
      " 11                  -1  1         0  torch.nn.modules.upsampling.Upsample         [None, 2, 'nearest']          \n",
      " 12             [-1, 6]  1         0  ultralytics.nn.modules.conv.Concat           [1]                           \n",
      " 13                  -1  2   2496512  ultralytics.nn.modules.block.C3k2            [1024, 512, 2, True]          \n",
      " 14                  -1  1         0  torch.nn.modules.upsampling.Upsample         [None, 2, 'nearest']          \n",
      " 15             [-1, 4]  1         0  ultralytics.nn.modules.conv.Concat           [1]                           \n",
      " 16                  -1  2    756736  ultralytics.nn.modules.block.C3k2            [1024, 256, 2, True]          \n",
      " 17                  -1  1    590336  ultralytics.nn.modules.conv.Conv             [256, 256, 3, 2]              \n",
      " 18            [-1, 13]  1         0  ultralytics.nn.modules.conv.Concat           [1]                           \n",
      " 19                  -1  2   2365440  ultralytics.nn.modules.block.C3k2            [768, 512, 2, True]           \n",
      " 20                  -1  1   2360320  ultralytics.nn.modules.conv.Conv             [512, 512, 3, 2]              \n",
      " 21            [-1, 10]  1         0  ultralytics.nn.modules.conv.Concat           [1]                           \n",
      " 22                  -1  2   2496512  ultralytics.nn.modules.block.C3k2            [1024, 512, 2, True]          \n",
      " 23        [16, 19, 22]  1   1417192  ultralytics.nn.modules.head.Detect           [8, [256, 512, 512]]          \n",
      "YOLO11l summary: 357 layers, 25,316,648 parameters, 25,316,632 gradients, 87.3 GFLOPs\n",
      "\n",
      "Transferred 1009/1015 items from pretrained weights\n",
      "Freezing layer 'model.23.dfl.conv.weight'\n",
      "\u001b[34m\u001b[1mAMP: \u001b[0mrunning Automatic Mixed Precision (AMP) checks...\n",
      "\u001b[34m\u001b[1mAMP: \u001b[0mchecks passed \n",
      "\u001b[34m\u001b[1mtrain: \u001b[0mFast image access  (ping: 0.20.1 ms, read: 109.037.5 MB/s, size: 19.8 KB)\n"
     ]
    },
    {
     "name": "stderr",
     "output_type": "stream",
     "text": [
      "\u001b[34m\u001b[1mtrain: \u001b[0mScanning B:\\OneDrive\\Skole\\Studier_UiA\\8_sem_V25\\ikt452_computer_vision\\Yolo-Age-estimation\\data\\age_dataset_tune\\labels\\train.cache... 1373 images, 0 backgrounds, 0 corrupt: 100%|██████████| 1373/1373 [00:00<?, ?it/s]\n",
      "\u001b[34m\u001b[1mtrain: \u001b[0mCaching images (0.7GB Disk): 100%|██████████| 1373/1373 [00:00<00:00, 6258.20it/s]\n"
     ]
    },
    {
     "name": "stdout",
     "output_type": "stream",
     "text": [
      "\u001b[34m\u001b[1mAutoBatch: \u001b[0mComputing optimal batch size for imgsz=416 at 90.0% CUDA memory utilization.\n",
      "\u001b[34m\u001b[1mAutoBatch: \u001b[0mCUDA:0 (NVIDIA GeForce RTX 3080) 10.00G total, 0.98G reserved, 0.26G allocated, 8.76G free\n",
      "      Params      GFLOPs  GPU_mem (GB)  forward (ms) backward (ms)                   input                  output\n",
      "    25316648       36.89         1.879         141.8         77.91        (1, 3, 416, 416)                    list\n",
      "    25316648       73.77         2.200         78.13         94.16        (2, 3, 416, 416)                    list\n",
      "    25316648       147.5         3.146         93.75         125.7        (4, 3, 416, 416)                    list\n",
      "    25316648       295.1         4.196         109.3         124.4        (8, 3, 416, 416)                    list\n",
      "    25316648       590.2         6.856           125         109.4       (16, 3, 416, 416)                    list\n",
      "\u001b[34m\u001b[1mAutoBatch: \u001b[0mUsing batch-size 19 for CUDA:0 9.09G/10.00G (91%) \n",
      "\u001b[34m\u001b[1mtrain: \u001b[0mFast image access  (ping: 0.10.0 ms, read: 112.06.0 MB/s, size: 20.3 KB)\n"
     ]
    },
    {
     "name": "stderr",
     "output_type": "stream",
     "text": [
      "\u001b[34m\u001b[1mtrain: \u001b[0mScanning B:\\OneDrive\\Skole\\Studier_UiA\\8_sem_V25\\ikt452_computer_vision\\Yolo-Age-estimation\\data\\age_dataset_tune\\labels\\train.cache... 1373 images, 0 backgrounds, 0 corrupt: 100%|██████████| 1373/1373 [00:00<?, ?it/s]\n",
      "\u001b[34m\u001b[1mtrain: \u001b[0mCaching images (0.7GB Disk): 100%|██████████| 1373/1373 [00:00<00:00, 7305.69it/s]\n"
     ]
    },
    {
     "name": "stdout",
     "output_type": "stream",
     "text": [
      "\u001b[34m\u001b[1mval: \u001b[0mFast image access  (ping: 0.20.1 ms, read: 108.126.0 MB/s, size: 23.3 KB)\n"
     ]
    },
    {
     "name": "stderr",
     "output_type": "stream",
     "text": [
      "\u001b[34m\u001b[1mval: \u001b[0mScanning B:\\OneDrive\\Skole\\Studier_UiA\\8_sem_V25\\ikt452_computer_vision\\Yolo-Age-estimation\\data\\age_dataset_tune\\labels\\val.cache... 3679 images, 0 backgrounds, 0 corrupt: 100%|██████████| 3679/3679 [00:00<?, ?it/s]\n",
      "\u001b[34m\u001b[1mval: \u001b[0mCaching images (1.8GB Disk): 100%|██████████| 3679/3679 [00:00<00:00, 7350.63it/s]\n"
     ]
    },
    {
     "name": "stdout",
     "output_type": "stream",
     "text": [
      "\u001b[34m\u001b[1moptimizer:\u001b[0m AdamW(lr=5.046806689782975e-05, momentum=0.749088167412423) with parameter groups 167 weight(decay=0.0), 174 weight(decay=0.0002547866902685019), 173 bias(decay=0.0)\n",
      "Image sizes 416 train, 416 val\n",
      "Using 1 dataloader workers\n",
      "Logging results to \u001b[1mruns\\detect\\train49\u001b[0m\n",
      "Starting training for 1 epochs...\n",
      "\n",
      "      Epoch    GPU_mem   box_loss   cls_loss   dfl_loss  Instances       Size\n"
     ]
    },
    {
     "name": "stderr",
     "output_type": "stream",
     "text": [
      "        1/1      5.69G   0.009026      10.33      1.631         13        416: 100%|██████████| 73/73 [00:24<00:00,  3.02it/s]\n",
      "                 Class     Images  Instances      Box(P          R      mAP50  mAP50-95): 100%|██████████| 97/97 [00:28<00:00,  3.46it/s]\n"
     ]
    },
    {
     "name": "stdout",
     "output_type": "stream",
     "text": [
      "                   all       3679       3679       0.41     0.0652     0.0535     0.0151\n",
      "\n",
      "1 epochs completed in 0.016 hours.\n",
      "Optimizer stripped from runs\\detect\\train49\\weights\\last.pt, 51.2MB\n",
      "Optimizer stripped from runs\\detect\\train49\\weights\\best.pt, 51.2MB\n",
      "\n",
      "Validating runs\\detect\\train49\\weights\\best.pt...\n",
      "Ultralytics 8.3.119  Python-3.10.17 torch-2.2.2+cu118 CUDA:0 (NVIDIA GeForce RTX 3080, 10240MiB)\n",
      "YOLO11l summary (fused): 190 layers, 25,285,480 parameters, 0 gradients, 86.6 GFLOPs\n"
     ]
    },
    {
     "name": "stderr",
     "output_type": "stream",
     "text": [
      "                 Class     Images  Instances      Box(P          R      mAP50  mAP50-95): 100%|██████████| 97/97 [00:24<00:00,  3.99it/s]\n"
     ]
    },
    {
     "name": "stdout",
     "output_type": "stream",
     "text": [
      "                   all       3679       3679      0.409     0.0654     0.0536     0.0151\n",
      "Speed: 0.2ms preprocess, 2.1ms inference, 0.0ms loss, 1.6ms postprocess per image\n"
     ]
    },
    {
     "name": "stderr",
     "output_type": "stream",
     "text": [
      "[I 2025-04-30 23:09:28,340] Trial 0 finished with value: 0.018993594873106603 and parameters: {'lr0': 5.046806689782975e-05, 'lrf': 0.034131406504622305, 'momentum': 0.749088167412423, 'weight_decay': 0.0002860762838102478, 'warmup_epochs': 5, 'warmup_momentum': 0.6639151034643017, 'box': 0.05166741017103435, 'cls': 2.1906651763956777, 'hsv_h': 0.08877738387144893, 'hsv_s': 0.508272863409278, 'hsv_v': 0.6410274296578125, 'degrees': 5.975748789166946, 'translate': 0.3667992431130573, 'scale': 0.4495685691608404, 'fliplr': 0.023851247192398672, 'mosaic': 0.7936301774077319, 'imgsz': 416}. Best is trial 0 with value: 0.018993594873106603.\n"
     ]
    },
    {
     "name": "stdout",
     "output_type": "stream",
     "text": [
      "\n",
      "✅ Best result for YOLOv11-l: 0.0190\n",
      "\n",
      "====================================================================================================\n",
      "🧪 Tuning: YOLOv11-x on dataset age_dataset_tune\n",
      "====================================================================================================\n"
     ]
    },
    {
     "name": "stderr",
     "output_type": "stream",
     "text": [
      "[I 2025-04-30 23:09:29,137] A new study created in RDB with name: yolo_v11x\n"
     ]
    },
    {
     "name": "stdout",
     "output_type": "stream",
     "text": [
      "🔄 Starting/resuming tuning: 1 trials needed.\n",
      "Downloading https://github.com/ultralytics/assets/releases/download/v8.3.0/yolo11x.pt to 'yolo11x.pt'...\n"
     ]
    },
    {
     "name": "stderr",
     "output_type": "stream",
     "text": [
      "100%|██████████| 109M/109M [00:02<00:00, 40.4MB/s] \n"
     ]
    },
    {
     "name": "stdout",
     "output_type": "stream",
     "text": [
      "New https://pypi.org/project/ultralytics/8.3.121 available  Update with 'pip install -U ultralytics'\n",
      "Ultralytics 8.3.119  Python-3.10.17 torch-2.2.2+cu118 CUDA:0 (NVIDIA GeForce RTX 3080, 10240MiB)\n",
      "\u001b[34m\u001b[1mengine\\trainer: \u001b[0mtask=detect, mode=train, model=yolo11x.pt, data=data/age_dataset_tune\\data.yaml, epochs=1, time=None, patience=100, batch=0.9, imgsz=416, save=True, save_period=-1, cache=disk, device=0, workers=1, project=None, name=train50, exist_ok=False, pretrained=True, optimizer=AdamW, verbose=False, seed=0, deterministic=True, single_cls=False, rect=False, cos_lr=False, close_mosaic=10, resume=False, amp=True, fraction=0.1, profile=False, freeze=None, multi_scale=False, overlap_mask=True, mask_ratio=4, dropout=0.0, val=True, split=val, save_json=False, conf=None, iou=0.7, max_det=300, half=False, dnn=False, plots=False, source=None, vid_stride=1, stream_buffer=False, visualize=False, augment=False, agnostic_nms=False, classes=None, retina_masks=False, embed=None, show=False, save_frames=False, save_txt=False, save_conf=False, save_crop=False, show_labels=True, show_conf=True, show_boxes=True, line_width=None, format=torchscript, keras=False, optimize=False, int8=False, dynamic=False, simplify=True, opset=None, workspace=None, nms=False, lr0=0.0006170771979470658, lrf=0.416206842560447, momentum=0.6859166588653411, weight_decay=0.00011106652051957031, warmup_epochs=2, warmup_momentum=0.5389354315992066, warmup_bias_lr=0.1, box=0.17536339863124661, cls=2.275153024556152, dfl=1.5, pose=12.0, kobj=1.0, nbs=64, hsv_h=0.071788906436329, hsv_s=0.5417819918549649, hsv_v=0.8853457538977725, degrees=24.95906720685295, translate=0.021811651422103784, scale=0.08697085884541539, shear=0.0, perspective=0.0, flipud=0.0, fliplr=0.30747342255382054, bgr=0.0, mosaic=0.4658261955048658, mixup=0.0, cutmix=0.0, copy_paste=0.0, copy_paste_mode=flip, auto_augment=randaugment, erasing=0.4, cfg=None, tracker=botsort.yaml, save_dir=runs\\detect\\train50\n",
      "Overriding model.yaml nc=80 with nc=8\n",
      "\n",
      "                   from  n    params  module                                       arguments                     \n",
      "  0                  -1  1      2784  ultralytics.nn.modules.conv.Conv             [3, 96, 3, 2]                 \n",
      "  1                  -1  1    166272  ultralytics.nn.modules.conv.Conv             [96, 192, 3, 2]               \n",
      "  2                  -1  2    389760  ultralytics.nn.modules.block.C3k2            [192, 384, 2, True, 0.25]     \n",
      "  3                  -1  1   1327872  ultralytics.nn.modules.conv.Conv             [384, 384, 3, 2]              \n",
      "  4                  -1  2   1553664  ultralytics.nn.modules.block.C3k2            [384, 768, 2, True, 0.25]     \n",
      "  5                  -1  1   5309952  ultralytics.nn.modules.conv.Conv             [768, 768, 3, 2]              \n",
      "  6                  -1  2   5022720  ultralytics.nn.modules.block.C3k2            [768, 768, 2, True]           \n",
      "  7                  -1  1   5309952  ultralytics.nn.modules.conv.Conv             [768, 768, 3, 2]              \n",
      "  8                  -1  2   5022720  ultralytics.nn.modules.block.C3k2            [768, 768, 2, True]           \n",
      "  9                  -1  1   1476864  ultralytics.nn.modules.block.SPPF            [768, 768, 5]                 \n",
      " 10                  -1  2   3264768  ultralytics.nn.modules.block.C2PSA           [768, 768, 2]                 \n",
      " 11                  -1  1         0  torch.nn.modules.upsampling.Upsample         [None, 2, 'nearest']          \n",
      " 12             [-1, 6]  1         0  ultralytics.nn.modules.conv.Concat           [1]                           \n",
      " 13                  -1  2   5612544  ultralytics.nn.modules.block.C3k2            [1536, 768, 2, True]          \n",
      " 14                  -1  1         0  torch.nn.modules.upsampling.Upsample         [None, 2, 'nearest']          \n",
      " 15             [-1, 4]  1         0  ultralytics.nn.modules.conv.Concat           [1]                           \n",
      " 16                  -1  2   1700352  ultralytics.nn.modules.block.C3k2            [1536, 384, 2, True]          \n",
      " 17                  -1  1   1327872  ultralytics.nn.modules.conv.Conv             [384, 384, 3, 2]              \n",
      " 18            [-1, 13]  1         0  ultralytics.nn.modules.conv.Concat           [1]                           \n",
      " 19                  -1  2   5317632  ultralytics.nn.modules.block.C3k2            [1152, 768, 2, True]          \n",
      " 20                  -1  1   5309952  ultralytics.nn.modules.conv.Conv             [768, 768, 3, 2]              \n",
      " 21            [-1, 10]  1         0  ultralytics.nn.modules.conv.Concat           [1]                           \n",
      " 22                  -1  2   5612544  ultralytics.nn.modules.block.C3k2            [1536, 768, 2, True]          \n",
      " 23        [16, 19, 22]  1   3154792  ultralytics.nn.modules.head.Detect           [8, [384, 768, 768]]          \n",
      "YOLO11x summary: 357 layers, 56,883,016 parameters, 56,883,000 gradients, 195.5 GFLOPs\n",
      "\n",
      "Transferred 1009/1015 items from pretrained weights\n",
      "Freezing layer 'model.23.dfl.conv.weight'\n",
      "\u001b[34m\u001b[1mAMP: \u001b[0mrunning Automatic Mixed Precision (AMP) checks...\n",
      "\u001b[34m\u001b[1mAMP: \u001b[0mchecks passed \n",
      "\u001b[34m\u001b[1mtrain: \u001b[0mFast image access  (ping: 0.20.1 ms, read: 89.927.6 MB/s, size: 19.8 KB)\n"
     ]
    },
    {
     "name": "stderr",
     "output_type": "stream",
     "text": [
      "\u001b[34m\u001b[1mtrain: \u001b[0mScanning B:\\OneDrive\\Skole\\Studier_UiA\\8_sem_V25\\ikt452_computer_vision\\Yolo-Age-estimation\\data\\age_dataset_tune\\labels\\train.cache... 1373 images, 0 backgrounds, 0 corrupt: 100%|██████████| 1373/1373 [00:00<?, ?it/s]\n",
      "\u001b[34m\u001b[1mtrain: \u001b[0mCaching images (0.7GB Disk): 100%|██████████| 1373/1373 [00:00<00:00, 5858.14it/s]\n"
     ]
    },
    {
     "name": "stdout",
     "output_type": "stream",
     "text": [
      "\u001b[34m\u001b[1mAutoBatch: \u001b[0mComputing optimal batch size for imgsz=416 at 90.0% CUDA memory utilization.\n",
      "\u001b[34m\u001b[1mAutoBatch: \u001b[0mCUDA:0 (NVIDIA GeForce RTX 3080) 10.00G total, 0.79G reserved, 0.50G allocated, 8.70G free\n",
      "      Params      GFLOPs  GPU_mem (GB)  forward (ms) backward (ms)                   input                  output\n",
      "    56883016        82.6         3.334           125         281.3        (1, 3, 416, 416)                    list\n",
      "    56883016       165.2         3.924           125         329.7        (2, 3, 416, 416)                    list\n",
      "    56883016       330.4         5.463         171.9         328.1        (4, 3, 416, 416)                    list\n",
      "    56883016       660.8         7.111         139.9         313.9        (8, 3, 416, 416)                    list\n",
      "    56883016        1322        11.281         203.1         359.3       (16, 3, 416, 416)                    list\n",
      "\u001b[34m\u001b[1mAutoBatch: \u001b[0mUsing batch-size 9 for CUDA:0 9.10G/10.00G (91%) \n",
      "\u001b[34m\u001b[1mtrain: \u001b[0mFast image access  (ping: 0.10.1 ms, read: 112.57.8 MB/s, size: 20.3 KB)\n"
     ]
    },
    {
     "name": "stderr",
     "output_type": "stream",
     "text": [
      "\u001b[34m\u001b[1mtrain: \u001b[0mScanning B:\\OneDrive\\Skole\\Studier_UiA\\8_sem_V25\\ikt452_computer_vision\\Yolo-Age-estimation\\data\\age_dataset_tune\\labels\\train.cache... 1373 images, 0 backgrounds, 0 corrupt: 100%|██████████| 1373/1373 [00:00<?, ?it/s]\n",
      "\u001b[34m\u001b[1mtrain: \u001b[0mCaching images (0.7GB Disk): 100%|██████████| 1373/1373 [00:00<00:00, 6717.13it/s]\n"
     ]
    },
    {
     "name": "stdout",
     "output_type": "stream",
     "text": [
      "\u001b[34m\u001b[1mval: \u001b[0mFast image access  (ping: 0.10.0 ms, read: 121.423.3 MB/s, size: 23.3 KB)\n"
     ]
    },
    {
     "name": "stderr",
     "output_type": "stream",
     "text": [
      "\u001b[34m\u001b[1mval: \u001b[0mScanning B:\\OneDrive\\Skole\\Studier_UiA\\8_sem_V25\\ikt452_computer_vision\\Yolo-Age-estimation\\data\\age_dataset_tune\\labels\\val.cache... 3679 images, 0 backgrounds, 0 corrupt: 100%|██████████| 3679/3679 [00:00<?, ?it/s]\n",
      "\u001b[34m\u001b[1mval: \u001b[0mCaching images (1.8GB Disk): 100%|██████████| 3679/3679 [00:00<00:00, 7315.83it/s]\n"
     ]
    },
    {
     "name": "stdout",
     "output_type": "stream",
     "text": [
      "\u001b[34m\u001b[1moptimizer:\u001b[0m AdamW(lr=0.0006170771979470658, momentum=0.6859166588653411) with parameter groups 167 weight(decay=0.0), 174 weight(decay=0.00010933110613645203), 173 bias(decay=0.0)\n",
      "Image sizes 416 train, 416 val\n",
      "Using 1 dataloader workers\n",
      "Logging results to \u001b[1mruns\\detect\\train50\u001b[0m\n",
      "Starting training for 1 epochs...\n",
      "\n",
      "      Epoch    GPU_mem   box_loss   cls_loss   dfl_loss  Instances       Size\n"
     ]
    },
    {
     "name": "stderr",
     "output_type": "stream",
     "text": [
      "        1/1      4.74G    0.03881      11.01      1.874         13        416: 100%|██████████| 153/153 [00:41<00:00,  3.73it/s]\n",
      "                 Class     Images  Instances      Box(P          R      mAP50  mAP50-95): 100%|██████████| 205/205 [00:38<00:00,  5.35it/s]\n"
     ]
    },
    {
     "name": "stdout",
     "output_type": "stream",
     "text": [
      "                   all       3679       3679      0.815      0.106     0.0654     0.0203\n",
      "\n",
      "1 epochs completed in 0.024 hours.\n",
      "Optimizer stripped from runs\\detect\\train50\\weights\\last.pt, 114.4MB\n",
      "Optimizer stripped from runs\\detect\\train50\\weights\\best.pt, 114.4MB\n",
      "\n",
      "Validating runs\\detect\\train50\\weights\\best.pt...\n",
      "Ultralytics 8.3.119  Python-3.10.17 torch-2.2.2+cu118 CUDA:0 (NVIDIA GeForce RTX 3080, 10240MiB)\n",
      "YOLO11x summary (fused): 190 layers, 56,836,264 parameters, 0 gradients, 194.5 GFLOPs\n"
     ]
    },
    {
     "name": "stderr",
     "output_type": "stream",
     "text": [
      "                 Class     Images  Instances      Box(P          R      mAP50  mAP50-95): 100%|██████████| 205/205 [00:31<00:00,  6.49it/s]\n"
     ]
    },
    {
     "name": "stdout",
     "output_type": "stream",
     "text": [
      "                   all       3679       3679      0.816      0.105     0.0653     0.0203\n",
      "Speed: 0.2ms preprocess, 4.0ms inference, 0.0ms loss, 1.6ms postprocess per image\n"
     ]
    },
    {
     "name": "stderr",
     "output_type": "stream",
     "text": [
      "[I 2025-04-30 23:11:59,117] Trial 0 finished with value: 0.024814712238629313 and parameters: {'lr0': 0.0006170771979470658, 'lrf': 0.416206842560447, 'momentum': 0.6859166588653411, 'weight_decay': 0.00011106652051957031, 'warmup_epochs': 2, 'warmup_momentum': 0.5389354315992066, 'box': 0.17536339863124661, 'cls': 2.275153024556152, 'hsv_h': 0.071788906436329, 'hsv_s': 0.5417819918549649, 'hsv_v': 0.8853457538977725, 'degrees': 24.95906720685295, 'translate': 0.021811651422103784, 'scale': 0.08697085884541539, 'fliplr': 0.30747342255382054, 'mosaic': 0.4658261955048658, 'imgsz': 416}. Best is trial 0 with value: 0.024814712238629313.\n"
     ]
    },
    {
     "name": "stdout",
     "output_type": "stream",
     "text": [
      "\n",
      "✅ Best result for YOLOv11-x: 0.0248\n",
      "\n",
      "====================================================================================================\n",
      "🧪 Tuning: YOLOv12-n on dataset age_dataset_tune\n",
      "====================================================================================================\n"
     ]
    },
    {
     "name": "stderr",
     "output_type": "stream",
     "text": [
      "[I 2025-04-30 23:12:00,007] A new study created in RDB with name: yolo_v12n\n"
     ]
    },
    {
     "name": "stdout",
     "output_type": "stream",
     "text": [
      "🔄 Starting/resuming tuning: 1 trials needed.\n",
      "Downloading https://github.com/ultralytics/assets/releases/download/v8.3.0/yolo12n.pt to 'yolo12n.pt'...\n"
     ]
    },
    {
     "name": "stderr",
     "output_type": "stream",
     "text": [
      "100%|██████████| 5.34M/5.34M [00:00<00:00, 25.5MB/s]\n"
     ]
    },
    {
     "name": "stdout",
     "output_type": "stream",
     "text": [
      "New https://pypi.org/project/ultralytics/8.3.121 available  Update with 'pip install -U ultralytics'\n",
      "Ultralytics 8.3.119  Python-3.10.17 torch-2.2.2+cu118 CUDA:0 (NVIDIA GeForce RTX 3080, 10240MiB)\n",
      "\u001b[34m\u001b[1mengine\\trainer: \u001b[0mtask=detect, mode=train, model=yolo12n.pt, data=data/age_dataset_tune\\data.yaml, epochs=1, time=None, patience=100, batch=0.9, imgsz=416, save=True, save_period=-1, cache=disk, device=0, workers=1, project=None, name=train51, exist_ok=False, pretrained=True, optimizer=AdamW, verbose=False, seed=0, deterministic=True, single_cls=False, rect=False, cos_lr=False, close_mosaic=10, resume=False, amp=True, fraction=0.1, profile=False, freeze=None, multi_scale=False, overlap_mask=True, mask_ratio=4, dropout=0.0, val=True, split=val, save_json=False, conf=None, iou=0.7, max_det=300, half=False, dnn=False, plots=False, source=None, vid_stride=1, stream_buffer=False, visualize=False, augment=False, agnostic_nms=False, classes=None, retina_masks=False, embed=None, show=False, save_frames=False, save_txt=False, save_conf=False, save_crop=False, show_labels=True, show_conf=True, show_boxes=True, line_width=None, format=torchscript, keras=False, optimize=False, int8=False, dynamic=False, simplify=True, opset=None, workspace=None, nms=False, lr0=0.0002523481010499706, lrf=0.23997441446144782, momentum=0.7932633614592878, weight_decay=0.00018862002488765142, warmup_epochs=1, warmup_momentum=0.6115448501601445, warmup_bias_lr=0.1, box=0.04367230308381591, cls=1.3075070352651854, dfl=1.5, pose=12.0, kobj=1.0, nbs=64, hsv_h=0.014353804073379085, hsv_s=0.5442816922427002, hsv_v=0.7612806157199838, degrees=26.159056134809266, translate=0.18681680672701184, scale=0.2797345588063854, shear=0.0, perspective=0.0, flipud=0.0, fliplr=0.309321431697288, bgr=0.0, mosaic=0.5357126775283086, mixup=0.0, cutmix=0.0, copy_paste=0.0, copy_paste_mode=flip, auto_augment=randaugment, erasing=0.4, cfg=None, tracker=botsort.yaml, save_dir=runs\\detect\\train51\n",
      "Overriding model.yaml nc=80 with nc=8\n",
      "\n",
      "                   from  n    params  module                                       arguments                     \n",
      "  0                  -1  1       464  ultralytics.nn.modules.conv.Conv             [3, 16, 3, 2]                 \n",
      "  1                  -1  1      4672  ultralytics.nn.modules.conv.Conv             [16, 32, 3, 2]                \n",
      "  2                  -1  1      6640  ultralytics.nn.modules.block.C3k2            [32, 64, 1, False, 0.25]      \n",
      "  3                  -1  1     36992  ultralytics.nn.modules.conv.Conv             [64, 64, 3, 2]                \n",
      "  4                  -1  1     26080  ultralytics.nn.modules.block.C3k2            [64, 128, 1, False, 0.25]     \n",
      "  5                  -1  1    147712  ultralytics.nn.modules.conv.Conv             [128, 128, 3, 2]              \n",
      "  6                  -1  2    180864  ultralytics.nn.modules.block.A2C2f           [128, 128, 2, True, 4]        \n",
      "  7                  -1  1    295424  ultralytics.nn.modules.conv.Conv             [128, 256, 3, 2]              \n",
      "  8                  -1  2    689408  ultralytics.nn.modules.block.A2C2f           [256, 256, 2, True, 1]        \n",
      "  9                  -1  1         0  torch.nn.modules.upsampling.Upsample         [None, 2, 'nearest']          \n",
      " 10             [-1, 6]  1         0  ultralytics.nn.modules.conv.Concat           [1]                           \n",
      " 11                  -1  1     86912  ultralytics.nn.modules.block.A2C2f           [384, 128, 1, False, -1]      \n",
      " 12                  -1  1         0  torch.nn.modules.upsampling.Upsample         [None, 2, 'nearest']          \n",
      " 13             [-1, 4]  1         0  ultralytics.nn.modules.conv.Concat           [1]                           \n",
      " 14                  -1  1     24000  ultralytics.nn.modules.block.A2C2f           [256, 64, 1, False, -1]       \n",
      " 15                  -1  1     36992  ultralytics.nn.modules.conv.Conv             [64, 64, 3, 2]                \n",
      " 16            [-1, 11]  1         0  ultralytics.nn.modules.conv.Concat           [1]                           \n",
      " 17                  -1  1     74624  ultralytics.nn.modules.block.A2C2f           [192, 128, 1, False, -1]      \n",
      " 18                  -1  1    147712  ultralytics.nn.modules.conv.Conv             [128, 128, 3, 2]              \n",
      " 19             [-1, 8]  1         0  ultralytics.nn.modules.conv.Concat           [1]                           \n",
      " 20                  -1  1    378880  ultralytics.nn.modules.block.C3k2            [384, 256, 1, True]           \n",
      " 21        [14, 17, 20]  1    432232  ultralytics.nn.modules.head.Detect           [8, [64, 128, 256]]           \n",
      "YOLOv12n summary: 272 layers, 2,569,608 parameters, 2,569,592 gradients, 6.5 GFLOPs\n",
      "\n",
      "Transferred 640/691 items from pretrained weights\n",
      "Freezing layer 'model.21.dfl.conv.weight'\n",
      "\u001b[34m\u001b[1mAMP: \u001b[0mrunning Automatic Mixed Precision (AMP) checks...\n",
      "\u001b[34m\u001b[1mAMP: \u001b[0mchecks passed \n",
      "\u001b[34m\u001b[1mtrain: \u001b[0mFast image access  (ping: 0.10.1 ms, read: 103.935.4 MB/s, size: 19.8 KB)\n"
     ]
    },
    {
     "name": "stderr",
     "output_type": "stream",
     "text": [
      "\u001b[34m\u001b[1mtrain: \u001b[0mScanning B:\\OneDrive\\Skole\\Studier_UiA\\8_sem_V25\\ikt452_computer_vision\\Yolo-Age-estimation\\data\\age_dataset_tune\\labels\\train.cache... 1373 images, 0 backgrounds, 0 corrupt: 100%|██████████| 1373/1373 [00:00<?, ?it/s]\n",
      "\u001b[34m\u001b[1mtrain: \u001b[0mCaching images (0.7GB Disk): 100%|██████████| 1373/1373 [00:00<00:00, 6835.99it/s]\n"
     ]
    },
    {
     "name": "stdout",
     "output_type": "stream",
     "text": [
      "\u001b[34m\u001b[1mAutoBatch: \u001b[0mComputing optimal batch size for imgsz=416 at 90.0% CUDA memory utilization.\n",
      "\u001b[34m\u001b[1mAutoBatch: \u001b[0mCUDA:0 (NVIDIA GeForce RTX 3080) 10.00G total, 1.83G reserved, 0.09G allocated, 8.07G free\n",
      "      Params      GFLOPs  GPU_mem (GB)  forward (ms) backward (ms)                   input                  output\n",
      "     2569608       2.741         0.862         66.31         128.4        (1, 3, 416, 416)                    list\n",
      "     2569608       5.482         0.910         53.03         127.7        (2, 3, 416, 416)                    list\n",
      "     2569608       10.96         1.206         69.86         115.2        (4, 3, 416, 416)                    list\n",
      "     2569608       21.93         1.780         69.36         133.9        (8, 3, 416, 416)                    list\n",
      "     2569608       43.85         2.340         85.17         131.4       (16, 3, 416, 416)                    list\n",
      "\u001b[34m\u001b[1mAutoBatch: \u001b[0mUsing batch-size 60 for CUDA:0 8.84G/10.00G (88%) \n",
      "\u001b[34m\u001b[1mtrain: \u001b[0mFast image access  (ping: 0.10.1 ms, read: 107.77.0 MB/s, size: 20.3 KB)\n"
     ]
    },
    {
     "name": "stderr",
     "output_type": "stream",
     "text": [
      "\u001b[34m\u001b[1mtrain: \u001b[0mScanning B:\\OneDrive\\Skole\\Studier_UiA\\8_sem_V25\\ikt452_computer_vision\\Yolo-Age-estimation\\data\\age_dataset_tune\\labels\\train.cache... 1373 images, 0 backgrounds, 0 corrupt: 100%|██████████| 1373/1373 [00:00<?, ?it/s]\n",
      "\u001b[34m\u001b[1mtrain: \u001b[0mCaching images (0.7GB Disk): 100%|██████████| 1373/1373 [00:00<00:00, 5282.50it/s]\n"
     ]
    },
    {
     "name": "stdout",
     "output_type": "stream",
     "text": [
      "\u001b[34m\u001b[1mval: \u001b[0mFast image access  (ping: 0.10.0 ms, read: 116.123.8 MB/s, size: 23.3 KB)\n"
     ]
    },
    {
     "name": "stderr",
     "output_type": "stream",
     "text": [
      "\u001b[34m\u001b[1mval: \u001b[0mScanning B:\\OneDrive\\Skole\\Studier_UiA\\8_sem_V25\\ikt452_computer_vision\\Yolo-Age-estimation\\data\\age_dataset_tune\\labels\\val.cache... 3679 images, 0 backgrounds, 0 corrupt: 100%|██████████| 3679/3679 [00:00<?, ?it/s]\n",
      "\u001b[34m\u001b[1mval: \u001b[0mCaching images (1.8GB Disk): 100%|██████████| 3679/3679 [00:00<00:00, 6188.80it/s]\n"
     ]
    },
    {
     "name": "stdout",
     "output_type": "stream",
     "text": [
      "\u001b[34m\u001b[1moptimizer:\u001b[0m AdamW(lr=0.0002523481010499706, momentum=0.7932633614592878) with parameter groups 113 weight(decay=0.0), 120 weight(decay=0.0001768312733321732), 119 bias(decay=0.0)\n",
      "Image sizes 416 train, 416 val\n",
      "Using 1 dataloader workers\n",
      "Logging results to \u001b[1mruns\\detect\\train51\u001b[0m\n",
      "Starting training for 1 epochs...\n",
      "\n",
      "      Epoch    GPU_mem   box_loss   cls_loss   dfl_loss  Instances       Size\n"
     ]
    },
    {
     "name": "stderr",
     "output_type": "stream",
     "text": [
      "        1/1      4.68G   0.008647      7.911      1.723        100        416: 100%|██████████| 23/23 [00:08<00:00,  2.62it/s]\n",
      "                 Class     Images  Instances      Box(P          R      mAP50  mAP50-95): 100%|██████████| 31/31 [00:20<00:00,  1.52it/s]\n"
     ]
    },
    {
     "name": "stdout",
     "output_type": "stream",
     "text": [
      "                   all       3679       3679    0.00175      0.494    0.00343   0.000506\n",
      "\n",
      "1 epochs completed in 0.009 hours.\n",
      "Optimizer stripped from runs\\detect\\train51\\weights\\last.pt, 5.5MB\n",
      "Optimizer stripped from runs\\detect\\train51\\weights\\best.pt, 5.5MB\n",
      "\n",
      "Validating runs\\detect\\train51\\weights\\best.pt...\n",
      "Ultralytics 8.3.119  Python-3.10.17 torch-2.2.2+cu118 CUDA:0 (NVIDIA GeForce RTX 3080, 10240MiB)\n",
      "YOLOv12n summary (fused): 159 layers, 2,558,288 parameters, 0 gradients, 6.3 GFLOPs\n"
     ]
    },
    {
     "name": "stderr",
     "output_type": "stream",
     "text": [
      "                 Class     Images  Instances      Box(P          R      mAP50  mAP50-95): 100%|██████████| 31/31 [00:18<00:00,  1.68it/s]\n"
     ]
    },
    {
     "name": "stdout",
     "output_type": "stream",
     "text": [
      "                   all       3679       3679    0.00175      0.494    0.00345   0.000506\n",
      "Speed: 0.2ms preprocess, 0.5ms inference, 0.0ms loss, 1.8ms postprocess per image\n"
     ]
    },
    {
     "name": "stderr",
     "output_type": "stream",
     "text": [
      "[I 2025-04-30 23:13:11,675] Trial 0 finished with value: 0.0008005277132268221 and parameters: {'lr0': 0.0002523481010499706, 'lrf': 0.23997441446144782, 'momentum': 0.7932633614592878, 'weight_decay': 0.00018862002488765142, 'warmup_epochs': 1, 'warmup_momentum': 0.6115448501601445, 'box': 0.04367230308381591, 'cls': 1.3075070352651854, 'hsv_h': 0.014353804073379085, 'hsv_s': 0.5442816922427002, 'hsv_v': 0.7612806157199838, 'degrees': 26.159056134809266, 'translate': 0.18681680672701184, 'scale': 0.2797345588063854, 'fliplr': 0.309321431697288, 'mosaic': 0.5357126775283086, 'imgsz': 416}. Best is trial 0 with value: 0.0008005277132268221.\n"
     ]
    },
    {
     "name": "stdout",
     "output_type": "stream",
     "text": [
      "\n",
      "✅ Best result for YOLOv12-n: 0.0008\n",
      "\n",
      "====================================================================================================\n",
      "🧪 Tuning: YOLOv12-s on dataset age_dataset_tune\n",
      "====================================================================================================\n"
     ]
    },
    {
     "name": "stderr",
     "output_type": "stream",
     "text": [
      "[I 2025-04-30 23:13:12,587] A new study created in RDB with name: yolo_v12s\n"
     ]
    },
    {
     "name": "stdout",
     "output_type": "stream",
     "text": [
      "🔄 Starting/resuming tuning: 1 trials needed.\n",
      "New https://pypi.org/project/ultralytics/8.3.121 available  Update with 'pip install -U ultralytics'\n",
      "Ultralytics 8.3.119  Python-3.10.17 torch-2.2.2+cu118 CUDA:0 (NVIDIA GeForce RTX 3080, 10240MiB)\n",
      "\u001b[34m\u001b[1mengine\\trainer: \u001b[0mtask=detect, mode=train, model=yolo12s.pt, data=data/age_dataset_tune\\data.yaml, epochs=1, time=None, patience=100, batch=0.9, imgsz=416, save=True, save_period=-1, cache=disk, device=0, workers=1, project=None, name=train52, exist_ok=False, pretrained=True, optimizer=AdamW, verbose=False, seed=0, deterministic=True, single_cls=False, rect=False, cos_lr=False, close_mosaic=10, resume=False, amp=True, fraction=0.1, profile=False, freeze=None, multi_scale=False, overlap_mask=True, mask_ratio=4, dropout=0.0, val=True, split=val, save_json=False, conf=None, iou=0.7, max_det=300, half=False, dnn=False, plots=False, source=None, vid_stride=1, stream_buffer=False, visualize=False, augment=False, agnostic_nms=False, classes=None, retina_masks=False, embed=None, show=False, save_frames=False, save_txt=False, save_conf=False, save_crop=False, show_labels=True, show_conf=True, show_boxes=True, line_width=None, format=torchscript, keras=False, optimize=False, int8=False, dynamic=False, simplify=True, opset=None, workspace=None, nms=False, lr0=0.0020249262709842617, lrf=0.503109026881299, momentum=0.941139648068583, weight_decay=0.0006763018769780637, warmup_epochs=4, warmup_momentum=0.6492956218245409, warmup_bias_lr=0.1, box=0.06430154973429297, cls=2.3925151259225785, dfl=1.5, pose=12.0, kobj=1.0, nbs=64, hsv_h=0.009890722770299565, hsv_s=0.833737710421574, hsv_v=0.8245860835323624, degrees=29.78520798576811, translate=0.20136738745896188, scale=0.3723048672160944, shear=0.0, perspective=0.0, flipud=0.0, fliplr=0.4194843903848131, bgr=0.0, mosaic=0.6281290656784313, mixup=0.0, cutmix=0.0, copy_paste=0.0, copy_paste_mode=flip, auto_augment=randaugment, erasing=0.4, cfg=None, tracker=botsort.yaml, save_dir=runs\\detect\\train52\n",
      "Overriding model.yaml nc=80 with nc=8\n",
      "\n",
      "                   from  n    params  module                                       arguments                     \n",
      "  0                  -1  1       928  ultralytics.nn.modules.conv.Conv             [3, 32, 3, 2]                 \n",
      "  1                  -1  1     18560  ultralytics.nn.modules.conv.Conv             [32, 64, 3, 2]                \n",
      "  2                  -1  1     26080  ultralytics.nn.modules.block.C3k2            [64, 128, 1, False, 0.25]     \n",
      "  3                  -1  1    147712  ultralytics.nn.modules.conv.Conv             [128, 128, 3, 2]              \n",
      "  4                  -1  1    103360  ultralytics.nn.modules.block.C3k2            [128, 256, 1, False, 0.25]    \n",
      "  5                  -1  1    590336  ultralytics.nn.modules.conv.Conv             [256, 256, 3, 2]              \n",
      "  6                  -1  2    689408  ultralytics.nn.modules.block.A2C2f           [256, 256, 2, True, 4]        \n",
      "  7                  -1  1   1180672  ultralytics.nn.modules.conv.Conv             [256, 512, 3, 2]              \n",
      "  8                  -1  2   2689536  ultralytics.nn.modules.block.A2C2f           [512, 512, 2, True, 1]        \n",
      "  9                  -1  1         0  torch.nn.modules.upsampling.Upsample         [None, 2, 'nearest']          \n",
      " 10             [-1, 6]  1         0  ultralytics.nn.modules.conv.Concat           [1]                           \n",
      " 11                  -1  1    345856  ultralytics.nn.modules.block.A2C2f           [768, 256, 1, False, -1]      \n",
      " 12                  -1  1         0  torch.nn.modules.upsampling.Upsample         [None, 2, 'nearest']          \n",
      " 13             [-1, 4]  1         0  ultralytics.nn.modules.conv.Concat           [1]                           \n",
      " 14                  -1  1     95104  ultralytics.nn.modules.block.A2C2f           [512, 128, 1, False, -1]      \n",
      " 15                  -1  1    147712  ultralytics.nn.modules.conv.Conv             [128, 128, 3, 2]              \n",
      " 16            [-1, 11]  1         0  ultralytics.nn.modules.conv.Concat           [1]                           \n",
      " 17                  -1  1    296704  ultralytics.nn.modules.block.A2C2f           [384, 256, 1, False, -1]      \n",
      " 18                  -1  1    590336  ultralytics.nn.modules.conv.Conv             [256, 256, 3, 2]              \n",
      " 19             [-1, 8]  1         0  ultralytics.nn.modules.conv.Concat           [1]                           \n",
      " 20                  -1  1   1511424  ultralytics.nn.modules.block.C3k2            [768, 512, 1, True]           \n",
      " 21        [14, 17, 20]  1    822504  ultralytics.nn.modules.head.Detect           [8, [128, 256, 512]]          \n",
      "YOLOv12s summary: 272 layers, 9,256,232 parameters, 9,256,216 gradients, 21.5 GFLOPs\n",
      "\n",
      "Transferred 685/691 items from pretrained weights\n",
      "Freezing layer 'model.21.dfl.conv.weight'\n",
      "\u001b[34m\u001b[1mAMP: \u001b[0mrunning Automatic Mixed Precision (AMP) checks...\n",
      "\u001b[34m\u001b[1mAMP: \u001b[0mchecks passed \n",
      "\u001b[34m\u001b[1mtrain: \u001b[0mFast image access  (ping: 0.10.1 ms, read: 105.334.0 MB/s, size: 19.8 KB)\n"
     ]
    },
    {
     "name": "stderr",
     "output_type": "stream",
     "text": [
      "\u001b[34m\u001b[1mtrain: \u001b[0mScanning B:\\OneDrive\\Skole\\Studier_UiA\\8_sem_V25\\ikt452_computer_vision\\Yolo-Age-estimation\\data\\age_dataset_tune\\labels\\train.cache... 1373 images, 0 backgrounds, 0 corrupt: 100%|██████████| 1373/1373 [00:00<?, ?it/s]\n",
      "\u001b[34m\u001b[1mtrain: \u001b[0mCaching images (0.7GB Disk): 100%|██████████| 1373/1373 [00:00<00:00, 6740.52it/s]\n"
     ]
    },
    {
     "name": "stdout",
     "output_type": "stream",
     "text": [
      "\u001b[34m\u001b[1mAutoBatch: \u001b[0mComputing optimal batch size for imgsz=416 at 90.0% CUDA memory utilization.\n",
      "\u001b[34m\u001b[1mAutoBatch: \u001b[0mCUDA:0 (NVIDIA GeForce RTX 3080) 10.00G total, 0.51G reserved, 0.14G allocated, 9.34G free\n",
      "      Params      GFLOPs  GPU_mem (GB)  forward (ms) backward (ms)                   input                  output\n",
      "     9256232       9.099         1.013         80.21         101.5        (1, 3, 416, 416)                    list\n",
      "     9256232        18.2         1.200          63.4         114.6        (2, 3, 416, 416)                    list\n",
      "     9256232        36.4         1.661         84.33           117        (4, 3, 416, 416)                    list\n",
      "     9256232        72.8         2.370         100.8         116.1        (8, 3, 416, 416)                    list\n",
      "     9256232       145.6         3.817         87.63         101.1       (16, 3, 416, 416)                    list\n",
      "\u001b[34m\u001b[1mAutoBatch: \u001b[0mUsing batch-size 38 for CUDA:0 8.59G/10.00G (86%) \n",
      "\u001b[34m\u001b[1mtrain: \u001b[0mFast image access  (ping: 0.10.1 ms, read: 104.79.5 MB/s, size: 20.3 KB)\n"
     ]
    },
    {
     "name": "stderr",
     "output_type": "stream",
     "text": [
      "\u001b[34m\u001b[1mtrain: \u001b[0mScanning B:\\OneDrive\\Skole\\Studier_UiA\\8_sem_V25\\ikt452_computer_vision\\Yolo-Age-estimation\\data\\age_dataset_tune\\labels\\train.cache... 1373 images, 0 backgrounds, 0 corrupt: 100%|██████████| 1373/1373 [00:00<?, ?it/s]\n",
      "\u001b[34m\u001b[1mtrain: \u001b[0mCaching images (0.7GB Disk): 100%|██████████| 1373/1373 [00:00<00:00, 6900.14it/s]\n"
     ]
    },
    {
     "name": "stdout",
     "output_type": "stream",
     "text": [
      "\u001b[34m\u001b[1mval: \u001b[0mFast image access  (ping: 0.10.1 ms, read: 116.120.2 MB/s, size: 23.3 KB)\n"
     ]
    },
    {
     "name": "stderr",
     "output_type": "stream",
     "text": [
      "\u001b[34m\u001b[1mval: \u001b[0mScanning B:\\OneDrive\\Skole\\Studier_UiA\\8_sem_V25\\ikt452_computer_vision\\Yolo-Age-estimation\\data\\age_dataset_tune\\labels\\val.cache... 3679 images, 0 backgrounds, 0 corrupt: 100%|██████████| 3679/3679 [00:00<?, ?it/s]\n",
      "\u001b[34m\u001b[1mval: \u001b[0mCaching images (1.8GB Disk): 100%|██████████| 3679/3679 [00:00<00:00, 7115.69it/s]\n"
     ]
    },
    {
     "name": "stdout",
     "output_type": "stream",
     "text": [
      "\u001b[34m\u001b[1moptimizer:\u001b[0m AdamW(lr=0.0020249262709842617, momentum=0.941139648068583) with parameter groups 113 weight(decay=0.0), 120 weight(decay=0.0008031084789114506), 119 bias(decay=0.0)\n",
      "Image sizes 416 train, 416 val\n",
      "Using 1 dataloader workers\n",
      "Logging results to \u001b[1mruns\\detect\\train52\u001b[0m\n",
      "Starting training for 1 epochs...\n",
      "\n",
      "      Epoch    GPU_mem   box_loss   cls_loss   dfl_loss  Instances       Size\n"
     ]
    },
    {
     "name": "stderr",
     "output_type": "stream",
     "text": [
      "        1/1      5.42G    0.01518      16.62      2.047         11        416: 100%|██████████| 37/37 [00:10<00:00,  3.39it/s]\n",
      "                 Class     Images  Instances      Box(P          R      mAP50  mAP50-95): 100%|██████████| 49/49 [00:26<00:00,  1.84it/s]\n"
     ]
    },
    {
     "name": "stdout",
     "output_type": "stream",
     "text": [
      "                   all       3679       3679    0.00233     0.0442    0.00139   0.000604\n",
      "\n",
      "1 epochs completed in 0.011 hours.\n",
      "Optimizer stripped from runs\\detect\\train52\\weights\\last.pt, 18.9MB\n",
      "Optimizer stripped from runs\\detect\\train52\\weights\\best.pt, 18.9MB\n",
      "\n",
      "Validating runs\\detect\\train52\\weights\\best.pt...\n",
      "Ultralytics 8.3.119  Python-3.10.17 torch-2.2.2+cu118 CUDA:0 (NVIDIA GeForce RTX 3080, 10240MiB)\n",
      "YOLOv12s summary (fused): 159 layers, 9,233,976 parameters, 0 gradients, 21.2 GFLOPs\n"
     ]
    },
    {
     "name": "stderr",
     "output_type": "stream",
     "text": [
      "                 Class     Images  Instances      Box(P          R      mAP50  mAP50-95): 100%|██████████| 49/49 [00:23<00:00,  2.08it/s]\n"
     ]
    },
    {
     "name": "stdout",
     "output_type": "stream",
     "text": [
      "                   all       3679       3679    0.00235      0.046    0.00142   0.000653\n",
      "Speed: 0.2ms preprocess, 0.9ms inference, 0.0ms loss, 3.2ms postprocess per image\n"
     ]
    },
    {
     "name": "stderr",
     "output_type": "stream",
     "text": [
      "[I 2025-04-30 23:14:36,465] Trial 0 finished with value: 0.0007295688825750511 and parameters: {'lr0': 0.0020249262709842617, 'lrf': 0.503109026881299, 'momentum': 0.941139648068583, 'weight_decay': 0.0006763018769780637, 'warmup_epochs': 4, 'warmup_momentum': 0.6492956218245409, 'box': 0.06430154973429297, 'cls': 2.3925151259225785, 'hsv_h': 0.009890722770299565, 'hsv_s': 0.833737710421574, 'hsv_v': 0.8245860835323624, 'degrees': 29.78520798576811, 'translate': 0.20136738745896188, 'scale': 0.3723048672160944, 'fliplr': 0.4194843903848131, 'mosaic': 0.6281290656784313, 'imgsz': 416}. Best is trial 0 with value: 0.0007295688825750511.\n"
     ]
    },
    {
     "name": "stdout",
     "output_type": "stream",
     "text": [
      "\n",
      "✅ Best result for YOLOv12-s: 0.0007\n",
      "\n",
      "====================================================================================================\n",
      "🧪 Tuning: YOLOv12-m on dataset age_dataset_tune\n",
      "====================================================================================================\n"
     ]
    },
    {
     "name": "stderr",
     "output_type": "stream",
     "text": [
      "[I 2025-04-30 23:14:37,244] A new study created in RDB with name: yolo_v12m\n"
     ]
    },
    {
     "name": "stdout",
     "output_type": "stream",
     "text": [
      "🔄 Starting/resuming tuning: 1 trials needed.\n",
      "Downloading https://github.com/ultralytics/assets/releases/download/v8.3.0/yolo12m.pt to 'yolo12m.pt'...\n"
     ]
    },
    {
     "name": "stderr",
     "output_type": "stream",
     "text": [
      "100%|██████████| 39.0M/39.0M [00:01<00:00, 35.3MB/s]\n"
     ]
    },
    {
     "name": "stdout",
     "output_type": "stream",
     "text": [
      "New https://pypi.org/project/ultralytics/8.3.121 available  Update with 'pip install -U ultralytics'\n",
      "Ultralytics 8.3.119  Python-3.10.17 torch-2.2.2+cu118 CUDA:0 (NVIDIA GeForce RTX 3080, 10240MiB)\n",
      "\u001b[34m\u001b[1mengine\\trainer: \u001b[0mtask=detect, mode=train, model=yolo12m.pt, data=data/age_dataset_tune\\data.yaml, epochs=1, time=None, patience=100, batch=0.9, imgsz=416, save=True, save_period=-1, cache=disk, device=0, workers=1, project=None, name=train53, exist_ok=False, pretrained=True, optimizer=AdamW, verbose=False, seed=0, deterministic=True, single_cls=False, rect=False, cos_lr=False, close_mosaic=10, resume=False, amp=True, fraction=0.1, profile=False, freeze=None, multi_scale=False, overlap_mask=True, mask_ratio=4, dropout=0.0, val=True, split=val, save_json=False, conf=None, iou=0.7, max_det=300, half=False, dnn=False, plots=False, source=None, vid_stride=1, stream_buffer=False, visualize=False, augment=False, agnostic_nms=False, classes=None, retina_masks=False, embed=None, show=False, save_frames=False, save_txt=False, save_conf=False, save_crop=False, show_labels=True, show_conf=True, show_boxes=True, line_width=None, format=torchscript, keras=False, optimize=False, int8=False, dynamic=False, simplify=True, opset=None, workspace=None, nms=False, lr0=0.0003176650737327069, lrf=0.15890563629007134, momentum=0.9304536112340448, weight_decay=0.0007898709909602218, warmup_epochs=4, warmup_momentum=0.7706224698943603, warmup_bias_lr=0.1, box=0.022422121984111053, cls=1.704275619270925, dfl=1.5, pose=12.0, kobj=1.0, nbs=64, hsv_h=0.024897454228384686, hsv_s=0.6027245091807052, hsv_v=0.8766388390129938, degrees=8.140738376261337, translate=0.3899374965764964, scale=0.37034254128993005, shear=0.0, perspective=0.0, flipud=0.0, fliplr=0.12646937047385148, bgr=0.0, mosaic=0.3343641032713208, mixup=0.0, cutmix=0.0, copy_paste=0.0, copy_paste_mode=flip, auto_augment=randaugment, erasing=0.4, cfg=None, tracker=botsort.yaml, save_dir=runs\\detect\\train53\n",
      "Overriding model.yaml nc=80 with nc=8\n",
      "\n",
      "                   from  n    params  module                                       arguments                     \n",
      "  0                  -1  1      1856  ultralytics.nn.modules.conv.Conv             [3, 64, 3, 2]                 \n",
      "  1                  -1  1     73984  ultralytics.nn.modules.conv.Conv             [64, 128, 3, 2]               \n",
      "  2                  -1  1    111872  ultralytics.nn.modules.block.C3k2            [128, 256, 1, True, 0.25]     \n",
      "  3                  -1  1    590336  ultralytics.nn.modules.conv.Conv             [256, 256, 3, 2]              \n",
      "  4                  -1  1    444928  ultralytics.nn.modules.block.C3k2            [256, 512, 1, True, 0.25]     \n",
      "  5                  -1  1   2360320  ultralytics.nn.modules.conv.Conv             [512, 512, 3, 2]              \n",
      "  6                  -1  2   2689536  ultralytics.nn.modules.block.A2C2f           [512, 512, 2, True, 4]        \n",
      "  7                  -1  1   2360320  ultralytics.nn.modules.conv.Conv             [512, 512, 3, 2]              \n",
      "  8                  -1  2   2689536  ultralytics.nn.modules.block.A2C2f           [512, 512, 2, True, 1]        \n",
      "  9                  -1  1         0  torch.nn.modules.upsampling.Upsample         [None, 2, 'nearest']          \n",
      " 10             [-1, 6]  1         0  ultralytics.nn.modules.conv.Concat           [1]                           \n",
      " 11                  -1  1   1248768  ultralytics.nn.modules.block.A2C2f           [1024, 512, 1, False, -1]     \n",
      " 12                  -1  1         0  torch.nn.modules.upsampling.Upsample         [None, 2, 'nearest']          \n",
      " 13             [-1, 4]  1         0  ultralytics.nn.modules.conv.Concat           [1]                           \n",
      " 14                  -1  1    378624  ultralytics.nn.modules.block.A2C2f           [1024, 256, 1, False, -1]     \n",
      " 15                  -1  1    590336  ultralytics.nn.modules.conv.Conv             [256, 256, 3, 2]              \n",
      " 16            [-1, 11]  1         0  ultralytics.nn.modules.conv.Concat           [1]                           \n",
      " 17                  -1  1   1183232  ultralytics.nn.modules.block.A2C2f           [768, 512, 1, False, -1]      \n",
      " 18                  -1  1   2360320  ultralytics.nn.modules.conv.Conv             [512, 512, 3, 2]              \n",
      " 19             [-1, 8]  1         0  ultralytics.nn.modules.conv.Concat           [1]                           \n",
      " 20                  -1  1   1642496  ultralytics.nn.modules.block.C3k2            [1024, 512, 1, True]          \n",
      " 21        [14, 17, 20]  1   1417192  ultralytics.nn.modules.head.Detect           [8, [256, 512, 512]]          \n",
      "YOLOv12m summary: 292 layers, 20,143,656 parameters, 20,143,640 gradients, 67.8 GFLOPs\n",
      "\n",
      "Transferred 745/751 items from pretrained weights\n",
      "Freezing layer 'model.21.dfl.conv.weight'\n",
      "\u001b[34m\u001b[1mAMP: \u001b[0mrunning Automatic Mixed Precision (AMP) checks...\n",
      "\u001b[34m\u001b[1mAMP: \u001b[0mchecks passed \n",
      "\u001b[34m\u001b[1mtrain: \u001b[0mFast image access  (ping: 0.20.0 ms, read: 85.926.2 MB/s, size: 19.8 KB)\n"
     ]
    },
    {
     "name": "stderr",
     "output_type": "stream",
     "text": [
      "\u001b[34m\u001b[1mtrain: \u001b[0mScanning B:\\OneDrive\\Skole\\Studier_UiA\\8_sem_V25\\ikt452_computer_vision\\Yolo-Age-estimation\\data\\age_dataset_tune\\labels\\train.cache... 1373 images, 0 backgrounds, 0 corrupt: 100%|██████████| 1373/1373 [00:00<?, ?it/s]\n",
      "\u001b[34m\u001b[1mtrain: \u001b[0mCaching images (0.7GB Disk): 100%|██████████| 1373/1373 [00:00<00:00, 6276.60it/s]\n"
     ]
    },
    {
     "name": "stdout",
     "output_type": "stream",
     "text": [
      "\u001b[34m\u001b[1mAutoBatch: \u001b[0mComputing optimal batch size for imgsz=416 at 90.0% CUDA memory utilization.\n",
      "\u001b[34m\u001b[1mAutoBatch: \u001b[0mCUDA:0 (NVIDIA GeForce RTX 3080) 10.00G total, 0.55G reserved, 0.23G allocated, 9.23G free\n",
      "      Params      GFLOPs  GPU_mem (GB)  forward (ms) backward (ms)                   input                  output\n",
      "    20143656       28.63         1.713         93.79         141.8        (1, 3, 416, 416)                    list\n",
      "    20143656       57.27         2.032         109.4         120.7        (2, 3, 416, 416)                    list\n",
      "    20143656       114.5         2.905         111.6         78.16        (4, 3, 416, 416)                    list\n",
      "    20143656       229.1         3.936         83.04         101.2        (8, 3, 416, 416)                    list\n",
      "    20143656       458.1         5.927         101.9           110       (16, 3, 416, 416)                    list\n",
      "\u001b[34m\u001b[1mAutoBatch: \u001b[0mUsing batch-size 23 for CUDA:0 8.74G/10.00G (87%) \n",
      "\u001b[34m\u001b[1mtrain: \u001b[0mFast image access  (ping: 0.10.0 ms, read: 109.75.6 MB/s, size: 20.3 KB)\n"
     ]
    },
    {
     "name": "stderr",
     "output_type": "stream",
     "text": [
      "\u001b[34m\u001b[1mtrain: \u001b[0mScanning B:\\OneDrive\\Skole\\Studier_UiA\\8_sem_V25\\ikt452_computer_vision\\Yolo-Age-estimation\\data\\age_dataset_tune\\labels\\train.cache... 1373 images, 0 backgrounds, 0 corrupt: 100%|██████████| 1373/1373 [00:00<?, ?it/s]\n",
      "\u001b[34m\u001b[1mtrain: \u001b[0mCaching images (0.7GB Disk): 100%|██████████| 1373/1373 [00:00<00:00, 7337.91it/s]\n"
     ]
    },
    {
     "name": "stdout",
     "output_type": "stream",
     "text": [
      "\u001b[34m\u001b[1mval: \u001b[0mFast image access  (ping: 0.10.0 ms, read: 105.719.0 MB/s, size: 23.3 KB)\n"
     ]
    },
    {
     "name": "stderr",
     "output_type": "stream",
     "text": [
      "\u001b[34m\u001b[1mval: \u001b[0mScanning B:\\OneDrive\\Skole\\Studier_UiA\\8_sem_V25\\ikt452_computer_vision\\Yolo-Age-estimation\\data\\age_dataset_tune\\labels\\val.cache... 3679 images, 0 backgrounds, 0 corrupt: 100%|██████████| 3679/3679 [00:00<?, ?it/s]\n",
      "\u001b[34m\u001b[1mval: \u001b[0mCaching images (1.8GB Disk): 100%|██████████| 3679/3679 [00:00<00:00, 6530.15it/s]\n"
     ]
    },
    {
     "name": "stdout",
     "output_type": "stream",
     "text": [
      "\u001b[34m\u001b[1moptimizer:\u001b[0m AdamW(lr=0.0003176650737327069, momentum=0.9304536112340448) with parameter groups 123 weight(decay=0.0), 130 weight(decay=0.0008515796621289891), 129 bias(decay=0.0)\n",
      "Image sizes 416 train, 416 val\n",
      "Using 1 dataloader workers\n",
      "Logging results to \u001b[1mruns\\detect\\train53\u001b[0m\n",
      "Starting training for 1 epochs...\n",
      "\n",
      "      Epoch    GPU_mem   box_loss   cls_loss   dfl_loss  Instances       Size\n"
     ]
    },
    {
     "name": "stderr",
     "output_type": "stream",
     "text": [
      "        1/1      6.43G   0.003827      8.072      1.634         23        416: 100%|██████████| 60/60 [00:18<00:00,  3.31it/s]\n",
      "                 Class     Images  Instances      Box(P          R      mAP50  mAP50-95): 100%|██████████| 80/80 [00:28<00:00,  2.83it/s]"
     ]
    },
    {
     "name": "stdout",
     "output_type": "stream",
     "text": [
      "                   all       3679       3679      0.242      0.418      0.166     0.0707\n"
     ]
    },
    {
     "name": "stderr",
     "output_type": "stream",
     "text": [
      "\n"
     ]
    },
    {
     "name": "stdout",
     "output_type": "stream",
     "text": [
      "\n",
      "1 epochs completed in 0.014 hours.\n",
      "Optimizer stripped from runs\\detect\\train53\\weights\\last.pt, 40.7MB\n",
      "Optimizer stripped from runs\\detect\\train53\\weights\\best.pt, 40.7MB\n",
      "\n",
      "Validating runs\\detect\\train53\\weights\\best.pt...\n",
      "Ultralytics 8.3.119  Python-3.10.17 torch-2.2.2+cu118 CUDA:0 (NVIDIA GeForce RTX 3080, 10240MiB)\n",
      "YOLOv12m summary (fused): 169 layers, 20,111,080 parameters, 0 gradients, 67.1 GFLOPs\n"
     ]
    },
    {
     "name": "stderr",
     "output_type": "stream",
     "text": [
      "                 Class     Images  Instances      Box(P          R      mAP50  mAP50-95): 100%|██████████| 80/80 [00:24<00:00,  3.30it/s]"
     ]
    },
    {
     "name": "stdout",
     "output_type": "stream",
     "text": [
      "                   all       3679       3679      0.242      0.419      0.166     0.0707\n",
      "Speed: 0.2ms preprocess, 2.0ms inference, 0.0ms loss, 1.6ms postprocess per image\n"
     ]
    },
    {
     "name": "stderr",
     "output_type": "stream",
     "text": [
      "\n",
      "[I 2025-04-30 23:16:15,138] Trial 0 finished with value: 0.08025669400150937 and parameters: {'lr0': 0.0003176650737327069, 'lrf': 0.15890563629007134, 'momentum': 0.9304536112340448, 'weight_decay': 0.0007898709909602218, 'warmup_epochs': 4, 'warmup_momentum': 0.7706224698943603, 'box': 0.022422121984111053, 'cls': 1.704275619270925, 'hsv_h': 0.024897454228384686, 'hsv_s': 0.6027245091807052, 'hsv_v': 0.8766388390129938, 'degrees': 8.140738376261337, 'translate': 0.3899374965764964, 'scale': 0.37034254128993005, 'fliplr': 0.12646937047385148, 'mosaic': 0.3343641032713208, 'imgsz': 416}. Best is trial 0 with value: 0.08025669400150937.\n"
     ]
    },
    {
     "name": "stdout",
     "output_type": "stream",
     "text": [
      "\n",
      "✅ Best result for YOLOv12-m: 0.0803\n",
      "\n",
      "====================================================================================================\n",
      "🧪 Tuning: YOLOv12-l on dataset age_dataset_tune\n",
      "====================================================================================================\n"
     ]
    },
    {
     "name": "stderr",
     "output_type": "stream",
     "text": [
      "[I 2025-04-30 23:16:15,922] A new study created in RDB with name: yolo_v12l\n"
     ]
    },
    {
     "name": "stdout",
     "output_type": "stream",
     "text": [
      "🔄 Starting/resuming tuning: 1 trials needed.\n",
      "Downloading https://github.com/ultralytics/assets/releases/download/v8.3.0/yolo12l.pt to 'yolo12l.pt'...\n"
     ]
    },
    {
     "name": "stderr",
     "output_type": "stream",
     "text": [
      "100%|██████████| 51.2M/51.2M [00:01<00:00, 35.4MB/s]\n"
     ]
    },
    {
     "name": "stdout",
     "output_type": "stream",
     "text": [
      "New https://pypi.org/project/ultralytics/8.3.121 available  Update with 'pip install -U ultralytics'\n",
      "Ultralytics 8.3.119  Python-3.10.17 torch-2.2.2+cu118 CUDA:0 (NVIDIA GeForce RTX 3080, 10240MiB)\n",
      "\u001b[34m\u001b[1mengine\\trainer: \u001b[0mtask=detect, mode=train, model=yolo12l.pt, data=data/age_dataset_tune\\data.yaml, epochs=1, time=None, patience=100, batch=0.9, imgsz=416, save=True, save_period=-1, cache=disk, device=0, workers=1, project=None, name=train54, exist_ok=False, pretrained=True, optimizer=AdamW, verbose=False, seed=0, deterministic=True, single_cls=False, rect=False, cos_lr=False, close_mosaic=10, resume=False, amp=True, fraction=0.1, profile=False, freeze=None, multi_scale=False, overlap_mask=True, mask_ratio=4, dropout=0.0, val=True, split=val, save_json=False, conf=None, iou=0.7, max_det=300, half=False, dnn=False, plots=False, source=None, vid_stride=1, stream_buffer=False, visualize=False, augment=False, agnostic_nms=False, classes=None, retina_masks=False, embed=None, show=False, save_frames=False, save_txt=False, save_conf=False, save_crop=False, show_labels=True, show_conf=True, show_boxes=True, line_width=None, format=torchscript, keras=False, optimize=False, int8=False, dynamic=False, simplify=True, opset=None, workspace=None, nms=False, lr0=4.576383219412801e-05, lrf=0.6052257575240506, momentum=0.8530176417166953, weight_decay=0.000320317929152098, warmup_epochs=2, warmup_momentum=0.5762698535893062, warmup_bias_lr=0.1, box=0.08536027793390921, cls=1.4888115671019182, dfl=1.5, pose=12.0, kobj=1.0, nbs=64, hsv_h=0.05346261539063373, hsv_s=0.8079242964840485, hsv_v=0.7050567897022606, degrees=27.487529501908263, translate=0.2485114737198189, scale=0.34016621039715056, shear=0.0, perspective=0.0, flipud=0.0, fliplr=0.024044212204149595, bgr=0.0, mosaic=0.25324218735550685, mixup=0.0, cutmix=0.0, copy_paste=0.0, copy_paste_mode=flip, auto_augment=randaugment, erasing=0.4, cfg=None, tracker=botsort.yaml, save_dir=runs\\detect\\train54\n",
      "Overriding model.yaml nc=80 with nc=8\n",
      "\n",
      "                   from  n    params  module                                       arguments                     \n",
      "  0                  -1  1      1856  ultralytics.nn.modules.conv.Conv             [3, 64, 3, 2]                 \n",
      "  1                  -1  1     73984  ultralytics.nn.modules.conv.Conv             [64, 128, 3, 2]               \n",
      "  2                  -1  2    173824  ultralytics.nn.modules.block.C3k2            [128, 256, 2, True, 0.25]     \n",
      "  3                  -1  1    590336  ultralytics.nn.modules.conv.Conv             [256, 256, 3, 2]              \n",
      "  4                  -1  2    691712  ultralytics.nn.modules.block.C3k2            [256, 512, 2, True, 0.25]     \n",
      "  5                  -1  1   2360320  ultralytics.nn.modules.conv.Conv             [512, 512, 3, 2]              \n",
      "  6                  -1  4   4272944  ultralytics.nn.modules.block.A2C2f           [512, 512, 4, True, 4, True, 1.2]\n",
      "  7                  -1  1   2360320  ultralytics.nn.modules.conv.Conv             [512, 512, 3, 2]              \n",
      "  8                  -1  4   4272944  ultralytics.nn.modules.block.A2C2f           [512, 512, 4, True, 1, True, 1.2]\n",
      "  9                  -1  1         0  torch.nn.modules.upsampling.Upsample         [None, 2, 'nearest']          \n",
      " 10             [-1, 6]  1         0  ultralytics.nn.modules.conv.Concat           [1]                           \n",
      " 11                  -1  2   2102784  ultralytics.nn.modules.block.A2C2f           [1024, 512, 2, False, -1, True, 1.2]\n",
      " 12                  -1  1         0  torch.nn.modules.upsampling.Upsample         [None, 2, 'nearest']          \n",
      " 13             [-1, 4]  1         0  ultralytics.nn.modules.conv.Concat           [1]                           \n",
      " 14                  -1  2    592640  ultralytics.nn.modules.block.A2C2f           [1024, 256, 2, False, -1, True, 1.2]\n",
      " 15                  -1  1    590336  ultralytics.nn.modules.conv.Conv             [256, 256, 3, 2]              \n",
      " 16            [-1, 11]  1         0  ultralytics.nn.modules.conv.Concat           [1]                           \n",
      " 17                  -1  2   2037248  ultralytics.nn.modules.block.A2C2f           [768, 512, 2, False, -1, True, 1.2]\n",
      " 18                  -1  1   2360320  ultralytics.nn.modules.conv.Conv             [512, 512, 3, 2]              \n",
      " 19             [-1, 8]  1         0  ultralytics.nn.modules.conv.Concat           [1]                           \n",
      " 20                  -1  2   2496512  ultralytics.nn.modules.block.C3k2            [1024, 512, 2, True]          \n",
      " 21        [14, 17, 20]  1   1417192  ultralytics.nn.modules.head.Detect           [8, [256, 512, 512]]          \n",
      "YOLOv12l summary: 488 layers, 26,395,272 parameters, 26,395,256 gradients, 89.4 GFLOPs\n",
      "\n",
      "Transferred 1239/1245 items from pretrained weights\n",
      "Freezing layer 'model.21.dfl.conv.weight'\n",
      "\u001b[34m\u001b[1mAMP: \u001b[0mrunning Automatic Mixed Precision (AMP) checks...\n",
      "\u001b[34m\u001b[1mAMP: \u001b[0mchecks passed \n",
      "\u001b[34m\u001b[1mtrain: \u001b[0mFast image access  (ping: 0.10.0 ms, read: 107.037.1 MB/s, size: 19.8 KB)\n"
     ]
    },
    {
     "name": "stderr",
     "output_type": "stream",
     "text": [
      "\u001b[34m\u001b[1mtrain: \u001b[0mScanning B:\\OneDrive\\Skole\\Studier_UiA\\8_sem_V25\\ikt452_computer_vision\\Yolo-Age-estimation\\data\\age_dataset_tune\\labels\\train.cache... 1373 images, 0 backgrounds, 0 corrupt: 100%|██████████| 1373/1373 [00:00<?, ?it/s]\n",
      "\u001b[34m\u001b[1mtrain: \u001b[0mCaching images (0.7GB Disk): 100%|██████████| 1373/1373 [00:00<00:00, 4203.19it/s]\n"
     ]
    },
    {
     "name": "stdout",
     "output_type": "stream",
     "text": [
      "\u001b[34m\u001b[1mAutoBatch: \u001b[0mComputing optimal batch size for imgsz=416 at 90.0% CUDA memory utilization.\n",
      "\u001b[34m\u001b[1mAutoBatch: \u001b[0mCUDA:0 (NVIDIA GeForce RTX 3080) 10.00G total, 0.82G reserved, 0.27G allocated, 8.91G free\n",
      "      Params      GFLOPs  GPU_mem (GB)  forward (ms) backward (ms)                   input                  output\n",
      "    26395272       37.79         2.127           152         140.7        (1, 3, 416, 416)                    list\n",
      "    26395272       75.58         2.611         108.6         183.3        (2, 3, 416, 416)                    list\n",
      "    26395272       151.2         3.657         157.6           142        (4, 3, 416, 416)                    list\n",
      "    26395272       302.3         5.207         156.3         165.8        (8, 3, 416, 416)                    list\n",
      "    26395272       604.6         8.338         178.3         200.9       (16, 3, 416, 416)                    list\n",
      "\u001b[34m\u001b[1mAutoBatch: \u001b[0mUsing batch-size 15 for CUDA:0 9.09G/10.00G (91%) \n",
      "\u001b[34m\u001b[1mtrain: \u001b[0mFast image access  (ping: 0.10.0 ms, read: 85.112.5 MB/s, size: 20.3 KB)\n"
     ]
    },
    {
     "name": "stderr",
     "output_type": "stream",
     "text": [
      "\u001b[34m\u001b[1mtrain: \u001b[0mScanning B:\\OneDrive\\Skole\\Studier_UiA\\8_sem_V25\\ikt452_computer_vision\\Yolo-Age-estimation\\data\\age_dataset_tune\\labels\\train.cache... 1373 images, 0 backgrounds, 0 corrupt: 100%|██████████| 1373/1373 [00:00<?, ?it/s]\n",
      "\u001b[34m\u001b[1mtrain: \u001b[0mCaching images (0.7GB Disk): 100%|██████████| 1373/1373 [00:00<00:00, 6651.41it/s]\n"
     ]
    },
    {
     "name": "stdout",
     "output_type": "stream",
     "text": [
      "\u001b[34m\u001b[1mval: \u001b[0mFast image access  (ping: 0.10.0 ms, read: 105.817.9 MB/s, size: 23.3 KB)\n"
     ]
    },
    {
     "name": "stderr",
     "output_type": "stream",
     "text": [
      "\u001b[34m\u001b[1mval: \u001b[0mScanning B:\\OneDrive\\Skole\\Studier_UiA\\8_sem_V25\\ikt452_computer_vision\\Yolo-Age-estimation\\data\\age_dataset_tune\\labels\\val.cache... 3679 images, 0 backgrounds, 0 corrupt: 100%|██████████| 3679/3679 [00:00<?, ?it/s]\n",
      "\u001b[34m\u001b[1mval: \u001b[0mCaching images (1.8GB Disk): 100%|██████████| 3679/3679 [00:00<00:00, 7136.72it/s]\n"
     ]
    },
    {
     "name": "stdout",
     "output_type": "stream",
     "text": [
      "\u001b[34m\u001b[1moptimizer:\u001b[0m AdamW(lr=4.576383219412801e-05, momentum=0.8530176417166953) with parameter groups 205 weight(decay=0.0), 214 weight(decay=0.0003002980585800919), 211 bias(decay=0.0)\n",
      "Image sizes 416 train, 416 val\n",
      "Using 1 dataloader workers\n",
      "Logging results to \u001b[1mruns\\detect\\train54\u001b[0m\n",
      "Starting training for 1 epochs...\n",
      "\n",
      "      Epoch    GPU_mem   box_loss   cls_loss   dfl_loss  Instances       Size\n"
     ]
    },
    {
     "name": "stderr",
     "output_type": "stream",
     "text": [
      "        1/1      5.98G    0.01625      6.425      1.781         11        416: 100%|██████████| 92/92 [00:33<00:00,  2.71it/s]\n",
      "                 Class     Images  Instances      Box(P          R      mAP50  mAP50-95): 100%|██████████| 123/123 [00:33<00:00,  3.63it/s]"
     ]
    },
    {
     "name": "stdout",
     "output_type": "stream",
     "text": [
      "                   all       3679       3679      0.441      0.478      0.254      0.083\n"
     ]
    },
    {
     "name": "stderr",
     "output_type": "stream",
     "text": [
      "\n"
     ]
    },
    {
     "name": "stdout",
     "output_type": "stream",
     "text": [
      "\n",
      "1 epochs completed in 0.020 hours.\n",
      "Optimizer stripped from runs\\detect\\train54\\weights\\last.pt, 53.5MB\n",
      "Optimizer stripped from runs\\detect\\train54\\weights\\best.pt, 53.5MB\n",
      "\n",
      "Validating runs\\detect\\train54\\weights\\best.pt...\n",
      "Ultralytics 8.3.119  Python-3.10.17 torch-2.2.2+cu118 CUDA:0 (NVIDIA GeForce RTX 3080, 10240MiB)\n",
      "YOLOv12l summary (fused): 283 layers, 26,345,240 parameters, 0 gradients, 88.6 GFLOPs\n"
     ]
    },
    {
     "name": "stderr",
     "output_type": "stream",
     "text": [
      "                 Class     Images  Instances      Box(P          R      mAP50  mAP50-95): 100%|██████████| 123/123 [00:27<00:00,  4.40it/s]\n"
     ]
    },
    {
     "name": "stdout",
     "output_type": "stream",
     "text": [
      "                   all       3679       3679       0.44       0.48      0.254     0.0833\n",
      "Speed: 0.2ms preprocess, 3.0ms inference, 0.0ms loss, 1.6ms postprocess per image\n"
     ]
    },
    {
     "name": "stderr",
     "output_type": "stream",
     "text": [
      "[I 2025-04-30 23:18:24,470] Trial 0 finished with value: 0.10036229190200036 and parameters: {'lr0': 4.576383219412801e-05, 'lrf': 0.6052257575240506, 'momentum': 0.8530176417166953, 'weight_decay': 0.000320317929152098, 'warmup_epochs': 2, 'warmup_momentum': 0.5762698535893062, 'box': 0.08536027793390921, 'cls': 1.4888115671019182, 'hsv_h': 0.05346261539063373, 'hsv_s': 0.8079242964840485, 'hsv_v': 0.7050567897022606, 'degrees': 27.487529501908263, 'translate': 0.2485114737198189, 'scale': 0.34016621039715056, 'fliplr': 0.024044212204149595, 'mosaic': 0.25324218735550685, 'imgsz': 416}. Best is trial 0 with value: 0.10036229190200036.\n"
     ]
    },
    {
     "name": "stdout",
     "output_type": "stream",
     "text": [
      "\n",
      "✅ Best result for YOLOv12-l: 0.1004\n",
      "\n",
      "====================================================================================================\n",
      "🧪 Tuning: YOLOv12-x on dataset age_dataset_tune\n",
      "====================================================================================================\n"
     ]
    },
    {
     "name": "stderr",
     "output_type": "stream",
     "text": [
      "[I 2025-04-30 23:18:25,237] A new study created in RDB with name: yolo_v12x\n"
     ]
    },
    {
     "name": "stdout",
     "output_type": "stream",
     "text": [
      "🔄 Starting/resuming tuning: 1 trials needed.\n",
      "Downloading https://github.com/ultralytics/assets/releases/download/v8.3.0/yolo12x.pt to 'yolo12x.pt'...\n"
     ]
    },
    {
     "name": "stderr",
     "output_type": "stream",
     "text": [
      "100%|██████████| 114M/114M [00:03<00:00, 39.5MB/s] \n"
     ]
    },
    {
     "name": "stdout",
     "output_type": "stream",
     "text": [
      "New https://pypi.org/project/ultralytics/8.3.121 available  Update with 'pip install -U ultralytics'\n",
      "Ultralytics 8.3.119  Python-3.10.17 torch-2.2.2+cu118 CUDA:0 (NVIDIA GeForce RTX 3080, 10240MiB)\n",
      "\u001b[34m\u001b[1mengine\\trainer: \u001b[0mtask=detect, mode=train, model=yolo12x.pt, data=data/age_dataset_tune\\data.yaml, epochs=1, time=None, patience=100, batch=0.9, imgsz=416, save=True, save_period=-1, cache=disk, device=0, workers=1, project=None, name=train55, exist_ok=False, pretrained=True, optimizer=AdamW, verbose=False, seed=0, deterministic=True, single_cls=False, rect=False, cos_lr=False, close_mosaic=10, resume=False, amp=True, fraction=0.1, profile=False, freeze=None, multi_scale=False, overlap_mask=True, mask_ratio=4, dropout=0.0, val=True, split=val, save_json=False, conf=None, iou=0.7, max_det=300, half=False, dnn=False, plots=False, source=None, vid_stride=1, stream_buffer=False, visualize=False, augment=False, agnostic_nms=False, classes=None, retina_masks=False, embed=None, show=False, save_frames=False, save_txt=False, save_conf=False, save_crop=False, show_labels=True, show_conf=True, show_boxes=True, line_width=None, format=torchscript, keras=False, optimize=False, int8=False, dynamic=False, simplify=True, opset=None, workspace=None, nms=False, lr0=1.8205255169970195e-05, lrf=0.34464195450803464, momentum=0.6255062337321577, weight_decay=0.00022156986528368383, warmup_epochs=2, warmup_momentum=0.6557582031493483, warmup_bias_lr=0.1, box=0.18704798589376384, cls=2.0135009522378478, dfl=1.5, pose=12.0, kobj=1.0, nbs=64, hsv_h=0.060373793195696634, hsv_s=0.8163611931680779, hsv_v=0.5490418695853525, degrees=16.299233079474924, translate=0.47327822524838203, scale=0.47007803030062123, shear=0.0, perspective=0.0, flipud=0.0, fliplr=0.03873277438837003, bgr=0.0, mosaic=0.6399120721477776, mixup=0.0, cutmix=0.0, copy_paste=0.0, copy_paste_mode=flip, auto_augment=randaugment, erasing=0.4, cfg=None, tracker=botsort.yaml, save_dir=runs\\detect\\train55\n",
      "Overriding model.yaml nc=80 with nc=8\n",
      "\n",
      "                   from  n    params  module                                       arguments                     \n",
      "  0                  -1  1      2784  ultralytics.nn.modules.conv.Conv             [3, 96, 3, 2]                 \n",
      "  1                  -1  1    166272  ultralytics.nn.modules.conv.Conv             [96, 192, 3, 2]               \n",
      "  2                  -1  2    389760  ultralytics.nn.modules.block.C3k2            [192, 384, 2, True, 0.25]     \n",
      "  3                  -1  1   1327872  ultralytics.nn.modules.conv.Conv             [384, 384, 3, 2]              \n",
      "  4                  -1  2   1553664  ultralytics.nn.modules.block.C3k2            [384, 768, 2, True, 0.25]     \n",
      "  5                  -1  1   5309952  ultralytics.nn.modules.conv.Conv             [768, 768, 3, 2]              \n",
      "  6                  -1  4   9512128  ultralytics.nn.modules.block.A2C2f           [768, 768, 4, True, 4, True, 1.2]\n",
      "  7                  -1  1   5309952  ultralytics.nn.modules.conv.Conv             [768, 768, 3, 2]              \n",
      "  8                  -1  4   9512128  ultralytics.nn.modules.block.A2C2f           [768, 768, 4, True, 1, True, 1.2]\n",
      "  9                  -1  1         0  torch.nn.modules.upsampling.Upsample         [None, 2, 'nearest']          \n",
      " 10             [-1, 6]  1         0  ultralytics.nn.modules.conv.Concat           [1]                           \n",
      " 11                  -1  2   4727040  ultralytics.nn.modules.block.A2C2f           [1536, 768, 2, False, -1, True, 1.2]\n",
      " 12                  -1  1         0  torch.nn.modules.upsampling.Upsample         [None, 2, 'nearest']          \n",
      " 13             [-1, 4]  1         0  ultralytics.nn.modules.conv.Concat           [1]                           \n",
      " 14                  -1  2   1331328  ultralytics.nn.modules.block.A2C2f           [1536, 384, 2, False, -1, True, 1.2]\n",
      " 15                  -1  1   1327872  ultralytics.nn.modules.conv.Conv             [384, 384, 3, 2]              \n",
      " 16            [-1, 11]  1         0  ultralytics.nn.modules.conv.Concat           [1]                           \n",
      " 17                  -1  2   4579584  ultralytics.nn.modules.block.A2C2f           [1152, 768, 2, False, -1, True, 1.2]\n",
      " 18                  -1  1   5309952  ultralytics.nn.modules.conv.Conv             [768, 768, 3, 2]              \n",
      " 19             [-1, 8]  1         0  ultralytics.nn.modules.conv.Concat           [1]                           \n",
      " 20                  -1  2   5612544  ultralytics.nn.modules.block.C3k2            [1536, 768, 2, True]          \n",
      " 21        [14, 17, 20]  1   3154792  ultralytics.nn.modules.head.Detect           [8, [384, 768, 768]]          \n",
      "YOLOv12x summary: 488 layers, 59,127,624 parameters, 59,127,608 gradients, 199.9 GFLOPs\n",
      "\n",
      "Transferred 1239/1245 items from pretrained weights\n",
      "Freezing layer 'model.21.dfl.conv.weight'\n",
      "\u001b[34m\u001b[1mAMP: \u001b[0mrunning Automatic Mixed Precision (AMP) checks...\n",
      "\u001b[34m\u001b[1mAMP: \u001b[0mchecks passed \n",
      "\u001b[34m\u001b[1mtrain: \u001b[0mFast image access  (ping: 0.10.1 ms, read: 106.235.6 MB/s, size: 19.8 KB)\n"
     ]
    },
    {
     "name": "stderr",
     "output_type": "stream",
     "text": [
      "\u001b[34m\u001b[1mtrain: \u001b[0mScanning B:\\OneDrive\\Skole\\Studier_UiA\\8_sem_V25\\ikt452_computer_vision\\Yolo-Age-estimation\\data\\age_dataset_tune\\labels\\train.cache... 1373 images, 0 backgrounds, 0 corrupt: 100%|██████████| 1373/1373 [00:00<?, ?it/s]\n",
      "\u001b[34m\u001b[1mtrain: \u001b[0mCaching images (0.7GB Disk): 100%|██████████| 1373/1373 [00:00<00:00, 7489.85it/s]\n"
     ]
    },
    {
     "name": "stdout",
     "output_type": "stream",
     "text": [
      "\u001b[34m\u001b[1mAutoBatch: \u001b[0mComputing optimal batch size for imgsz=416 at 90.0% CUDA memory utilization.\n",
      "\u001b[34m\u001b[1mAutoBatch: \u001b[0mCUDA:0 (NVIDIA GeForce RTX 3080) 10.00G total, 1.23G reserved, 0.52G allocated, 8.25G free\n",
      "      Params      GFLOPs  GPU_mem (GB)  forward (ms) backward (ms)                   input                  output\n",
      "    59127624       84.44         3.674         150.8         166.8        (1, 3, 416, 416)                    list\n",
      "    59127624       168.9         4.547         149.9           250        (2, 3, 416, 416)                    list\n",
      "    59127624       337.8         6.094         150.3         200.9        (4, 3, 416, 416)                    list\n",
      "    59127624       675.5         8.233         145.4         203.1        (8, 3, 416, 416)                    list\n",
      "    59127624        1351        12.067         299.6         571.8       (16, 3, 416, 416)                    list\n",
      "\u001b[34m\u001b[1mAutoBatch: \u001b[0mUsing batch-size 5 for CUDA:0 8.19G/10.00G (82%) \n",
      "\u001b[34m\u001b[1mtrain: \u001b[0mFast image access  (ping: 0.10.0 ms, read: 110.49.1 MB/s, size: 20.3 KB)\n"
     ]
    },
    {
     "name": "stderr",
     "output_type": "stream",
     "text": [
      "\u001b[34m\u001b[1mtrain: \u001b[0mScanning B:\\OneDrive\\Skole\\Studier_UiA\\8_sem_V25\\ikt452_computer_vision\\Yolo-Age-estimation\\data\\age_dataset_tune\\labels\\train.cache... 1373 images, 0 backgrounds, 0 corrupt: 100%|██████████| 1373/1373 [00:00<?, ?it/s]\n",
      "\u001b[34m\u001b[1mtrain: \u001b[0mCaching images (0.7GB Disk): 100%|██████████| 1373/1373 [00:00<00:00, 7443.40it/s]\n"
     ]
    },
    {
     "name": "stdout",
     "output_type": "stream",
     "text": [
      "\u001b[34m\u001b[1mval: \u001b[0mFast image access  (ping: 0.10.1 ms, read: 116.626.8 MB/s, size: 23.3 KB)\n"
     ]
    },
    {
     "name": "stderr",
     "output_type": "stream",
     "text": [
      "\u001b[34m\u001b[1mval: \u001b[0mScanning B:\\OneDrive\\Skole\\Studier_UiA\\8_sem_V25\\ikt452_computer_vision\\Yolo-Age-estimation\\data\\age_dataset_tune\\labels\\val.cache... 3679 images, 0 backgrounds, 0 corrupt: 100%|██████████| 3679/3679 [00:00<?, ?it/s]\n",
      "\u001b[34m\u001b[1mval: \u001b[0mCaching images (1.8GB Disk): 100%|██████████| 3679/3679 [00:00<00:00, 7203.54it/s]\n"
     ]
    },
    {
     "name": "stdout",
     "output_type": "stream",
     "text": [
      "\u001b[34m\u001b[1moptimizer:\u001b[0m AdamW(lr=1.8205255169970195e-05, momentum=0.6255062337321577) with parameter groups 205 weight(decay=0.0), 214 weight(decay=0.00022503189442874138), 211 bias(decay=0.0)\n",
      "Image sizes 416 train, 416 val\n",
      "Using 1 dataloader workers\n",
      "Logging results to \u001b[1mruns\\detect\\train55\u001b[0m\n",
      "Starting training for 1 epochs...\n",
      "\n",
      "      Epoch    GPU_mem   box_loss   cls_loss   dfl_loss  Instances       Size\n"
     ]
    },
    {
     "name": "stderr",
     "output_type": "stream",
     "text": [
      "        1/1      4.19G    0.03506      8.672       1.67          7        416:  58%|█████▊    | 159/275 [00:50<00:35,  3.26it/s]"
     ]
    }
   ],
   "source": [
    "if RUN_OPTUNA:\n",
    "    run_optuna_tuning_multi(\n",
    "        base_dataset_dir='data/age_dataset_tune',\n",
    "        model_sizes=MODEL_SIZES,\n",
    "        model_versions=MODEL_VERSIONS, \n",
    "        imgsz=IMAGE_SIZE,\n",
    "        n_trials=10 if not SPEEDRUN else 1, # TEMPDEV\n",
    "        epochs_per_trial=30 if not SPEEDRUN else 1, # TEMPDEV\n",
    "        device='0',\n",
    "        output_base='runs/age_exp'\n",
    "    )\n",
    "else:\n",
    "    print(\"Config RUN_OPTUNA is False\")"
   ]
  },
  {
   "cell_type": "markdown",
   "id": "63128d50",
   "metadata": {},
   "source": [
    "### Merge Optuna databases"
   ]
  },
  {
   "cell_type": "code",
   "execution_count": null,
   "id": "7ca77d1d",
   "metadata": {},
   "outputs": [],
   "source": [
    "source_databases = [\n",
    "    \"sqlite:///YOLO_NB_LOCAL_1.db\",\n",
    "    \"sqlite:///YOLO_NB_SERVER.db\",\n",
    "    \"sqlite:///YOLO_NB_SERVER_1.db\",\n",
    "    \"sqlite:///YOLO.db\"\n",
    "]\n",
    "target_database = \"sqlite:///merged.db\"\n",
    "\n",
    "if MERGE_DB:\n",
    "    merge_optuna_databases(source_databases, target_database)\n",
    "    merged_db_paths = [\"sqlite:///merged.db\"]\n",
    "\n",
    "    df = extract_study_trials_to_dataframe(merged_db_paths)\n",
    "    display(df)\n",
    "else:\n",
    "    print(\"Config MERGE_DB is False\")\n"
   ]
  },
  {
   "cell_type": "markdown",
   "id": "9c6af829",
   "metadata": {},
   "source": [
    "Manual task: Discuss params and set in file"
   ]
  },
  {
   "cell_type": "markdown",
   "id": "49e42b98",
   "metadata": {},
   "source": [
    "## Train"
   ]
  },
  {
   "cell_type": "markdown",
   "id": "8d953c3d",
   "metadata": {},
   "source": [
    "### Generate training dataset \n",
    "\n",
    "With different foldsplit than used in tuning"
   ]
  },
  {
   "cell_type": "code",
   "execution_count": null,
   "id": "bf8774f2",
   "metadata": {},
   "outputs": [],
   "source": [
    "creator.create_yolo_dataset(train_folds=[0, 1, 2, 4], val_fold=3, output_dir=\"data/age_dataset_test\")"
   ]
  },
  {
   "cell_type": "code",
   "execution_count": null,
   "id": "53e741f0",
   "metadata": {},
   "outputs": [],
   "source": [
    "default_train_params = {\n",
    "    'imgsz': 416,\n",
    "    'optimizer': 'AdamW',\n",
    "    'val': False,\n",
    "    'deterministic': False,\n",
    "    'batch': 32 if not SPEEDRUN or not USE_MAX_BATCH else 0.9, # TEMPDEV\n",
    "    'workers': 3, # TODO: TEMPDEV\n",
    "    'fraction': 1.0 if not SPEEDRUN else 0.1 # TEMPDEV\n",
    "}"
   ]
  },
  {
   "cell_type": "markdown",
   "id": "0f3b23d6",
   "metadata": {},
   "source": [
    "### Model Sizes"
   ]
  },
  {
   "cell_type": "code",
   "execution_count": null,
   "id": "acba721a",
   "metadata": {},
   "outputs": [],
   "source": [
    "if RUN_EXP_MODEL_SIZES:\n",
    "    for size in MODEL_SIZES:\n",
    "        run_multiple_trainings(\n",
    "            data_yaml='data/age_dataset_test/data.yaml',\n",
    "            extra_train_params=default_train_params,\n",
    "            model_v='8',\n",
    "            model_size=size,\n",
    "            db_path='sqlite:///merged.db',\n",
    "            study_name='3 model size n', # For best params\n",
    "            num_runs=5 if not SPEEDRUN else 1, # TEMPDEV\n",
    "            epochs=30 if not SPEEDRUN else 1, # TEMPDEV\n",
    "            device='0',\n",
    "            project='runs/multi_runs',\n",
    "            conf_threshold=0.25\n",
    "        )\n",
    "else:\n",
    "    print(\"Config RUN_EXP_MODEL_SIZES is False\")"
   ]
  },
  {
   "cell_type": "markdown",
   "id": "0bbc0f4b",
   "metadata": {},
   "source": [
    "### Data Augmentation"
   ]
  },
  {
   "cell_type": "code",
   "execution_count": null,
   "id": "7c3ebaed",
   "metadata": {},
   "outputs": [],
   "source": [
    "if RUN_EXP_DATA_AUGMENTATION:\n",
    "    augmentation_combinations = [\n",
    "        {\n",
    "            'hsv_h': 0.015,\n",
    "            'hsv_s': 0.2,\n",
    "            'hsv_v': 0.2, \n",
    "            'degrees': 20.0,\n",
    "            'translate': 0.01,\n",
    "            'scale': 0.2,\n",
    "            'fliplr': 0.2,\n",
    "            'mosaic': 0.2\n",
    "        },\n",
    "        {\n",
    "            'hsv_h': 0.02,\n",
    "            'hsv_s': 0.7,\n",
    "            'hsv_v': 0.5, \n",
    "            'degrees': 35.0,\n",
    "            'translate': 0.08,\n",
    "            'scale': 0.4,\n",
    "            'fliplr': 0.5,\n",
    "            'mosaic': 0.4\n",
    "        },\n",
    "        {\n",
    "            'hsv_h': 0.03,\n",
    "            'hsv_s': 0.9,\n",
    "            'hsv_v': 0.7, \n",
    "            'degrees': 50.0,\n",
    "            'translate': 0.15,\n",
    "            'scale': 0.6,\n",
    "            'fliplr': 0.5,\n",
    "            'mosaic': 0.6\n",
    "        }\n",
    "    ]\n",
    "\n",
    "    for i, combo in enumerate(augmentation_combinations, start=1):\n",
    "        for close_mosaic_val in [10, 30]:\n",
    "            experiment_params = {\n",
    "                **default_train_params,\n",
    "                **combo,\n",
    "                'close_mosaic': close_mosaic_val\n",
    "            }\n",
    "\n",
    "            print(f\"\\n=== Running augmentation combo {i} with close_mosaic={close_mosaic_val} ===\")\n",
    "\n",
    "            run_multiple_trainings(\n",
    "                data_yaml='data/age_dataset_test/data.yaml',\n",
    "                extra_train_params=experiment_params,\n",
    "                model_v='8',\n",
    "                model_size='s',\n",
    "                db_path='sqlite:///merged.db',\n",
    "                study_name='3 model size n', # For best params\n",
    "                num_runs=5 if not SPEEDRUN else 1, # TEMPDEV\n",
    "                epochs=30 if not SPEEDRUN else 1, # TEMPDEV\n",
    "                device='0',\n",
    "                project='runs/multi_runs',\n",
    "                conf_threshold=0.25\n",
    "            )\n",
    "else:\n",
    "    print(\"Config RUN_EXP_DATA_AUGMENTATION is False\")"
   ]
  },
  {
   "cell_type": "markdown",
   "id": "77edb4ae",
   "metadata": {},
   "source": [
    "### Model Versions"
   ]
  },
  {
   "cell_type": "code",
   "execution_count": null,
   "id": "b24e0b0e",
   "metadata": {},
   "outputs": [],
   "source": [
    "if RUN_EXP_MODEL_VERSIONS:\n",
    "    for version in MODEL_VERSIONS:\n",
    "        run_multiple_trainings(\n",
    "            data_yaml='data/age_dataset_test/data.yaml',\n",
    "            extra_train_params=default_train_params,\n",
    "            model_v=version,\n",
    "            model_size='s',\n",
    "            db_path='sqlite:///merged.db',\n",
    "            study_name='3 model size n', # For best params\n",
    "            num_runs=5 if not SPEEDRUN else 1, # TEMPDEV\n",
    "            epochs=30 if not SPEEDRUN else 1, # TEMPDEV\n",
    "            device='0',\n",
    "            project='runs/multi_runs',\n",
    "            conf_threshold=0.25\n",
    "        )\n",
    "else:\n",
    "    print(\"Config RUN_EXP_MODEL_VERSIONS is False\")"
   ]
  }
 ],
 "metadata": {
  "kernelspec": {
   "display_name": "yoloenv",
   "language": "python",
   "name": "python3"
  },
  "language_info": {
   "codemirror_mode": {
    "name": "ipython",
    "version": 3
   },
   "file_extension": ".py",
   "mimetype": "text/x-python",
   "name": "python",
   "nbconvert_exporter": "python",
   "pygments_lexer": "ipython3",
   "version": "3.10.17"
  },
  "widgets": {
   "application/vnd.jupyter.widget-state+json": {
    "state": {},
    "version_major": 2,
    "version_minor": 0
   }
  }
 },
 "nbformat": 4,
 "nbformat_minor": 5
}
