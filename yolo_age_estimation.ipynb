{
 "cells": [
  {
   "cell_type": "markdown",
   "id": "1f7c8228",
   "metadata": {},
   "source": [
    "# Age Estimation using the YOLO algorithm"
   ]
  },
  {
   "cell_type": "markdown",
   "id": "933d7482",
   "metadata": {},
   "source": [
    "Authors: Isak Killingrød, Jon A B Larssen, Jon I J Skånøy"
   ]
  },
  {
   "cell_type": "markdown",
   "id": "a5ca1066",
   "metadata": {},
   "source": [
    "About"
   ]
  },
  {
   "cell_type": "markdown",
   "id": "422be640",
   "metadata": {},
   "source": [
    "## Setup"
   ]
  },
  {
   "cell_type": "markdown",
   "id": "826f23cd",
   "metadata": {},
   "source": [
    "### Installation"
   ]
  },
  {
   "cell_type": "code",
   "execution_count": 1,
   "id": "1450af2d",
   "metadata": {},
   "outputs": [],
   "source": [
    "# Run installation\n",
    "\n",
    "\n",
    "# Server\n",
    "#!python -m pip install --upgrade pip \n",
    "#!python -m pip install requests tqdm torch torchvision pandas matplotlib pillow numpy opencv-python ipywidgets"
   ]
  },
  {
   "cell_type": "code",
   "execution_count": 2,
   "id": "9ef86e36-d6f5-45ca-b0a4-a5512e97d52a",
   "metadata": {},
   "outputs": [],
   "source": [
    "%matplotlib inline\n",
    "from tqdm.notebook import tqdm"
   ]
  },
  {
   "cell_type": "markdown",
   "id": "eb181961",
   "metadata": {},
   "source": [
    "### Global variables"
   ]
  },
  {
   "cell_type": "code",
   "execution_count": 3,
   "id": "601ed689",
   "metadata": {},
   "outputs": [],
   "source": [
    "USERNAME = 'adiencedb'\n",
    "PASSWORD = 'adience'"
   ]
  },
  {
   "cell_type": "code",
   "execution_count": 4,
   "id": "cb79e874",
   "metadata": {},
   "outputs": [],
   "source": [
    "DATA_DIR = 'data'"
   ]
  },
  {
   "cell_type": "code",
   "execution_count": 5,
   "id": "58d9c4fb",
   "metadata": {},
   "outputs": [],
   "source": [
    "BASE_URL = 'http://www.cslab.openu.ac.il/download/adiencedb/AdienceBenchmarkOfUnfilteredFacesForGenderAndAgeClassification/'\n",
    "\n",
    "ARCHIVE_URL = BASE_URL + \"faces.tar.gz\"\n",
    "\n",
    "CASCADE_FILENAME = \"haarcascade_frontalface_default.xml\"\n",
    "CASCADE_URL = 'https://raw.githubusercontent.com/opencv/opencv/master/data/haarcascades/haarcascade_frontalface_default.xml'"
   ]
  },
  {
   "cell_type": "code",
   "execution_count": 6,
   "id": "4d0dcd8f",
   "metadata": {},
   "outputs": [],
   "source": [
    "AGE_CATEGORIES = [\n",
    "    (0, 2), (4, 6), (8, 12), (15, 20), (25, 32), \n",
    "    (38, 43), \n",
    "    (48, 53), (60, 100)\n",
    "]"
   ]
  },
  {
   "cell_type": "markdown",
   "id": "3fc03f11",
   "metadata": {},
   "source": [
    "### Imports"
   ]
  },
  {
   "cell_type": "code",
   "execution_count": 7,
   "id": "ca2c9072",
   "metadata": {},
   "outputs": [],
   "source": [
    "import os\n",
    "import shutil\n",
    "import requests\n",
    "import tarfile\n",
    "from tqdm.notebook import tqdm\n",
    "from requests.auth import HTTPBasicAuth\n",
    "import torch\n",
    "import torchvision.transforms as transforms\n",
    "import pandas as pd\n",
    "import matplotlib.pyplot as plt\n",
    "from PIL import Image\n",
    "import numpy as np\n",
    "import re\n",
    "import cv2\n",
    "from concurrent.futures import ThreadPoolExecutor\n",
    "from glob import glob\n",
    "from pathlib import Path\n",
    "import yaml\n",
    "import json\n",
    "from datetime import datetime\n",
    "import optuna\n",
    "from optuna.trial import TrialState\n",
    "from ultralytics import YOLO\n",
    "import platform"
   ]
  },
  {
   "cell_type": "markdown",
   "id": "ad3ec8d7",
   "metadata": {},
   "source": [
    "### Config"
   ]
  },
  {
   "cell_type": "code",
   "execution_count": 8,
   "id": "0c8c5d0e",
   "metadata": {},
   "outputs": [
    {
     "name": "stdout",
     "output_type": "stream",
     "text": [
      "Running on Linux\n"
     ]
    }
   ],
   "source": [
    "if platform.system() == \"Windows\":\n",
    "    print(\"Running on Windows\")\n",
    "    STORAGE = 'YOLO_NB_LOCAL'\n",
    "    MODEL_SIZES = ['n', 's', 'm', 'l','x']\n",
    "    MODEL_VERSIONS = [8,9,10,11,12]\n",
    "    IMAGE_SIZES = [320,416,640]\n",
    "elif platform.system() == \"Linux\":\n",
    "    print(\"Running on Linux\")\n",
    "    STORAGE = 'YOLO_NB_SERVER'\n",
    "    MODEL_SIZES = ['x', 'l', 'm', 's', 'n']\n",
    "    MODEL_VERSIONS = [12,11,10,9,8]\n",
    "    IMAGE_SIZES = [640,416,320]\n",
    "else:\n",
    "    print(f\"Running on {platform.system()}\")\n",
    "    STORAGE = 'YOLO_NB_UNKNOWN'"
   ]
  },
  {
   "cell_type": "code",
   "execution_count": 9,
   "id": "d5e96688",
   "metadata": {},
   "outputs": [],
   "source": [
    "# DO_TRAIN"
   ]
  },
  {
   "cell_type": "code",
   "execution_count": 10,
   "id": "261320da-0e61-4990-b4c4-69ad8a95a40f",
   "metadata": {},
   "outputs": [],
   "source": [
    "NUM_WORKERS = os.cpu_count() // 2 # For preprocessing, not tuning or training"
   ]
  },
  {
   "cell_type": "code",
   "execution_count": 11,
   "id": "8b493c9b",
   "metadata": {},
   "outputs": [],
   "source": [
    "ARCHIVE_PATH = os.path.join(DATA_DIR, \"faces.tar.gz\")"
   ]
  },
  {
   "cell_type": "code",
   "execution_count": 12,
   "id": "981eaa8b",
   "metadata": {},
   "outputs": [],
   "source": [
    "CASCADE_DIR = os.path.join(DATA_DIR, \"haarcascades\")\n",
    "os.makedirs(CASCADE_DIR, exist_ok=True)\n",
    "CASCADE_PATH = os.path.join(CASCADE_DIR, CASCADE_FILENAME)"
   ]
  },
  {
   "cell_type": "markdown",
   "id": "475c44df",
   "metadata": {
    "jp-MarkdownHeadingCollapsed": true
   },
   "source": [
    "### Functions"
   ]
  },
  {
   "cell_type": "code",
   "execution_count": 13,
   "id": "149892ee",
   "metadata": {},
   "outputs": [],
   "source": [
    "def show_sample_with_bbox(img_path, label_path):\n",
    "    \"\"\"Display an image with its bounding box\"\"\"\n",
    "    # Load image\n",
    "    img = Image.open(img_path)\n",
    "    img_w, img_h = img.size\n",
    "    \n",
    "    # Load label\n",
    "    with open(label_path, 'r') as f:\n",
    "        line = f.readline().strip().split()\n",
    "        class_id = int(line[0])\n",
    "        x_center, y_center, width, height = map(float, line[1:5])\n",
    "    \n",
    "    # Convert YOLO format to pixel coordinates\n",
    "    x1 = int((x_center - width/2) * img_w)\n",
    "    y1 = int((y_center - height/2) * img_h)\n",
    "    x2 = int((x_center + width/2) * img_w)\n",
    "    y2 = int((y_center + height/2) * img_h)\n",
    "    \n",
    "    # Plot\n",
    "    plt.figure(figsize=(8, 8))\n",
    "    plt.imshow(np.array(img))\n",
    "    plt.gca().add_patch(plt.Rectangle((x1, y1), x2-x1, y2-y1, fill=False, edgecolor='red', linewidth=2))\n",
    "    \n",
    "    # Label with age category\n",
    "    age_category = creator.age_categories[class_id]\n",
    "    plt.title(f\"Age Category: {age_category[0]}-{age_category[1]} years\")\n",
    "    plt.axis('off')\n",
    "    plt.show()"
   ]
  },
  {
   "cell_type": "code",
   "execution_count": 14,
   "id": "43bd1706-6a1f-46ae-a76d-253ef997ee13",
   "metadata": {},
   "outputs": [],
   "source": [
    "def get_model_filename(version, size):\n",
    "    \"\"\"\n",
    "    Returns the correct YOLO model filename based on version and size.\n",
    "    Only supports detection models.\n",
    "\n",
    "    Args:\n",
    "        version (int or str): YOLO version (8–12)\n",
    "        size (str): Model size, depends on version\n",
    "\n",
    "    Returns:\n",
    "        str: Filename of the model checkpoint, e.g. 'yolov9e.pt'\n",
    "\n",
    "    Raises:\n",
    "        ValueError: If version or size is unsupported\n",
    "    \"\"\"\n",
    "    version = str(version).lower()\n",
    "    size = size.lower()\n",
    "\n",
    "    if version == '9':\n",
    "        model_map = {\n",
    "            'n': 'yolov9t.pt',\n",
    "            's': 'yolov9s.pt',\n",
    "            'm': 'yolov9m.pt',\n",
    "            'l': 'yolov9c.pt',\n",
    "            'x': 'yolov9e.pt',\n",
    "        }\n",
    "        return model_map[size]\n",
    "\n",
    "    if version in ['8', '10']:\n",
    "        return f'yolov{version}{size}.pt'\n",
    "    elif version in ['11', '12']:\n",
    "        return f'yolo{version}{size}.pt'\n"
   ]
  },
  {
   "cell_type": "code",
   "execution_count": 15,
   "id": "1ad8f7f1-47d6-4bf2-b29c-f547ac0bd58e",
   "metadata": {},
   "outputs": [],
   "source": [
    "def get_all_data_yaml_paths(base_dir):\n",
    "    return sorted([\n",
    "        str(p) for p in Path(base_dir).rglob(\"data.yaml\")\n",
    "        if \"size_\" in str(p)\n",
    "    ])\n"
   ]
  },
  {
   "cell_type": "code",
   "execution_count": 16,
   "id": "6463c623-a0fc-4285-a041-2eafbc528d26",
   "metadata": {},
   "outputs": [],
   "source": [
    "def run_all_datasets_optuna_and_training(\n",
    "    base_dataset_dir='data/age_dataset',\n",
    "    model_sizes=['n', 's', 'm', 'l', 'x'],\n",
    "    model_versions=[8, 9, 10, 11, 12],\n",
    "    image_sizes=[320, 416, 640],\n",
    "    n_trials=10,\n",
    "    epochs_per_trial=40,\n",
    "    final_epochs=100,\n",
    "    device='0',\n",
    "    output_base='runs/age_exp'\n",
    "):\n",
    "    \"\"\"\n",
    "    Grid search over datasets, model versions, and model sizes with Optuna tuning.\n",
    "\n",
    "    Args:\n",
    "        base_dataset_dir: Root dir with YOLO-style datasets (per image size)\n",
    "        model_sizes: List of model sizes per version (e.g., ['n', 's', ...])\n",
    "        model_versions: List of YOLO model versions (e.g., [8, 9, 10, ...])\n",
    "        image_sizes: List of dataset image sizes to include (e.g., [320, 416, 640])\n",
    "        n_trials: Optuna trials per combination\n",
    "        epochs_per_trial: Epochs during Optuna tuning\n",
    "        final_epochs: Final training epochs\n",
    "        device: Device to use (e.g., '0', 'cpu')\n",
    "        output_base: Output directory base\n",
    "        run_final_training: If True, run final training after tuning\n",
    "    \"\"\"\n",
    "\n",
    "    for imgsz in image_sizes:\n",
    "        data_yaml = os.path.join(base_dataset_dir, f\"size_{imgsz}\", \"data.yaml\")\n",
    "\n",
    "        if not os.path.exists(data_yaml):\n",
    "            print(f\"⚠️  Skipping missing dataset: {data_yaml}\")\n",
    "            continue\n",
    "\n",
    "        print(f\"\\n📂 Evaluating dataset: {data_yaml}\")\n",
    "\n",
    "        for version in model_versions:\n",
    "            for size in model_sizes:\n",
    "                try:\n",
    "                    model_filename = get_model_filename(version, size)\n",
    "                except ValueError as e:\n",
    "                    print(f\"⏭️ Skipping unsupported model: YOLOv{version}-{size} ({e})\")\n",
    "                    continue\n",
    "\n",
    "                dataset_name = Path(data_yaml).parent.name\n",
    "                run_name = f\"v{version}_{size}_{imgsz}\"\n",
    "                output_dir = os.path.join(output_base, run_name)\n",
    "\n",
    "                print(f\"\\n{'='*100}\")\n",
    "                print(f\"🧪 Tuning: YOLOv{version}-{size} on dataset {dataset_name} ({imgsz}px)\")\n",
    "                print(f\"{'='*100}\")\n",
    "\n",
    "                best_params, best_value = run_optuna_tuning(\n",
    "                    data_yaml=data_yaml,\n",
    "                    model_size=size,\n",
    "                    model_version=version,\n",
    "                    output_dir=output_dir,\n",
    "                    n_trials=n_trials,\n",
    "                    epochs_per_trial=epochs_per_trial,\n",
    "                    device=device\n",
    "                )\n"
   ]
  },
  {
   "cell_type": "code",
   "execution_count": 17,
   "id": "8c49e27f",
   "metadata": {},
   "outputs": [],
   "source": [
    "def make_objective(model_path, data_yaml, imgsz, device, epochs_per_trial):\n",
    "    def objective(trial):\n",
    "        params = {\n",
    "            'lr0': trial.suggest_float('lr0', 1e-5, 1e-2, log=True),\n",
    "            'lrf': trial.suggest_float('lrf', 0.01, 0.2),\n",
    "            'momentum': trial.suggest_float('momentum', 0.8, 0.95),\n",
    "            'weight_decay': trial.suggest_float('weight_decay', 1e-4, 1e-3, log=True),\n",
    "            'warmup_epochs': trial.suggest_int('warmup_epochs', 1, 5),\n",
    "            'warmup_momentum': trial.suggest_float('warmup_momentum', 0.5, 0.95),\n",
    "            'box': trial.suggest_float('box', 0.0, 8.0),\n",
    "            'cls': trial.suggest_float('cls', 0.0, 1.0),\n",
    "            'hsv_h': trial.suggest_float('hsv_h', 0.0, 1.0),\n",
    "            'hsv_s': trial.suggest_float('hsv_s', 0.0, 1.0),\n",
    "            'hsv_v': trial.suggest_float('hsv_v', 0.0, 1.0),\n",
    "            'degrees': trial.suggest_float('degrees', 0.0, 180.0),\n",
    "            'translate': trial.suggest_float('translate', 0.0, 1.0),\n",
    "            'scale': trial.suggest_float('scale', 0.0, 1.0),\n",
    "            'flipud': trial.suggest_float('flipud', 0.0, 1.0),\n",
    "            'fliplr': trial.suggest_float('fliplr', 0.0, 1.0),\n",
    "            'bgr': trial.suggest_float('bgr', 0.0, 1.0),\n",
    "            'mixup': trial.suggest_float('mixup', 0.0, 1.0),\n",
    "            'batch': trial.suggest_categorical('batch', [8, 16, 32]),\n",
    "            'imgsz': imgsz,\n",
    "            'optimizer': 'AdamW'\n",
    "        }\n",
    "\n",
    "        try:\n",
    "            model = YOLO(model_path)\n",
    "            results = model.train(\n",
    "                data=data_yaml,\n",
    "                cache='disk',\n",
    "                workers=1,\n",
    "                epochs=epochs_per_trial,\n",
    "                device=device,\n",
    "                verbose=False,\n",
    "                plots=True,\n",
    "                **params\n",
    "            )\n",
    "            return float(results.fitness) if hasattr(results, 'fitness') else 0.0\n",
    "        except Exception as e:\n",
    "            print(f\"❌ Trial failed with error: {e}\")\n",
    "            return 0.0\n",
    "    return objective\n"
   ]
  },
  {
   "cell_type": "code",
   "execution_count": 18,
   "id": "39170be0-3b95-43f0-9476-b3a3739bb481",
   "metadata": {},
   "outputs": [],
   "source": [
    "def run_optuna_tuning(\n",
    "    data_yaml,\n",
    "    model_size='n',\n",
    "    output_dir='runs/tune_optuna',\n",
    "    n_trials=40,\n",
    "    epochs_per_trial=50,\n",
    "    model_version=8,\n",
    "    device='0'\n",
    "):\n",
    "    import warnings\n",
    "    from optuna.trial import TrialState\n",
    "    warnings.filterwarnings(\"ignore\", category=UserWarning)\n",
    "\n",
    "    with open(data_yaml, 'r') as f:\n",
    "        data_config = yaml.safe_load(f)\n",
    "\n",
    "    dataset_dir = os.path.dirname(os.path.abspath(data_yaml))\n",
    "    size_match = re.search(r\"size_(\\d+)\", dataset_dir)\n",
    "    imgsz = int(size_match.group(1)) if size_match else 416\n",
    "\n",
    "    timestamp = datetime.now().strftime('%Y%m%d_%H%M%S')\n",
    "    run_name = f\"optuna_v{model_version}_{model_size}_{imgsz}_{timestamp}\"\n",
    "    output_path = os.path.join(output_dir, run_name)\n",
    "    os.makedirs(output_path, exist_ok=True)\n",
    "\n",
    "    try:\n",
    "        model_path = get_model_filename(model_version, model_size)\n",
    "    except ValueError as e:\n",
    "        print(f\"❌ Invalid model request: {e}\")\n",
    "        return {}, 0.0\n",
    "\n",
    "    study_name = f\"yolo_v{model_version}{model_size}_img{imgsz}\"\n",
    "    study_storage = f\"sqlite:///{STORAGE}.db\"\n",
    "\n",
    "    # 📍 Query the database manually without creating a study\n",
    "    optuna_study_summaries = optuna.study.get_all_study_summaries(storage=study_storage)\n",
    "    existing_study = None\n",
    "    for s in optuna_study_summaries:\n",
    "        if s.study_name == study_name:\n",
    "            existing_study = s\n",
    "            break\n",
    "\n",
    "    if existing_study:\n",
    "        existing_trials = existing_study.n_trials\n",
    "    else:\n",
    "        existing_trials = 0\n",
    "\n",
    "\n",
    "    if existing_trials >= n_trials:\n",
    "        print(f\"⏩ Skipping tuning: {existing_trials} completed trials already (target was {n_trials}).\")\n",
    "        if existing_study:\n",
    "            study = optuna.load_study(study_name=study_name, storage=study_storage)\n",
    "            best_params = study.best_params\n",
    "            best_value = study.best_value\n",
    "        else:\n",
    "            best_params = {}\n",
    "            best_value = 0.0\n",
    "    else:\n",
    "        remaining_trials = n_trials - existing_trials\n",
    "        print(f\"🔄 Starting/resuming tuning: {remaining_trials} trials needed.\")\n",
    "        study = optuna.create_study(\n",
    "            direction='maximize',\n",
    "            study_name=study_name,\n",
    "            storage=study_storage,\n",
    "            load_if_exists=True\n",
    "        )\n",
    "\n",
    "        objective = make_objective(model_path, data_yaml, imgsz, device, epochs_per_trial)\n",
    "        study.optimize(objective, n_trials=remaining_trials)\n",
    "\n",
    "        best_params = study.best_params\n",
    "        best_value = study.best_value\n",
    "\n",
    "    with open(os.path.join(output_path, f'best_params_v{model_version}_{model_size}.json'), 'w') as f:\n",
    "        json.dump(best_params, f, indent=4)\n",
    "\n",
    "    print(f\"\\n✅ Best result for YOLOv{model_version}-{model_size} ({imgsz}px): {best_value:.4f}\")\n",
    "    return best_params, best_value\n"
   ]
  },
  {
   "cell_type": "code",
   "execution_count": 19,
   "id": "cfdd3ee8-fd09-4302-8fe4-e0f94197ed3e",
   "metadata": {},
   "outputs": [],
   "source": [
    "def find_max_batch_size(model_path, imgsz, device='cuda:0', min_batch=8, max_batch=512):\n",
    "    try:\n",
    "        model = YOLO(model_path)\n",
    "        model.model = model.model.to(device)\n",
    "    except Exception as e:\n",
    "        print(f\"❌ Could not load model {model_path}: {e}\")\n",
    "        return None\n",
    "\n",
    "    batch = max_batch\n",
    "    while batch >= min_batch:\n",
    "        try:\n",
    "            dummy = torch.zeros((batch, 3, imgsz, imgsz)).to(device)\n",
    "            with torch.no_grad():\n",
    "                _ = model.model(dummy)\n",
    "            return batch  \n",
    "        except RuntimeError as e:\n",
    "            if \"out of memory\" in str(e).lower():\n",
    "                torch.cuda.empty_cache()\n",
    "                batch //= 2\n",
    "            else:\n",
    "                print(f\"❌ Runtime error (non-OOM) for {model_path}: {e}\")\n",
    "                return None\n",
    "        except Exception as e:\n",
    "            print(f\"❌ Other error for {model_path}: {e}\")\n",
    "            return None\n",
    "    return None"
   ]
  },
  {
   "cell_type": "markdown",
   "id": "75d1340c",
   "metadata": {
    "jp-MarkdownHeadingCollapsed": true
   },
   "source": [
    "### Classes"
   ]
  },
  {
   "cell_type": "code",
   "execution_count": 20,
   "id": "af57eb98",
   "metadata": {
    "jupyter": {
     "source_hidden": true
    }
   },
   "outputs": [],
   "source": [
    "class FaceAgeDatasetCreator:\n",
    "    def __init__(\n",
    "        self,\n",
    "        base_dir=\"data\",\n",
    "        faces_archive=None,\n",
    "        faces_dir=None,\n",
    "        output_dir=None,\n",
    "        cascade_dir=None,\n",
    "        fold_files=None,\n",
    "        img_size=416,\n",
    "        max_workers=4\n",
    "    ):\n",
    "        self.base_dir = base_dir\n",
    "        os.makedirs(self.base_dir, exist_ok=True)\n",
    "        \n",
    "        self.faces_archive = faces_archive or os.path.join(base_dir, \"faces.tar.gz\")\n",
    "        self.faces_dir = faces_dir or os.path.join(base_dir, \"faces\")\n",
    "        self.output_dir = output_dir or os.path.join(base_dir, \"age_dataset\")\n",
    "        self.cascade_dir = cascade_dir or os.path.join(base_dir, \"haarcascades\")\n",
    "\n",
    "        os.makedirs(self.output_dir, exist_ok=True)\n",
    "        os.makedirs(self.cascade_dir, exist_ok=True)\n",
    "\n",
    "        if fold_files is None:\n",
    "            self.fold_files = [\n",
    "                os.path.join(base_dir, f\"fold_{i}_data.txt\") for i in range(5)\n",
    "            ]\n",
    "        else:\n",
    "            self.fold_files = fold_files\n",
    "\n",
    "        self.img_sizes = img_size if isinstance(img_size, list) else [img_size]\n",
    "        self.img_size = self.img_sizes[0]\n",
    "\n",
    "        self.age_categories = [\n",
    "            (0, 2), (4, 6), (8, 12), (15, 20), (25, 32),\n",
    "            (38, 43), (48, 53), (60, 100)\n",
    "        ]\n",
    "\n",
    "        self.max_workers = max_workers or (os.cpu_count() // 2)\n",
    "\n",
    "        try:\n",
    "            self.opencv_available = True\n",
    "            self.face_cascade = self.load_cascade()\n",
    "        except ImportError:\n",
    "            self.opencv_available = False\n",
    "            self.face_cascade = None\n",
    "            print(\"OpenCV not available. Face detection disabled.\")\n",
    "\n",
    "    def load_cascade(self):\n",
    "        paths = [\n",
    "            # cv2.data.haarcascades + 'haarcascade_frontalface_default.xml',\n",
    "            os.path.join(self.cascade_dir, 'haarcascade_frontalface_default.xml'),\n",
    "            'haarcascade_frontalface_default.xml'\n",
    "        ]\n",
    "        for path in paths:\n",
    "            if os.path.exists(path):\n",
    "                cascade = cv2.CascadeClassifier(path)\n",
    "                if cascade.empty():\n",
    "                    print(f\"Warning: Failed to load cascade from {path}\")\n",
    "                else:\n",
    "                    return cascade\n",
    "        print(\"Cascade not found or failed to load.\")\n",
    "        return None\n",
    "\n",
    "    def extract_faces_archive(self):\n",
    "        if not os.path.exists(self.faces_dir):\n",
    "            os.makedirs(self.faces_dir, exist_ok=True)\n",
    "            print(f\"Extracting {self.faces_archive} to {self.faces_dir}...\")\n",
    "            with tarfile.open(self.faces_archive, 'r:gz') as tar:\n",
    "                for member in tqdm(tar.getmembers(), desc=\"Extracting faces\"):\n",
    "                    if member.name.startswith(\"faces/\"):\n",
    "                        member.name = member.name[len(\"faces/\"):]\n",
    "                        if member.name:\n",
    "                            tar.extract(member, self.faces_dir, filter='data')\n",
    "            print(\"Extraction complete.\")\n",
    "        else:\n",
    "            print(f\"{self.faces_dir} already exists. Skipping extraction.\")\n",
    "\n",
    "    def get_age_class(self, age_info):\n",
    "        try:\n",
    "            if isinstance(age_info, str) and '(' in age_info:\n",
    "                match = re.findall(r'\\d+', age_info)\n",
    "                if len(match) >= 2:\n",
    "                    lower, upper = int(match[0]), int(match[1])\n",
    "                    for i, cat in enumerate(self.age_categories):\n",
    "                        if (lower, upper) == cat:\n",
    "                            return i\n",
    "            else:\n",
    "                age = int(age_info)\n",
    "                for i, (low, high) in enumerate(self.age_categories):\n",
    "                    if low <= age <= high:\n",
    "                        return i\n",
    "            return -1\n",
    "        except:\n",
    "            return -1\n",
    "\n",
    "    def load_fold_data(self, fold_files=None):\n",
    "        if fold_files is None:\n",
    "            fold_files = self.fold_files\n",
    "        all_data = []\n",
    "        column_names = [\n",
    "            'user_id', 'original_image', 'face_id', 'age', 'gender', \n",
    "            'x', 'y', 'dx', 'dy', 'tilt_ang', 'fiducial_yaw_angle', 'fiducial_score'\n",
    "        ]\n",
    "        for fold_file in fold_files:\n",
    "            try:\n",
    "                df = pd.read_csv(fold_file, sep='\\t', header=None, names=column_names)\n",
    "                df['age_class'] = df['age'].apply(self.get_age_class)\n",
    "                df = df[df['age_class'] != -1]\n",
    "                all_data.append(df)\n",
    "            except Exception as e:\n",
    "                print(f\"Error loading {fold_file}: {e}\")\n",
    "        return pd.concat(all_data, ignore_index=True) if all_data else pd.DataFrame(columns=column_names + ['age_class'])\n",
    "\n",
    "    def get_image_path(self, row):\n",
    "        filename = f\"coarse_tilt_aligned_face.{row['face_id']}.{row['original_image']}\"\n",
    "        return os.path.join(self.faces_dir, str(row['user_id']), filename)\n",
    "\n",
    "    def detect_face(self, image_np):\n",
    "        if not self.opencv_available:\n",
    "            return None\n",
    "    \n",
    "        try:\n",
    "            cascade = cv2.CascadeClassifier(cv2.data.haarcascades + 'haarcascade_frontalface_default.xml')\n",
    "            if cascade.empty():\n",
    "                print(\"Failed to load cascade.\")\n",
    "                return None\n",
    "            gray = cv2.cvtColor(image_np, cv2.COLOR_BGR2GRAY)\n",
    "            faces = cascade.detectMultiScale(gray, 1.1, 5, minSize=(30, 30))\n",
    "            return max(faces, key=lambda r: r[2] * r[3]) if len(faces) > 0 else None\n",
    "        except Exception as e:\n",
    "            print(f\"Face detection failed: {e}\")\n",
    "            return None\n",
    "\n",
    "    def is_dataset_complete(self, size_dir):\n",
    "        \"\"\"\n",
    "        Check if the dataset for a given image size is complete and ready.\n",
    "        \"\"\"\n",
    "        expected = [\n",
    "            os.path.join(size_dir, \"data.yaml\"),\n",
    "            os.path.join(size_dir, \"classes.txt\"),\n",
    "            os.path.join(size_dir, \"images/train\"),\n",
    "            os.path.join(size_dir, \"images/val\"),\n",
    "            os.path.join(size_dir, \"labels/train\"),\n",
    "            os.path.join(size_dir, \"labels/val\"),\n",
    "        ]\n",
    "        for path in expected:\n",
    "            if not os.path.exists(path):\n",
    "                return False\n",
    "        \n",
    "        val_imgs = list(Path(size_dir).joinpath(\"images/val\").glob(\"*.jpg\"))\n",
    "        val_lbls = list(Path(size_dir).joinpath(\"labels/val\").glob(\"*.txt\"))\n",
    "        \n",
    "        return len(val_imgs) > 0 and len(val_imgs) == len(val_lbls)\n",
    "\n",
    "    def process_dataset(self, data, img_dir, label_dir):\n",
    "        os.makedirs(img_dir, exist_ok=True)\n",
    "        os.makedirs(label_dir, exist_ok=True)\n",
    "\n",
    "        transform = transforms.Resize((self.img_size, self.img_size))\n",
    "\n",
    "        def process_row(idx_row):\n",
    "            idx, row = idx_row\n",
    "            try:\n",
    "                img_path = self.get_image_path(row)\n",
    "                if not os.path.exists(img_path):\n",
    "                    return\n",
    "        \n",
    "                with Image.open(img_path).convert('RGB') as img:\n",
    "                    orig_width, orig_height = img.size\n",
    "                    img_resized = transform(img)\n",
    "        \n",
    "                    img_np = np.array(img)\n",
    "                    img_cv = cv2.cvtColor(img_np, cv2.COLOR_RGB2BGR)\n",
    "                    face_coords = self.detect_face(img_cv)\n",
    "        \n",
    "                    filename = os.path.basename(img_path).replace('coarse_tilt_aligned_face.', '')\n",
    "                    base_filename = f\"{idx}_{filename.split('.')[0]}\"\n",
    "                    save_path = os.path.join(img_dir, f\"{base_filename}.jpg\")\n",
    "                    img_resized.save(save_path)\n",
    "        \n",
    "                    # Handle YOLO box\n",
    "                    if face_coords is not None and isinstance(face_coords, (tuple, list, np.ndarray)):\n",
    "                        x, y, w, h = face_coords\n",
    "                        x_center = (x + w / 2) / orig_width\n",
    "                        y_center = (y + h / 2) / orig_height\n",
    "                        width_norm = w / orig_width\n",
    "                        height_norm = h / orig_height\n",
    "                    else:\n",
    "                        x_center, y_center = 0.5, 0.5\n",
    "                        width_norm, height_norm = 0.8, 0.8\n",
    "        \n",
    "                    # Clamp\n",
    "                    x_center = max(0, min(1, x_center))\n",
    "                    y_center = max(0, min(1, y_center))\n",
    "                    width_norm = max(0.05, min(1, width_norm))\n",
    "                    height_norm = max(0.05, min(1, height_norm))\n",
    "        \n",
    "                    class_id = int(row['age_class'])\n",
    "                    if not (0 <= class_id < len(self.age_categories)):\n",
    "                        print(f\"Invalid age class at index {idx}: {class_id}\")\n",
    "                        return\n",
    "        \n",
    "                    label_path = os.path.join(label_dir, f\"{base_filename}.txt\")\n",
    "                    with open(label_path, 'w') as f:\n",
    "                        f.write(f\"{class_id} {x_center:.6f} {y_center:.6f} {width_norm:.6f} {height_norm:.6f}\\n\")\n",
    "        \n",
    "            except Exception as e:\n",
    "                print(f\"Error at index {idx}: {e}\")\n",
    "\n",
    "\n",
    "        with ThreadPoolExecutor(max_workers=self.max_workers) as executor:\n",
    "            list(tqdm(executor.map(process_row, data.iterrows()), total=len(data)))\n",
    "\n",
    "    def create_data_yaml_for_size(self, output_dir):\n",
    "        yaml_path = os.path.join(output_dir, 'data.yaml')\n",
    "        with open(yaml_path, 'w') as f:\n",
    "            train_dir = os.path.abspath(os.path.join(output_dir, \"images/train\"))\n",
    "            val_dir = os.path.abspath(os.path.join(output_dir, \"images/val\"))\n",
    "            f.write(f\"train: {train_dir}\\n\")\n",
    "            f.write(f\"val: {val_dir}\\n\")\n",
    "            f.write(f\"nc: {len(self.age_categories)}\\n\")\n",
    "            f.write(\"names:\\n\")\n",
    "            classes_path = os.path.join(output_dir, 'classes.txt')\n",
    "            with open(classes_path, 'r') as cf:\n",
    "                for i, line in enumerate(cf):\n",
    "                    f.write(f\"  {i}: '{line.strip()}'\\n\")\n",
    "\n",
    "    def create_yolo_dataset(self, train_folds=[0, 1, 2, 3], val_fold=4, specific_sizes=None):\n",
    "        sizes_to_process = specific_sizes if specific_sizes else self.img_sizes\n",
    "        for img_size in sizes_to_process:\n",
    "            size_dir = os.path.join(self.output_dir, f\"size_{img_size}\")\n",
    "    \n",
    "            if not self.is_dataset_complete(size_dir):\n",
    "                print(f\"\\n=== Processing for image size {img_size}x{img_size} ===\")\n",
    "                self.img_size = img_size\n",
    "                img_train, img_val = os.path.join(size_dir, 'images/train'), os.path.join(size_dir, 'images/val')\n",
    "                lbl_train, lbl_val = os.path.join(size_dir, 'labels/train'), os.path.join(size_dir, 'labels/val')\n",
    "                for d in [img_train, img_val, lbl_train, lbl_val]:\n",
    "                    os.makedirs(d, exist_ok=True)\n",
    "    \n",
    "                with open(os.path.join(size_dir, 'classes.txt'), 'w') as f:\n",
    "                    for (low, high) in self.age_categories:\n",
    "                        f.write(f\"age_{low}_{high}\\n\")\n",
    "    \n",
    "                train_data = self.load_fold_data([self.fold_files[i] for i in train_folds])\n",
    "                val_data = self.load_fold_data([self.fold_files[val_fold]])\n",
    "    \n",
    "                print(f\"Train images: {len(train_data)}, Val images: {len(val_data)}\")\n",
    "    \n",
    "                self.process_dataset(train_data, img_train, lbl_train)\n",
    "                self.process_dataset(val_data, img_val, lbl_val)\n",
    "                self.create_data_yaml_for_size(size_dir)\n",
    "                print(f\"✅ Dataset ready at: {size_dir}\")\n",
    "            else:\n",
    "                print(f\"✅ {size_dir} already complete. Skipping...\")\n"
   ]
  },
  {
   "cell_type": "markdown",
   "id": "97e9ec71",
   "metadata": {
    "jp-MarkdownHeadingCollapsed": true
   },
   "source": [
    "## Download data"
   ]
  },
  {
   "cell_type": "markdown",
   "id": "4a4f7500",
   "metadata": {
    "jp-MarkdownHeadingCollapsed": true
   },
   "source": [
    "### Session"
   ]
  },
  {
   "cell_type": "code",
   "execution_count": 21,
   "id": "db8057e7",
   "metadata": {},
   "outputs": [],
   "source": [
    "session = requests.Session()\n",
    "session.headers.update({\n",
    "    \"User-Agent\": \"Mozilla/5.0\",\n",
    "    \"Referer\": BASE_URL\n",
    "})"
   ]
  },
  {
   "cell_type": "markdown",
   "id": "86127659",
   "metadata": {
    "jp-MarkdownHeadingCollapsed": true
   },
   "source": [
    "### Folds"
   ]
  },
  {
   "cell_type": "code",
   "execution_count": 22,
   "id": "b91f624d",
   "metadata": {},
   "outputs": [
    {
     "name": "stdout",
     "output_type": "stream",
     "text": [
      "data/fold_0_data.txt already exist\n",
      "data/fold_1_data.txt already exist\n",
      "data/fold_2_data.txt already exist\n",
      "data/fold_3_data.txt already exist\n",
      "data/fold_4_data.txt already exist\n"
     ]
    }
   ],
   "source": [
    "fold_files = [f\"fold_{i}_data.txt\" for i in range(5)]\n",
    "\n",
    "for fname in fold_files:\n",
    "    url = BASE_URL + fname\n",
    "    dest = os.path.join(DATA_DIR, fname)\n",
    "    \n",
    "    if os.path.exists(dest):\n",
    "        print(f\"{dest} already exist\")\n",
    "        continue\n",
    "\n",
    "    print(f\"Downloading {url}\")\n",
    "    \n",
    "    response = session.get(url, auth=HTTPBasicAuth(USERNAME, PASSWORD))\n",
    "    \n",
    "    if response.status_code == 200:\n",
    "        with open(dest, 'wb') as f:\n",
    "            f.write(response.content)\n",
    "        print(f\"Saved: {dest}\")\n",
    "    else:\n",
    "        print(f\"Failed: {url} (Status: {response.status_code})\")"
   ]
  },
  {
   "cell_type": "markdown",
   "id": "d213737f",
   "metadata": {
    "jp-MarkdownHeadingCollapsed": true
   },
   "source": [
    "### Faces"
   ]
  },
  {
   "cell_type": "code",
   "execution_count": 23,
   "id": "b7ddab81",
   "metadata": {},
   "outputs": [
    {
     "name": "stdout",
     "output_type": "stream",
     "text": [
      "data/faces.tar.gz already exist\n"
     ]
    }
   ],
   "source": [
    "if not os.path.exists(ARCHIVE_PATH):\n",
    "    print(f\"\\nDownloading archive: {ARCHIVE_URL}\")\n",
    "    response = session.get(ARCHIVE_URL, auth=HTTPBasicAuth(USERNAME, PASSWORD), stream=True)\n",
    "\n",
    "    if response.status_code == 200:\n",
    "        total_size = int(response.headers.get('content-length', 0))\n",
    "        chunk_size = 8192\n",
    "\n",
    "        with open(ARCHIVE_PATH, 'wb') as f, tqdm(\n",
    "            desc=\"Downloading faces.tar.gz\",\n",
    "            total=total_size,\n",
    "            unit='B',\n",
    "            unit_scale=True,\n",
    "            unit_divisor=1024,\n",
    "        ) as bar:\n",
    "            for chunk in response.iter_content(chunk_size=chunk_size):\n",
    "                if chunk:\n",
    "                    f.write(chunk)\n",
    "                    bar.update(len(chunk))\n",
    "        \n",
    "        print(f\"Downloaded: {ARCHIVE_PATH}\")\n",
    "    else:\n",
    "        print(f\"Failed to download archive (Status: {response.status_code})\")\n",
    "else:\n",
    "    print(f\"{ARCHIVE_PATH} already exist\")"
   ]
  },
  {
   "cell_type": "markdown",
   "id": "b8bfac65",
   "metadata": {},
   "source": [
    "### Haar Cascade"
   ]
  },
  {
   "cell_type": "code",
   "execution_count": 24,
   "id": "30db7e0e",
   "metadata": {},
   "outputs": [
    {
     "name": "stdout",
     "output_type": "stream",
     "text": [
      "Cascade file already exists: data/haarcascades/haarcascade_frontalface_default.xml\n"
     ]
    }
   ],
   "source": [
    "if not os.path.exists(CASCADE_PATH):\n",
    "    print(f\"\\nDownloading Haar cascade: {CASCADE_FILENAME}\")\n",
    "    try:\n",
    "        response = requests.get(CASCADE_URL, stream=True)\n",
    "        if response.status_code == 200:\n",
    "            with open(CASCADE_PATH, 'wb') as f:\n",
    "                for chunk in response.iter_content(chunk_size=8192):\n",
    "                    f.write(chunk)\n",
    "            print(f\"Downloaded cascade file to: {CASCADE_PATH}\")\n",
    "        else:\n",
    "            print(f\"Failed to download cascade file (Status: {response.status_code})\")\n",
    "    except Exception as e:\n",
    "        print(f\"Error downloading cascade file: {e}\")\n",
    "else:\n",
    "    print(f\"Cascade file already exists: {CASCADE_PATH}\")"
   ]
  },
  {
   "cell_type": "markdown",
   "id": "9fc9762e",
   "metadata": {
    "jp-MarkdownHeadingCollapsed": true
   },
   "source": [
    "## Preprocess data"
   ]
  },
  {
   "cell_type": "code",
   "execution_count": 25,
   "id": "9987cb68",
   "metadata": {},
   "outputs": [],
   "source": [
    "creator = FaceAgeDatasetCreator(\n",
    "    base_dir=DATA_DIR,\n",
    "    img_size=[640, 416, 320],\n",
    "    max_workers=NUM_WORKERS\n",
    ")"
   ]
  },
  {
   "cell_type": "markdown",
   "id": "fe056897",
   "metadata": {},
   "source": [
    "### Folds"
   ]
  },
  {
   "cell_type": "code",
   "execution_count": 26,
   "id": "18f06ed6",
   "metadata": {},
   "outputs": [
    {
     "name": "stdout",
     "output_type": "stream",
     "text": [
      "Looking for fold files: ['data/fold_0_data.txt', 'data/fold_1_data.txt', 'data/fold_2_data.txt', 'data/fold_3_data.txt', 'data/fold_4_data.txt']\n"
     ]
    }
   ],
   "source": [
    "fold_files = creator.fold_files\n",
    "print(f\"Looking for fold files: {fold_files}\")"
   ]
  },
  {
   "cell_type": "code",
   "execution_count": 27,
   "id": "0834b9a4",
   "metadata": {},
   "outputs": [
    {
     "name": "stdout",
     "output_type": "stream",
     "text": [
      "Loaded 17411 records from fold files\n"
     ]
    }
   ],
   "source": [
    "data = creator.load_fold_data()\n",
    "print(f\"Loaded {len(data)} records from fold files\")"
   ]
  },
  {
   "cell_type": "code",
   "execution_count": 28,
   "id": "3e6e4d25",
   "metadata": {},
   "outputs": [
    {
     "name": "stdout",
     "output_type": "stream",
     "text": [
      "\n",
      "Sample data:\n"
     ]
    },
    {
     "data": {
      "text/html": [
       "<div>\n",
       "<style scoped>\n",
       "    .dataframe tbody tr th:only-of-type {\n",
       "        vertical-align: middle;\n",
       "    }\n",
       "\n",
       "    .dataframe tbody tr th {\n",
       "        vertical-align: top;\n",
       "    }\n",
       "\n",
       "    .dataframe thead th {\n",
       "        text-align: right;\n",
       "    }\n",
       "</style>\n",
       "<table border=\"1\" class=\"dataframe\">\n",
       "  <thead>\n",
       "    <tr style=\"text-align: right;\">\n",
       "      <th></th>\n",
       "      <th>user_id</th>\n",
       "      <th>original_image</th>\n",
       "      <th>face_id</th>\n",
       "      <th>age</th>\n",
       "      <th>gender</th>\n",
       "      <th>x</th>\n",
       "      <th>y</th>\n",
       "      <th>dx</th>\n",
       "      <th>dy</th>\n",
       "      <th>tilt_ang</th>\n",
       "      <th>fiducial_yaw_angle</th>\n",
       "      <th>fiducial_score</th>\n",
       "      <th>age_class</th>\n",
       "    </tr>\n",
       "  </thead>\n",
       "  <tbody>\n",
       "    <tr>\n",
       "      <th>0</th>\n",
       "      <td>30601258@N03</td>\n",
       "      <td>10399646885_67c7d20df9_o.jpg</td>\n",
       "      <td>1</td>\n",
       "      <td>(25, 32)</td>\n",
       "      <td>f</td>\n",
       "      <td>0</td>\n",
       "      <td>414</td>\n",
       "      <td>1086</td>\n",
       "      <td>1383</td>\n",
       "      <td>-115</td>\n",
       "      <td>30</td>\n",
       "      <td>17</td>\n",
       "      <td>4</td>\n",
       "    </tr>\n",
       "    <tr>\n",
       "      <th>1</th>\n",
       "      <td>30601258@N03</td>\n",
       "      <td>10424815813_e94629b1ec_o.jpg</td>\n",
       "      <td>2</td>\n",
       "      <td>(25, 32)</td>\n",
       "      <td>m</td>\n",
       "      <td>301</td>\n",
       "      <td>105</td>\n",
       "      <td>640</td>\n",
       "      <td>641</td>\n",
       "      <td>0</td>\n",
       "      <td>0</td>\n",
       "      <td>94</td>\n",
       "      <td>4</td>\n",
       "    </tr>\n",
       "    <tr>\n",
       "      <th>2</th>\n",
       "      <td>30601258@N03</td>\n",
       "      <td>10437979845_5985be4b26_o.jpg</td>\n",
       "      <td>1</td>\n",
       "      <td>(25, 32)</td>\n",
       "      <td>f</td>\n",
       "      <td>2395</td>\n",
       "      <td>876</td>\n",
       "      <td>771</td>\n",
       "      <td>771</td>\n",
       "      <td>175</td>\n",
       "      <td>-30</td>\n",
       "      <td>74</td>\n",
       "      <td>4</td>\n",
       "    </tr>\n",
       "    <tr>\n",
       "      <th>3</th>\n",
       "      <td>30601258@N03</td>\n",
       "      <td>10437979845_5985be4b26_o.jpg</td>\n",
       "      <td>3</td>\n",
       "      <td>(25, 32)</td>\n",
       "      <td>m</td>\n",
       "      <td>752</td>\n",
       "      <td>1255</td>\n",
       "      <td>484</td>\n",
       "      <td>485</td>\n",
       "      <td>180</td>\n",
       "      <td>0</td>\n",
       "      <td>47</td>\n",
       "      <td>4</td>\n",
       "    </tr>\n",
       "    <tr>\n",
       "      <th>4</th>\n",
       "      <td>30601258@N03</td>\n",
       "      <td>11816644924_075c3d8d59_o.jpg</td>\n",
       "      <td>2</td>\n",
       "      <td>(25, 32)</td>\n",
       "      <td>m</td>\n",
       "      <td>175</td>\n",
       "      <td>80</td>\n",
       "      <td>769</td>\n",
       "      <td>768</td>\n",
       "      <td>-75</td>\n",
       "      <td>0</td>\n",
       "      <td>34</td>\n",
       "      <td>4</td>\n",
       "    </tr>\n",
       "  </tbody>\n",
       "</table>\n",
       "</div>"
      ],
      "text/plain": [
       "        user_id                original_image face_id       age gender     x  \\\n",
       "0  30601258@N03  10399646885_67c7d20df9_o.jpg       1  (25, 32)      f     0   \n",
       "1  30601258@N03  10424815813_e94629b1ec_o.jpg       2  (25, 32)      m   301   \n",
       "2  30601258@N03  10437979845_5985be4b26_o.jpg       1  (25, 32)      f  2395   \n",
       "3  30601258@N03  10437979845_5985be4b26_o.jpg       3  (25, 32)      m   752   \n",
       "4  30601258@N03  11816644924_075c3d8d59_o.jpg       2  (25, 32)      m   175   \n",
       "\n",
       "      y    dx    dy tilt_ang fiducial_yaw_angle fiducial_score  age_class  \n",
       "0   414  1086  1383     -115                 30             17          4  \n",
       "1   105   640   641        0                  0             94          4  \n",
       "2   876   771   771      175                -30             74          4  \n",
       "3  1255   484   485      180                  0             47          4  \n",
       "4    80   769   768      -75                  0             34          4  "
      ]
     },
     "metadata": {},
     "output_type": "display_data"
    },
    {
     "data": {
      "image/png": "[encoded data removed]",
      "text/plain": [
       "<Figure size 1200x600 with 1 Axes>"
      ]
     },
     "metadata": {},
     "output_type": "display_data"
    }
   ],
   "source": [
    "if len(data) > 0:\n",
    "    print(\"\\nSample data:\")\n",
    "    display(data.head())\n",
    "    \n",
    "    # Show age distribution\n",
    "    plt.figure(figsize=(12, 6))\n",
    "    data['age_class'].value_counts().sort_index().plot(kind='bar')\n",
    "    plt.title('Distribution of Age Classes')\n",
    "    plt.xlabel('Age Class')\n",
    "    plt.ylabel('Count')\n",
    "    plt.xticks(rotation=0)\n",
    "    plt.grid(axis='y', alpha=0.3)\n",
    "    plt.show()"
   ]
  },
  {
   "cell_type": "markdown",
   "id": "6e38d5f4",
   "metadata": {},
   "source": [
    "### Extract faces"
   ]
  },
  {
   "cell_type": "code",
   "execution_count": 29,
   "id": "6d2f0e6a",
   "metadata": {},
   "outputs": [
    {
     "name": "stdout",
     "output_type": "stream",
     "text": [
      "data/faces already exists. Skipping extraction.\n"
     ]
    }
   ],
   "source": [
    "creator.extract_faces_archive()"
   ]
  },
  {
   "cell_type": "markdown",
   "id": "cd965645",
   "metadata": {},
   "source": [
    "### Generate dataset"
   ]
  },
  {
   "cell_type": "code",
   "execution_count": 30,
   "id": "62c34e0f",
   "metadata": {},
   "outputs": [
    {
     "name": "stdout",
     "output_type": "stream",
     "text": [
      "✅ data/age_dataset/size_640 already complete. Skipping...\n",
      "✅ data/age_dataset/size_416 already complete. Skipping...\n",
      "✅ data/age_dataset/size_320 already complete. Skipping...\n"
     ]
    }
   ],
   "source": [
    "creator.create_yolo_dataset(train_folds=[0, 1, 2, 3], val_fold=4)"
   ]
  },
  {
   "cell_type": "markdown",
   "id": "a72a9820",
   "metadata": {},
   "source": [
    "## Hyperparameter tuning"
   ]
  },
  {
   "cell_type": "code",
   "execution_count": null,
   "id": "613099b5-abe6-48b8-be3f-759125dacd2e",
   "metadata": {},
   "outputs": [
    {
     "name": "stdout",
     "output_type": "stream",
     "text": [
      "\n",
      "📂 Evaluating dataset: data/age_dataset/size_320/data.yaml\n",
      "\n",
      "====================================================================================================\n",
      "🧪 Tuning: YOLOv8-n on dataset size_320 (320px)\n",
      "====================================================================================================\n",
      "⏩ Skipping tuning: 5 completed trials already (target was 5).\n",
      "\n",
      "✅ Best result for YOLOv8-n (320px): 0.2749\n",
      "\n",
      "====================================================================================================\n",
      "🧪 Tuning: YOLOv8-s on dataset size_320 (320px)\n",
      "====================================================================================================\n"
     ]
    },
    {
     "name": "stderr",
     "output_type": "stream",
     "text": [
      "[I 2025-04-27 11:16:48,834] A new study created in RDB with name: yolo_v8m_img320\n"
     ]
    },
    {
     "name": "stdout",
     "output_type": "stream",
     "text": [
      "⏩ Skipping tuning: 5 completed trials already (target was 5).\n",
      "\n",
      "✅ Best result for YOLOv8-s (320px): 0.4071\n",
      "\n",
      "====================================================================================================\n",
      "🧪 Tuning: YOLOv8-m on dataset size_320 (320px)\n",
      "====================================================================================================\n",
      "🔄 Starting/resuming tuning: 5 trials needed.\n",
      "New https://pypi.org/project/ultralytics/8.3.118 available 😃 Update with 'pip install -U ultralytics'\n",
      "Ultralytics 8.3.105 🚀 Python-3.10.17 torch-2.7.0+cu126 CUDA:0 (NVIDIA A100 80GB PCIe MIG 1g.20gb, 19968MiB)\n",
      "\u001b[34m\u001b[1mengine/trainer: \u001b[0mtask=detect, mode=train, model=yolov8m.pt, data=data/age_dataset/size_320/data.yaml, epochs=10, time=None, patience=100, batch=32, imgsz=320, save=True, save_period=-1, cache=disk, device=0, workers=1, project=None, name=train40, exist_ok=False, pretrained=True, optimizer=AdamW, verbose=False, seed=0, deterministic=True, single_cls=False, rect=False, cos_lr=False, close_mosaic=10, resume=False, amp=True, fraction=1.0, profile=False, freeze=None, multi_scale=False, overlap_mask=True, mask_ratio=4, dropout=0.0, val=True, split=val, save_json=False, conf=None, iou=0.7, max_det=300, half=False, dnn=False, plots=True, source=None, vid_stride=1, stream_buffer=False, visualize=False, augment=False, agnostic_nms=False, classes=None, retina_masks=False, embed=None, show=False, save_frames=False, save_txt=False, save_conf=False, save_crop=False, show_labels=True, show_conf=True, show_boxes=True, line_width=None, format=torchscript, keras=False, optimize=False, int8=False, dynamic=False, simplify=True, opset=None, workspace=None, nms=False, lr0=0.00012755230594933627, lrf=0.12776246423021145, momentum=0.8747022925801999, weight_decay=0.0009060976022691557, warmup_epochs=4, warmup_momentum=0.6708189967874958, warmup_bias_lr=0.1, box=0.20272010900625403, cls=0.7705311360370536, dfl=1.5, pose=12.0, kobj=1.0, nbs=64, hsv_h=0.24226262714956648, hsv_s=0.5983455087402605, hsv_v=0.19608574267326995, degrees=11.472772269759338, translate=0.2017884091874339, scale=0.44182292143580726, shear=0.0, perspective=0.0, flipud=0.9768602291041014, fliplr=0.9057122420507188, bgr=0.6962177417732959, mosaic=1.0, mixup=0.4936157360282205, copy_paste=0.0, copy_paste_mode=flip, auto_augment=randaugment, erasing=0.4, crop_fraction=1.0, cfg=None, tracker=botsort.yaml, save_dir=runs/detect/train40\n",
      "Overriding model.yaml nc=80 with nc=8\n",
      "\n",
      "                   from  n    params  module                                       arguments                     \n",
      "  0                  -1  1      1392  ultralytics.nn.modules.conv.Conv             [3, 48, 3, 2]                 \n",
      "  1                  -1  1     41664  ultralytics.nn.modules.conv.Conv             [48, 96, 3, 2]                \n",
      "  2                  -1  2    111360  ultralytics.nn.modules.block.C2f             [96, 96, 2, True]             \n",
      "  3                  -1  1    166272  ultralytics.nn.modules.conv.Conv             [96, 192, 3, 2]               \n",
      "  4                  -1  4    813312  ultralytics.nn.modules.block.C2f             [192, 192, 4, True]           \n",
      "  5                  -1  1    664320  ultralytics.nn.modules.conv.Conv             [192, 384, 3, 2]              \n",
      "  6                  -1  4   3248640  ultralytics.nn.modules.block.C2f             [384, 384, 4, True]           \n",
      "  7                  -1  1   1991808  ultralytics.nn.modules.conv.Conv             [384, 576, 3, 2]              \n",
      "  8                  -1  2   3985920  ultralytics.nn.modules.block.C2f             [576, 576, 2, True]           \n",
      "  9                  -1  1    831168  ultralytics.nn.modules.block.SPPF            [576, 576, 5]                 \n",
      " 10                  -1  1         0  torch.nn.modules.upsampling.Upsample         [None, 2, 'nearest']          \n",
      " 11             [-1, 6]  1         0  ultralytics.nn.modules.conv.Concat           [1]                           \n",
      " 12                  -1  2   1993728  ultralytics.nn.modules.block.C2f             [960, 384, 2]                 \n",
      " 13                  -1  1         0  torch.nn.modules.upsampling.Upsample         [None, 2, 'nearest']          \n",
      " 14             [-1, 4]  1         0  ultralytics.nn.modules.conv.Concat           [1]                           \n",
      " 15                  -1  2    517632  ultralytics.nn.modules.block.C2f             [576, 192, 2]                 \n",
      " 16                  -1  1    332160  ultralytics.nn.modules.conv.Conv             [192, 192, 3, 2]              \n",
      " 17            [-1, 12]  1         0  ultralytics.nn.modules.conv.Concat           [1]                           \n",
      " 18                  -1  2   1846272  ultralytics.nn.modules.block.C2f             [576, 384, 2]                 \n",
      " 19                  -1  1   1327872  ultralytics.nn.modules.conv.Conv             [384, 384, 3, 2]              \n",
      " 20             [-1, 9]  1         0  ultralytics.nn.modules.conv.Concat           [1]                           \n",
      " 21                  -1  2   4207104  ultralytics.nn.modules.block.C2f             [960, 576, 2]                 \n",
      " 22        [15, 18, 21]  1   3780328  ultralytics.nn.modules.head.Detect           [8, [192, 384, 576]]          \n"
     ]
    }
   ],
   "source": [
    "run_all_datasets_optuna_and_training(\n",
    "    base_dataset_dir='data/age_dataset',\n",
    "    model_sizes=MODEL_SIZES,\n",
    "    model_versions=MODEL_VERSIONS, \n",
    "    image_sizes=IMAGE_SIZES,\n",
    "    n_trials=5, # per combination\n",
    "    epochs_per_trial=10,\n",
    "    final_epochs=100,\n",
    "    device='0',\n",
    "    output_base='runs/age_exp'\n",
    ")"
   ]
  }
 ],
 "metadata": {
  "kernelspec": {
   "display_name": "Python (yoloenv)",
   "language": "python",
   "name": "yoloenv"
  },
  "language_info": {
   "codemirror_mode": {
    "name": "ipython",
    "version": 3
   },
   "file_extension": ".py",
   "mimetype": "text/x-python",
   "name": "python",
   "nbconvert_exporter": "python",
   "pygments_lexer": "ipython3",
   "version": "3.10.17"
  },
  "widgets": {
   "application/vnd.jupyter.widget-state+json": {
    "state": {},
    "version_major": 2,
    "version_minor": 0
   }
  }
 },
 "nbformat": 4,
 "nbformat_minor": 5
}
